{
 "cells": [
  {
   "cell_type": "markdown",
   "id": "70b06edd",
   "metadata": {},
   "source": [
    "## Assignment 25"
   ]
  },
  {
   "cell_type": "markdown",
   "id": "df3f362b",
   "metadata": {},
   "source": [
    "**Q.1.** What is the difference between enclosing a list comprehension in square brackets and\n",
    "parentheses?"
   ]
  },
  {
   "cell_type": "markdown",
   "id": "84bd4ece",
   "metadata": {},
   "source": [
    "**Answer :-**"
   ]
  },
  {
   "cell_type": "markdown",
   "id": "bedc9e83",
   "metadata": {},
   "source": [
    "The difference between enclosing a list comprehension in square brackets and parentheses is :\n",
    "\n",
    "- List Comprehension with square brackets produces list.\n",
    "- List Comprehension with parentheses creates generators."
   ]
  },
  {
   "cell_type": "markdown",
   "id": "7751c0a1",
   "metadata": {},
   "source": [
    "**Example :-**"
   ]
  },
  {
   "cell_type": "code",
   "execution_count": 1,
   "id": "cc8c7826",
   "metadata": {},
   "outputs": [
    {
     "data": {
      "text/plain": [
       "[0, 1, 2, 3, 4, 5, 6, 7]"
      ]
     },
     "execution_count": 1,
     "metadata": {},
     "output_type": "execute_result"
    }
   ],
   "source": [
    "lstSquare = [i for i in range(8)]\n",
    "lstSquare"
   ]
  },
  {
   "cell_type": "markdown",
   "id": "5dc5c6a8",
   "metadata": {},
   "source": [
    "If you are familiar with list comprehensions, then this look likes it might create a tuple which is (1,2,3,4,....), but  \n",
    "It is actually a generator expression - this expression is a one time only iterator which will yield the values 1, 2, 3, 4.... in that order."
   ]
  },
  {
   "cell_type": "code",
   "execution_count": 2,
   "id": "43f40136",
   "metadata": {},
   "outputs": [
    {
     "data": {
      "text/plain": [
       "<generator object <genexpr> at 0x0000021019EAC0B0>"
      ]
     },
     "execution_count": 2,
     "metadata": {},
     "output_type": "execute_result"
    }
   ],
   "source": [
    "lstParanthesis = (i for i in range(8))\n",
    "lstParanthesis"
   ]
  },
  {
   "cell_type": "code",
   "execution_count": 3,
   "id": "b6809c18",
   "metadata": {},
   "outputs": [
    {
     "data": {
      "text/plain": [
       "[0, 1, 2, 3, 4, 5, 6, 7]"
      ]
     },
     "execution_count": 3,
     "metadata": {},
     "output_type": "execute_result"
    }
   ],
   "source": [
    "list(lstParanthesis)"
   ]
  },
  {
   "cell_type": "markdown",
   "id": "74ca7fec",
   "metadata": {},
   "source": [
    "**Q.2.** What is the relationship between generators and iterators?"
   ]
  },
  {
   "cell_type": "markdown",
   "id": "723960bb",
   "metadata": {},
   "source": [
    "**Answer :-**"
   ]
  },
  {
   "cell_type": "markdown",
   "id": "4cfaf433",
   "metadata": {},
   "source": [
    "The relationship between generators and iterators is :\n",
    "\n",
    "- Generators simplifies creation of iterators.\n",
    "- Generator is a function that generates a sequence of results instead of a single value. \n",
    "- When yield statement is executed the function generates a next value in a list.\n",
    "- Generator is also an iterator but don’t have to worry about the iterator protocol."
   ]
  },
  {
   "cell_type": "markdown",
   "id": "b859390a",
   "metadata": {},
   "source": [
    "**Example :-**"
   ]
  },
  {
   "cell_type": "code",
   "execution_count": 4,
   "id": "442a4b8c",
   "metadata": {},
   "outputs": [
    {
     "name": "stdout",
     "output_type": "stream",
     "text": [
      "Pigeon\n",
      "Sparrow\n",
      "Parrot\n"
     ]
    }
   ],
   "source": [
    "# Iterator Example :\n",
    "\n",
    "iter_list = iter(['Pigeon', 'Sparrow', 'Parrot'])\n",
    "print(next(iter_list))\n",
    "print(next(iter_list))\n",
    "print(next(iter_list))"
   ]
  },
  {
   "cell_type": "code",
   "execution_count": 5,
   "id": "4c940d28",
   "metadata": {},
   "outputs": [
    {
     "name": "stdout",
     "output_type": "stream",
     "text": [
      "The square of numbers 1,2,3 are : \n",
      "1\n",
      "4\n",
      "9\n"
     ]
    }
   ],
   "source": [
    "# Generator example :\n",
    "\n",
    "def CubeNumbers(n):\n",
    "    for i in range(1, n+1):\n",
    "        yield i*i\n",
    "\n",
    "a = CubeNumbers(3)\n",
    "  \n",
    "print(\"The square of numbers 1,2,3 are : \")\n",
    "print(next(a))\n",
    "print(next(a))\n",
    "print(next(a))"
   ]
  },
  {
   "cell_type": "markdown",
   "id": "9098cb09",
   "metadata": {},
   "source": [
    "**Q.3.** What are the signs that a function is a generator function?"
   ]
  },
  {
   "cell_type": "markdown",
   "id": "126773cf",
   "metadata": {},
   "source": [
    "**Answer :-**"
   ]
  },
  {
   "cell_type": "markdown",
   "id": "940a7bde",
   "metadata": {},
   "source": [
    "If a function contains yield statement (it may contain other yield or return statements), it is called a generator function."
   ]
  },
  {
   "cell_type": "markdown",
   "id": "18ebca8f",
   "metadata": {},
   "source": [
    "**Q.4.** What is the purpose of a yield statement?"
   ]
  },
  {
   "cell_type": "markdown",
   "id": "33419b81",
   "metadata": {},
   "source": [
    "**Answer :-**"
   ]
  },
  {
   "cell_type": "markdown",
   "id": "f253842c",
   "metadata": {},
   "source": [
    "A yield statement looks much like a return statement, except that instead of stopping execution of the function and returning.  \n",
    "Yield instead provides a value to the code looping over the generator and pauses execution of the generator function."
   ]
  },
  {
   "cell_type": "markdown",
   "id": "ab23c733",
   "metadata": {},
   "source": [
    "**Q.5.** What is the relationship between map calls and list comprehensions? Make a comparison and\n",
    "contrast between the two."
   ]
  },
  {
   "cell_type": "markdown",
   "id": "e8191655",
   "metadata": {},
   "source": [
    "**Answer :-**"
   ]
  },
  {
   "cell_type": "markdown",
   "id": "6886ac4e",
   "metadata": {},
   "source": [
    "List comprehension are used when a list of results is required as map only returns a map object and does not return any list.   \n",
    "List comprehension is faster than map when we need to evaluate expressions that are too long or complicated to express.  \n",
    "Map is faster in case of calling an already defined function (as no lambda is required)."
   ]
  }
 ],
 "metadata": {
  "kernelspec": {
   "display_name": "Python 3",
   "language": "python",
   "name": "python3"
  },
  "language_info": {
   "codemirror_mode": {
    "name": "ipython",
    "version": 3
   },
   "file_extension": ".py",
   "mimetype": "text/x-python",
   "name": "python",
   "nbconvert_exporter": "python",
   "pygments_lexer": "ipython3",
   "version": "3.8.8"
  }
 },
 "nbformat": 4,
 "nbformat_minor": 5
}
