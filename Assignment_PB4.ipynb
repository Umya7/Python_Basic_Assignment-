{
 "cells": [
  {
   "cell_type": "markdown",
   "id": "6f5d371d",
   "metadata": {},
   "source": [
    "## Assignment 4"
   ]
  },
  {
   "cell_type": "markdown",
   "id": "b75cf8aa",
   "metadata": {},
   "source": [
    "**Q.1.** What exactly is [ ]?"
   ]
  },
  {
   "cell_type": "markdown",
   "id": "2c3a0563",
   "metadata": {},
   "source": [
    "**Answer :-**"
   ]
  },
  {
   "cell_type": "markdown",
   "id": "aaa7cb5d",
   "metadata": {},
   "source": [
    "`[]` represents an empty list in Python. Which is a list value that contains no items."
   ]
  },
  {
   "cell_type": "markdown",
   "id": "60f54f67",
   "metadata": {},
   "source": [
    "**Example :-**"
   ]
  },
  {
   "cell_type": "code",
   "execution_count": 1,
   "id": "a83ac6bd",
   "metadata": {},
   "outputs": [
    {
     "name": "stdout",
     "output_type": "stream",
     "text": [
      "<class 'list'>\n"
     ]
    }
   ],
   "source": [
    "a = []\n",
    "\n",
    "print(type(a))"
   ]
  },
  {
   "cell_type": "markdown",
   "id": "ffa61a1c",
   "metadata": {},
   "source": [
    "**Q.2.** In a list of values stored in a variable called spam, how would you assign the value &#39;hello&#39; as the\n",
    "third value? (Assume `[2, 4, 6, 8, 10]` are in spam.)"
   ]
  },
  {
   "cell_type": "markdown",
   "id": "5948f5fe",
   "metadata": {},
   "source": [
    "**Answer :-**"
   ]
  },
  {
   "cell_type": "code",
   "execution_count": 2,
   "id": "b32a7c66",
   "metadata": {},
   "outputs": [
    {
     "name": "stdout",
     "output_type": "stream",
     "text": [
      "Original list is : [2, 4, 6, 8, 10]\n",
      "Third value in list is : 6\n",
      "New list os spam becomes : [2, 4, 'hello', 8, 10]\n"
     ]
    }
   ],
   "source": [
    "# Assuming given spam\n",
    "\n",
    "spam = [2, 4, 6, 8, 10]\n",
    "\n",
    "# assign hello in third value\n",
    "\n",
    "print(f\"Original list is : {spam}\")\n",
    "print(f\"Third value in list is : {spam[2]}\")\n",
    "\n",
    "spam[2] = \"hello\"\n",
    "\n",
    "print(f\"New list os spam becomes : {spam}\")"
   ]
  },
  {
   "cell_type": "markdown",
   "id": "987251f4",
   "metadata": {},
   "source": [
    "**Let's pretend the spam includes the list `['a', 'b', 'c', 'd']` for the next three queries.**"
   ]
  },
  {
   "cell_type": "markdown",
   "id": "e2830767",
   "metadata": {},
   "source": [
    "**Q.3.** What is the value of `spam[int(int('3' * 2) / 11)]`?"
   ]
  },
  {
   "cell_type": "markdown",
   "id": "f8e67814",
   "metadata": {},
   "source": [
    "**Answer :-**"
   ]
  },
  {
   "cell_type": "markdown",
   "id": "7d663a0b",
   "metadata": {},
   "source": [
    "- Steps(In Background) :\n",
    "    * spam[int(int('3'*2)/11)]\n",
    "    * spam[int(int('33')/11)]\n",
    "    * spam[int(33/11)]\n",
    "    * spam[int(3.0)]\n",
    "    *spam[3] = 'd'"
   ]
  },
  {
   "cell_type": "code",
   "execution_count": 3,
   "id": "6af9f3d0",
   "metadata": {},
   "outputs": [
    {
     "data": {
      "text/plain": [
       "'d'"
      ]
     },
     "execution_count": 3,
     "metadata": {},
     "output_type": "execute_result"
    }
   ],
   "source": [
    "# Given spam is\n",
    "\n",
    "spam = ['a', 'b', 'c', 'd']\n",
    "\n",
    "spam[int(int('3' * 2) / 11)]"
   ]
  },
  {
   "cell_type": "markdown",
   "id": "c60d28d4",
   "metadata": {},
   "source": [
    "**Q.4.** What is the value of `spam[-1]`?"
   ]
  },
  {
   "cell_type": "markdown",
   "id": "6f81d6a3",
   "metadata": {},
   "source": [
    "**Answer :-**"
   ]
  },
  {
   "cell_type": "code",
   "execution_count": 4,
   "id": "29d0a0c6",
   "metadata": {},
   "outputs": [
    {
     "data": {
      "text/plain": [
       "'d'"
      ]
     },
     "execution_count": 4,
     "metadata": {},
     "output_type": "execute_result"
    }
   ],
   "source": [
    "# Given spam is\n",
    "\n",
    "spam = ['a', 'b', 'c', 'd']\n",
    "\n",
    "spam[-1] # negative index # d"
   ]
  },
  {
   "cell_type": "markdown",
   "id": "f1845916",
   "metadata": {},
   "source": [
    "**Q.5.** What is the value of `spam[:2]`?"
   ]
  },
  {
   "cell_type": "markdown",
   "id": "0e9e4dda",
   "metadata": {},
   "source": [
    "**Answer :-**"
   ]
  },
  {
   "cell_type": "code",
   "execution_count": 5,
   "id": "3c27ac5d",
   "metadata": {},
   "outputs": [
    {
     "data": {
      "text/plain": [
       "['a', 'b']"
      ]
     },
     "execution_count": 5,
     "metadata": {},
     "output_type": "execute_result"
    }
   ],
   "source": [
    "# Given spam is\n",
    "\n",
    "spam = ['a', 'b', 'c', 'd']\n",
    "\n",
    "spam[:2]"
   ]
  },
  {
   "cell_type": "markdown",
   "id": "3b9a2713",
   "metadata": {},
   "source": [
    "**Let's pretend bacon has the list `[3.14, 'cat', 11, 'cat', True]` for the next three questions.**"
   ]
  },
  {
   "cell_type": "markdown",
   "id": "740b6067",
   "metadata": {},
   "source": [
    "**Q.6.** What is the value of `bacon.index('cat')`?"
   ]
  },
  {
   "cell_type": "markdown",
   "id": "0c9764a2",
   "metadata": {},
   "source": [
    "**Answer :-**"
   ]
  },
  {
   "cell_type": "code",
   "execution_count": 6,
   "id": "a7f5b950",
   "metadata": {},
   "outputs": [
    {
     "data": {
      "text/plain": [
       "1"
      ]
     },
     "execution_count": 6,
     "metadata": {},
     "output_type": "execute_result"
    }
   ],
   "source": [
    "# Given bacon is\n",
    "\n",
    "bacon = [3.14, 'cat', 11, 'cat', True]\n",
    "\n",
    "bacon.index('cat') # it will return the index of first occurrence of 'cat'"
   ]
  },
  {
   "cell_type": "markdown",
   "id": "fa1d557b",
   "metadata": {},
   "source": [
    "**Q.7.** How does `bacon.append(99)` change the look of the list value in bacon?"
   ]
  },
  {
   "cell_type": "markdown",
   "id": "4f8bc1f2",
   "metadata": {},
   "source": [
    "**Answer :-**"
   ]
  },
  {
   "cell_type": "code",
   "execution_count": 7,
   "id": "cfe8fd50",
   "metadata": {},
   "outputs": [
    {
     "name": "stdout",
     "output_type": "stream",
     "text": [
      "Given list of bacon is : [3.14, 'cat', 11, 'cat', True]\n",
      "Updated list of bacon is : [3.14, 'cat', 11, 'cat', True, 99]\n"
     ]
    }
   ],
   "source": [
    "# Given bacon is\n",
    "\n",
    "bacon = [3.14, 'cat', 11, 'cat', True]\n",
    "\n",
    "print(f\"Given list of bacon is : {bacon}\")\n",
    "\n",
    "bacon.append(99) # append function add the new item at the end of list\n",
    "\n",
    "print(f\"Updated list of bacon is : {bacon}\")"
   ]
  },
  {
   "cell_type": "markdown",
   "id": "23da2296",
   "metadata": {},
   "source": [
    "**Q.8.** How does `bacon.remove('cat')` change the look of the list in bacon?"
   ]
  },
  {
   "cell_type": "markdown",
   "id": "79ace97e",
   "metadata": {},
   "source": [
    "**Answer :-**"
   ]
  },
  {
   "cell_type": "code",
   "execution_count": 8,
   "id": "ab99df0e",
   "metadata": {},
   "outputs": [
    {
     "name": "stdout",
     "output_type": "stream",
     "text": [
      "Given list of bacon is : [3.14, 'cat', 11, 'cat', True]\n",
      "Updated list of bacon is : [3.14, 11, 'cat', True]\n"
     ]
    }
   ],
   "source": [
    "# Given bacon is\n",
    "\n",
    "bacon = [3.14, 'cat', 11, 'cat', True]\n",
    "\n",
    "print(f\"Given list of bacon is : {bacon}\")\n",
    "\n",
    "bacon.remove('cat') # it will remove first occurrence of 'cat'\n",
    "\n",
    "print(f\"Updated list of bacon is : {bacon}\")"
   ]
  },
  {
   "cell_type": "markdown",
   "id": "67edac81",
   "metadata": {},
   "source": [
    "**Q.9** What are the list concatenation and list replication operators?"
   ]
  },
  {
   "cell_type": "markdown",
   "id": "e17efa77",
   "metadata": {},
   "source": [
    "**Answer :-**"
   ]
  },
  {
   "cell_type": "markdown",
   "id": "e947da1f",
   "metadata": {},
   "source": [
    "`*` : is list replication operatotor\n",
    "\n",
    "`+` : is list cancatination operator"
   ]
  },
  {
   "cell_type": "markdown",
   "id": "4053fe1f",
   "metadata": {},
   "source": [
    "**Example :-**"
   ]
  },
  {
   "cell_type": "code",
   "execution_count": 9,
   "id": "2ab429bd",
   "metadata": {},
   "outputs": [
    {
     "data": {
      "text/plain": [
       "['Hello!', 'This', 'is', 'my', 'fouth', 'Assignment']"
      ]
     },
     "execution_count": 9,
     "metadata": {},
     "output_type": "execute_result"
    }
   ],
   "source": [
    "# list concatenation\n",
    "\n",
    "list_A = ['Hello!', 'This', 'is', 'my']\n",
    "list_B = ['fouth', 'Assignment']\n",
    "\n",
    "list_A + list_B"
   ]
  },
  {
   "cell_type": "code",
   "execution_count": 10,
   "id": "79d20e98",
   "metadata": {},
   "outputs": [
    {
     "data": {
      "text/plain": [
       "['Hello!', 'Umesh', 'Hello!', 'Umesh', 'Hello!', 'Umesh']"
      ]
     },
     "execution_count": 10,
     "metadata": {},
     "output_type": "execute_result"
    }
   ],
   "source": [
    "# list replication\n",
    "\n",
    "list_A = ['Hello!', 'Umesh']\n",
    "\n",
    "list_A*3"
   ]
  },
  {
   "cell_type": "markdown",
   "id": "0e18325a",
   "metadata": {},
   "source": [
    "**Q.10** What is difference between the list methods `append()` and `insert()`?"
   ]
  },
  {
   "cell_type": "markdown",
   "id": "bc5f99ea",
   "metadata": {},
   "source": [
    "**Answer :-**"
   ]
  },
  {
   "cell_type": "markdown",
   "id": "0a63eabf",
   "metadata": {},
   "source": [
    "`append()` : Append inserts an element to the end of the list.\n",
    "    \n",
    "`insert()` : Insert method make use of index parameter to insert an element in the list."
   ]
  },
  {
   "cell_type": "markdown",
   "id": "e36829d0",
   "metadata": {},
   "source": [
    "**Example :-**"
   ]
  },
  {
   "cell_type": "code",
   "execution_count": 11,
   "id": "0b700885",
   "metadata": {},
   "outputs": [
    {
     "name": "stdout",
     "output_type": "stream",
     "text": [
      "Original List is : [7, 8, 1, 'Umesh', 'Prajapati', 9]\n",
      "Updated List is : [7, 8, 1, 'Umesh', 'Prajapati', 9, 6]\n",
      "Inserting value 0 at index no 0 position\n",
      "Updated List is : [0, 7, 8, 1, 'Umesh', 'Prajapati', 9, 6]\n"
     ]
    }
   ],
   "source": [
    "l = [7, 8, 1, 'Umesh', 'Prajapati', 9]\n",
    "\n",
    "l_append = 6\n",
    "l_insert = 0\n",
    "\n",
    "# append operation\n",
    "\n",
    "print(f\"Original List is : {l}\")\n",
    "l.append(l_append)\n",
    "print(f\"Updated List is : {l}\")\n",
    "\n",
    "# insert operation\n",
    "\n",
    "print(f\"Inserting value {l_insert} at index no 0 position\")\n",
    "l.insert(0, l_insert,)\n",
    "print(f\"Updated List is : {l}\")"
   ]
  },
  {
   "cell_type": "markdown",
   "id": "f498cb8b",
   "metadata": {},
   "source": [
    "**Q.11** What are the two methods for removing items from a list?"
   ]
  },
  {
   "cell_type": "markdown",
   "id": "21bd1402",
   "metadata": {},
   "source": [
    "**Answer :-**"
   ]
  },
  {
   "cell_type": "markdown",
   "id": "f0acfb2b",
   "metadata": {},
   "source": [
    "- In Python, use list methods `clear()`, `pop()`, and `remove()` to remove items (elements) from a list. It is also possible to delete items using `del` statement by specifying a position or range with an index or slice.\n",
    "\n",
    "    * Remove an item by value: `remove()`\n",
    "    * Remove an item by index and get its value: `pop()`\n",
    "    * Remove items by index or slice: `del`\n",
    "    * Remove all items: `clear()`   "
   ]
  },
  {
   "cell_type": "markdown",
   "id": "64be6b2d",
   "metadata": {},
   "source": [
    "**Example :-**"
   ]
  },
  {
   "cell_type": "code",
   "execution_count": 12,
   "id": "e2626b43",
   "metadata": {},
   "outputs": [
    {
     "data": {
      "text/plain": [
       "[3.14, 11, 'cat', True]"
      ]
     },
     "execution_count": 12,
     "metadata": {},
     "output_type": "execute_result"
    }
   ],
   "source": [
    "# using remove(value) method\n",
    "\n",
    "l1 = [3.14, 'cat', 11, 'cat', True]\n",
    "\n",
    "l1.remove('cat')\n",
    "l1"
   ]
  },
  {
   "cell_type": "code",
   "execution_count": 13,
   "id": "69b0c292",
   "metadata": {},
   "outputs": [
    {
     "data": {
      "text/plain": [
       "['cat', 11, 'cat', True]"
      ]
     },
     "execution_count": 13,
     "metadata": {},
     "output_type": "execute_result"
    }
   ],
   "source": [
    "# using pop(index) method\n",
    "\n",
    "l1 = [3.14, 'cat', 11, 'cat', True]\n",
    "\n",
    "l1.pop(0) #if index not provided its taking default as last value\n",
    "l1"
   ]
  },
  {
   "cell_type": "code",
   "execution_count": 14,
   "id": "080776d1",
   "metadata": {},
   "outputs": [
    {
     "data": {
      "text/plain": [
       "[11, 'cat', True]"
      ]
     },
     "execution_count": 14,
     "metadata": {},
     "output_type": "execute_result"
    }
   ],
   "source": [
    "# using del method\n",
    "\n",
    "l1 = [3.14, 'cat', 11, 'cat', True]\n",
    "\n",
    "del l1[0:2] # using index number we can remove value form list we can provide single index or range of index\n",
    "l1"
   ]
  },
  {
   "cell_type": "code",
   "execution_count": 15,
   "id": "6b659988",
   "metadata": {},
   "outputs": [
    {
     "data": {
      "text/plain": [
       "[]"
      ]
     },
     "execution_count": 15,
     "metadata": {},
     "output_type": "execute_result"
    }
   ],
   "source": [
    "# using clear() method\n",
    "\n",
    "l1 = [3.14, 'cat', 11, 'cat', True]\n",
    "\n",
    "l1.clear() #it will remove all the value from given list\n",
    "l1"
   ]
  },
  {
   "cell_type": "markdown",
   "id": "d5a6d5c4",
   "metadata": {},
   "source": [
    "**Q.12** Describe how list values and string values are identical."
   ]
  },
  {
   "cell_type": "markdown",
   "id": "da530ab8",
   "metadata": {},
   "source": [
    "**Answer :-**"
   ]
  },
  {
   "cell_type": "markdown",
   "id": "15ea85b5",
   "metadata": {},
   "source": [
    "- List values and String values are identical because :\n",
    "    \n",
    "    * Both lists and strings can be passed to len()\n",
    "    * Have indexes and slices\n",
    "    * Can be used in for loops\n",
    "    * Can be concatenated or replicated\n",
    "    * Can be used with the in and not in operators"
   ]
  },
  {
   "cell_type": "markdown",
   "id": "13a16b2d",
   "metadata": {},
   "source": [
    "**Example :-**"
   ]
  },
  {
   "cell_type": "code",
   "execution_count": 16,
   "id": "0ca7545d",
   "metadata": {},
   "outputs": [],
   "source": [
    "string = \"umesh\"\n",
    "list2 = ['u', 'm', 'e', 's', 'h']"
   ]
  },
  {
   "cell_type": "code",
   "execution_count": 17,
   "id": "e0437a18",
   "metadata": {},
   "outputs": [
    {
     "data": {
      "text/plain": [
       "(5, 5)"
      ]
     },
     "execution_count": 17,
     "metadata": {},
     "output_type": "execute_result"
    }
   ],
   "source": [
    "# using length method\n",
    "\n",
    "len(string), len(list2)"
   ]
  },
  {
   "cell_type": "code",
   "execution_count": 18,
   "id": "6f3ccecb",
   "metadata": {},
   "outputs": [
    {
     "data": {
      "text/plain": [
       "('ume', ['u', 'm', 'e'])"
      ]
     },
     "execution_count": 18,
     "metadata": {},
     "output_type": "execute_result"
    }
   ],
   "source": [
    "# slicing first 3 characters\n",
    "\n",
    "string[:3], list2[:3]"
   ]
  },
  {
   "cell_type": "code",
   "execution_count": 19,
   "id": "e4098ccf",
   "metadata": {},
   "outputs": [
    {
     "data": {
      "text/plain": [
       "(True, True)"
      ]
     },
     "execution_count": 19,
     "metadata": {},
     "output_type": "execute_result"
    }
   ],
   "source": [
    "# check if e in string and list\n",
    "\n",
    "'e' in string, 'e' in list2"
   ]
  },
  {
   "cell_type": "code",
   "execution_count": 20,
   "id": "cd88b964",
   "metadata": {},
   "outputs": [
    {
     "data": {
      "text/plain": [
       "('umeshp', ['u', 'm', 'e', 's', 'h', 'p'])"
      ]
     },
     "execution_count": 20,
     "metadata": {},
     "output_type": "execute_result"
    }
   ],
   "source": [
    "# concatination\n",
    "\n",
    "string + 'p', list2 + ['p']"
   ]
  },
  {
   "cell_type": "markdown",
   "id": "31844e01",
   "metadata": {},
   "source": [
    "**Q.13** What&#39;s the difference between tuples and lists?"
   ]
  },
  {
   "cell_type": "markdown",
   "id": "f7311754",
   "metadata": {},
   "source": [
    "**Answer :-**"
   ]
  },
  {
   "cell_type": "markdown",
   "id": "ea6bd931",
   "metadata": {},
   "source": [
    "| List | Tuple |\n",
    "| ---- | ---- |\n",
    "| Mutable, Values can be modified | Immutable, Values can't be modified |\n",
    "| Better for insertion and deletion | Better for accessing values |\n",
    "| Lists use the square brackets, [ ] | Tuples are written using parentheses, () |"
   ]
  },
  {
   "cell_type": "markdown",
   "id": "3265f552",
   "metadata": {},
   "source": [
    "**Example :-**"
   ]
  },
  {
   "cell_type": "code",
   "execution_count": 21,
   "id": "4a095750",
   "metadata": {},
   "outputs": [],
   "source": [
    "l3 = [2, 7, 8, 11, 5]\n",
    "t = (2, 7, 8, 11, 5)"
   ]
  },
  {
   "cell_type": "code",
   "execution_count": 22,
   "id": "08c83eee",
   "metadata": {},
   "outputs": [
    {
     "data": {
      "text/plain": [
       "[2, 7, 14, 11, 5]"
      ]
     },
     "execution_count": 22,
     "metadata": {},
     "output_type": "execute_result"
    }
   ],
   "source": [
    "l3[2] = 14\n",
    "l3"
   ]
  },
  {
   "cell_type": "code",
   "execution_count": 23,
   "id": "86ed0dce",
   "metadata": {},
   "outputs": [
    {
     "ename": "TypeError",
     "evalue": "'tuple' object does not support item assignment",
     "output_type": "error",
     "traceback": [
      "\u001b[1;31m---------------------------------------------------------------------------\u001b[0m",
      "\u001b[1;31mTypeError\u001b[0m                                 Traceback (most recent call last)",
      "\u001b[1;32m<ipython-input-23-fb37695c1bda>\u001b[0m in \u001b[0;36m<module>\u001b[1;34m\u001b[0m\n\u001b[1;32m----> 1\u001b[1;33m \u001b[0mt\u001b[0m\u001b[1;33m[\u001b[0m\u001b[1;36m2\u001b[0m\u001b[1;33m]\u001b[0m \u001b[1;33m=\u001b[0m \u001b[1;36m14\u001b[0m\u001b[1;33m\u001b[0m\u001b[1;33m\u001b[0m\u001b[0m\n\u001b[0m\u001b[0;32m      2\u001b[0m \u001b[0mt\u001b[0m\u001b[1;33m\u001b[0m\u001b[1;33m\u001b[0m\u001b[0m\n",
      "\u001b[1;31mTypeError\u001b[0m: 'tuple' object does not support item assignment"
     ]
    }
   ],
   "source": [
    "t[2] = 14\n",
    "t"
   ]
  },
  {
   "cell_type": "markdown",
   "id": "da1bbde6",
   "metadata": {},
   "source": [
    "**Q.14** How do you type a tuple value that only contains the integer 42?"
   ]
  },
  {
   "cell_type": "markdown",
   "id": "c272f57c",
   "metadata": {},
   "source": [
    "**Answer :-**"
   ]
  },
  {
   "cell_type": "code",
   "execution_count": 24,
   "id": "0b96c5e7",
   "metadata": {},
   "outputs": [
    {
     "data": {
      "text/plain": [
       "(42,)"
      ]
     },
     "execution_count": 24,
     "metadata": {},
     "output_type": "execute_result"
    }
   ],
   "source": [
    "t2 = (42,)\n",
    "t2"
   ]
  },
  {
   "cell_type": "code",
   "execution_count": 25,
   "id": "f6f4d2fd",
   "metadata": {},
   "outputs": [
    {
     "data": {
      "text/plain": [
       "tuple"
      ]
     },
     "execution_count": 25,
     "metadata": {},
     "output_type": "execute_result"
    }
   ],
   "source": [
    "type(t2)"
   ]
  },
  {
   "cell_type": "markdown",
   "id": "c5f10bef",
   "metadata": {},
   "source": [
    "**Q.15** How do you get a list value&#39;s tuple form? How do you get a tuple value&#39;s list form?"
   ]
  },
  {
   "cell_type": "markdown",
   "id": "98cdfb00",
   "metadata": {},
   "source": [
    "**Answer :-**"
   ]
  },
  {
   "cell_type": "code",
   "execution_count": 26,
   "id": "ae703c62",
   "metadata": {},
   "outputs": [
    {
     "data": {
      "text/plain": [
       "(2, 7, 8, 11, 5)"
      ]
     },
     "execution_count": 26,
     "metadata": {},
     "output_type": "execute_result"
    }
   ],
   "source": [
    "# list values to tuple form\n",
    "\n",
    "l4 = [2, 7, 8, 11, 5]\n",
    "\n",
    "l5 = tuple(l4)\n",
    "l5"
   ]
  },
  {
   "cell_type": "code",
   "execution_count": 27,
   "id": "ea7e741e",
   "metadata": {},
   "outputs": [
    {
     "data": {
      "text/plain": [
       "[2, 7, 8, 11, 5]"
      ]
     },
     "execution_count": 27,
     "metadata": {},
     "output_type": "execute_result"
    }
   ],
   "source": [
    "# tuple values to list form\n",
    "\n",
    "t1 = (2, 7, 8, 11, 5)\n",
    "\n",
    "t3 = list(t1)\n",
    "t3"
   ]
  },
  {
   "cell_type": "markdown",
   "id": "de62f1cc",
   "metadata": {},
   "source": [
    "**Q.16** Variables that &quot;contain&quot; list values are not necessarily lists themselves. Instead, what do they\n",
    "contain?"
   ]
  },
  {
   "cell_type": "markdown",
   "id": "05c441fa",
   "metadata": {},
   "source": [
    "**Answer :-**"
   ]
  },
  {
   "cell_type": "markdown",
   "id": "a4a736bd",
   "metadata": {},
   "source": [
    "Variables do not store values directly.\n",
    "\n",
    "Python variables work with references to objects representing the values.\n",
    "\n",
    "- For example, we have\n",
    "\n",
    "    * `A = [7, 5, 3]`\n",
    "\n",
    "Python creates a new reference for a to point at the object representing the value `[7, 5, 3]` in the memory."
   ]
  },
  {
   "cell_type": "markdown",
   "id": "f360aab2",
   "metadata": {},
   "source": [
    "**Q.17** How do you distinguish between `copy.copy()` and `copy.deepcopy()`?"
   ]
  },
  {
   "cell_type": "markdown",
   "id": "f7972bea",
   "metadata": {},
   "source": [
    "**Answer :-**"
   ]
  },
  {
   "cell_type": "markdown",
   "id": "0a8f8693",
   "metadata": {},
   "source": [
    "The `copy.copy()` function will do a shallow copy of a list.\n",
    "\n",
    "The `copy.deepcopy()` function will do a deep copy of a list.\n",
    "\n",
    "Only `copy.deepcopy()` will duplicate any lists inside the \n",
    "list."
   ]
  },
  {
   "cell_type": "markdown",
   "id": "3da732c3",
   "metadata": {},
   "source": [
    "**Example :-**"
   ]
  },
  {
   "cell_type": "code",
   "execution_count": 28,
   "id": "14ae2b05",
   "metadata": {},
   "outputs": [],
   "source": [
    "# import copy module\n",
    "\n",
    "import copy\n",
    "\n",
    "# initialize our list\n",
    "l = [1, [3, 5], 7]"
   ]
  },
  {
   "cell_type": "code",
   "execution_count": 29,
   "id": "ed9df0b2",
   "metadata": {},
   "outputs": [
    {
     "name": "stdout",
     "output_type": "stream",
     "text": [
      "1652391265856\n",
      "1652391639488\n",
      "1652390574656\n",
      "1652390574656\n"
     ]
    }
   ],
   "source": [
    "copy_l = copy.copy(l)\n",
    "\n",
    "print(id(l))\n",
    "print(id(copy_l))\n",
    "\n",
    "print(id(l[1]))\n",
    "print(id(copy_l[1]))"
   ]
  },
  {
   "cell_type": "markdown",
   "id": "119e80c8",
   "metadata": {},
   "source": [
    "`copy_l` becomes new object but `l[1]` is same object as `copy_l[1]`"
   ]
  },
  {
   "cell_type": "code",
   "execution_count": 30,
   "id": "fbc1f58a",
   "metadata": {},
   "outputs": [
    {
     "name": "stdout",
     "output_type": "stream",
     "text": [
      "1652391265856\n",
      "1652391639744\n",
      "1652390574656\n",
      "1652391639680\n"
     ]
    }
   ],
   "source": [
    "deepcopy_l = copy.deepcopy(l)\n",
    "\n",
    "print(id(l))\n",
    "print(id(deepcopy_l))\n",
    "\n",
    "print(id(l[1]))\n",
    "print(id(deepcopy_l[1]))"
   ]
  },
  {
   "cell_type": "markdown",
   "id": "4e3ff212",
   "metadata": {},
   "source": [
    "`deepcopy_l` becomes new object and `l[1]` is new object"
   ]
  }
 ],
 "metadata": {
  "kernelspec": {
   "display_name": "Python 3",
   "language": "python",
   "name": "python3"
  },
  "language_info": {
   "codemirror_mode": {
    "name": "ipython",
    "version": 3
   },
   "file_extension": ".py",
   "mimetype": "text/x-python",
   "name": "python",
   "nbconvert_exporter": "python",
   "pygments_lexer": "ipython3",
   "version": "3.8.8"
  }
 },
 "nbformat": 4,
 "nbformat_minor": 5
}
