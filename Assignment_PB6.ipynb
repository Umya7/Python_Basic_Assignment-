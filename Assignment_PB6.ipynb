{
 "cells": [
  {
   "cell_type": "markdown",
   "id": "02cf40bd",
   "metadata": {},
   "source": [
    "## Assignment 6"
   ]
  },
  {
   "cell_type": "markdown",
   "id": "9f28d971",
   "metadata": {},
   "source": [
    "**Q.1.** What are escape characters, and how do you use them?"
   ]
  },
  {
   "cell_type": "markdown",
   "id": "514fc425",
   "metadata": {},
   "source": [
    "**Answer :-**"
   ]
  },
  {
   "cell_type": "markdown",
   "id": "955e3403",
   "metadata": {},
   "source": [
    "- In Python strings, the `backslash()` is a special character, also called the \"escape\" character. It is used in representing certain whitespace characters: \"\\t\" is a tab, \"\\n\" is a newline, and \"\\r\" is a carriage return\n",
    "- Prefixing a special character with() turns it into an ordinary character. This is called \"escaping\". For example, \" \\' \" is the single quote character. 'It\\'s Sunday' therefore is a valid string and equivalent to \"It's Sunday\"."
   ]
  },
  {
   "cell_type": "markdown",
   "id": "3c160265",
   "metadata": {},
   "source": [
    "**Example :-**"
   ]
  },
  {
   "cell_type": "code",
   "execution_count": 1,
   "id": "a77b3e56",
   "metadata": {},
   "outputs": [
    {
     "name": "stdout",
     "output_type": "stream",
     "text": [
      "I'm doing good\n",
      "I'm doing good\n"
     ]
    }
   ],
   "source": [
    "print(\"I'm doing good\")\n",
    "\n",
    "#above sentence can be reperesented using escape charecter as\n",
    "\n",
    "print('I\\'m doing good')"
   ]
  },
  {
   "cell_type": "markdown",
   "id": "9757c5b8",
   "metadata": {},
   "source": [
    "**Q.2.** What do the escape characters n and t stand for?"
   ]
  },
  {
   "cell_type": "markdown",
   "id": "bda12269",
   "metadata": {},
   "source": [
    "**Answer :-**"
   ]
  },
  {
   "cell_type": "markdown",
   "id": "620e25b2",
   "metadata": {},
   "source": [
    "- `\\n` : New line\n",
    "- `\\t` : Tab space"
   ]
  },
  {
   "cell_type": "markdown",
   "id": "426e7033",
   "metadata": {},
   "source": [
    "**Example :-**"
   ]
  },
  {
   "cell_type": "code",
   "execution_count": 2,
   "id": "b713796d",
   "metadata": {},
   "outputs": [
    {
     "name": "stdout",
     "output_type": "stream",
     "text": [
      "Hello!\n",
      "How are you.\n"
     ]
    }
   ],
   "source": [
    "# Use of \\n\n",
    "print(\"Hello!\\nHow are you.\")"
   ]
  },
  {
   "cell_type": "code",
   "execution_count": 3,
   "id": "d7b1cb8f",
   "metadata": {},
   "outputs": [
    {
     "name": "stdout",
     "output_type": "stream",
     "text": [
      "Hello!\tHow are you.\n"
     ]
    }
   ],
   "source": [
    "# Use of \\t\n",
    "print(\"Hello!\\tHow are you.\")"
   ]
  },
  {
   "cell_type": "markdown",
   "id": "4c19c1e0",
   "metadata": {},
   "source": [
    "**Q.3.** What is the way to include backslash characters in a string?"
   ]
  },
  {
   "cell_type": "markdown",
   "id": "438332e7",
   "metadata": {},
   "source": [
    "**Answer :-**"
   ]
  },
  {
   "cell_type": "markdown",
   "id": "8fb804e3",
   "metadata": {},
   "source": [
    "A blackslash character can be introduced with double blackslash characters."
   ]
  },
  {
   "cell_type": "markdown",
   "id": "3afe7edd",
   "metadata": {},
   "source": [
    "**Example :-**"
   ]
  },
  {
   "cell_type": "code",
   "execution_count": 4,
   "id": "69d4a715",
   "metadata": {},
   "outputs": [
    {
     "name": "stdout",
     "output_type": "stream",
     "text": [
      "Its a back_slash \\\n"
     ]
    }
   ],
   "source": [
    "print('Its a back_slash \\\\')"
   ]
  },
  {
   "cell_type": "markdown",
   "id": "66d8c97b",
   "metadata": {},
   "source": [
    "**Q.4.** The string \"Howl's Moving Castle\" is a correct value. Why isn't the single quote character in the\n",
    "word Howl's not escaped a problem?"
   ]
  },
  {
   "cell_type": "markdown",
   "id": "bbec0e58",
   "metadata": {},
   "source": [
    "**Answer :-**"
   ]
  },
  {
   "cell_type": "markdown",
   "id": "cade9def",
   "metadata": {},
   "source": [
    "Because the complete string is enclosed under double quotes.\n",
    "\n",
    "Or we can use backslash in single quote to represent Howl's."
   ]
  },
  {
   "cell_type": "markdown",
   "id": "248929db",
   "metadata": {},
   "source": [
    "**Example :-**"
   ]
  },
  {
   "cell_type": "code",
   "execution_count": 5,
   "id": "bb05251a",
   "metadata": {},
   "outputs": [
    {
     "name": "stdout",
     "output_type": "stream",
     "text": [
      "HowI's Moving Castle\n"
     ]
    }
   ],
   "source": [
    "#Using double quote\n",
    "\n",
    "print(\"HowI's Moving Castle\")"
   ]
  },
  {
   "cell_type": "code",
   "execution_count": 6,
   "id": "1329ce06",
   "metadata": {},
   "outputs": [
    {
     "ename": "SyntaxError",
     "evalue": "invalid syntax (<ipython-input-6-1993cd8e65f8>, line 3)",
     "output_type": "error",
     "traceback": [
      "\u001b[1;36m  File \u001b[1;32m\"<ipython-input-6-1993cd8e65f8>\"\u001b[1;36m, line \u001b[1;32m3\u001b[0m\n\u001b[1;33m    print('HowI's Moving Castle')\u001b[0m\n\u001b[1;37m                ^\u001b[0m\n\u001b[1;31mSyntaxError\u001b[0m\u001b[1;31m:\u001b[0m invalid syntax\n"
     ]
    }
   ],
   "source": [
    "#Using single quote\n",
    "\n",
    "print('HowI's Moving Castle')"
   ]
  },
  {
   "cell_type": "code",
   "execution_count": 7,
   "id": "f1c9ee68",
   "metadata": {},
   "outputs": [
    {
     "name": "stdout",
     "output_type": "stream",
     "text": [
      "HowI's Moving Castle\n"
     ]
    }
   ],
   "source": [
    "#Using single quote with backslash\n",
    "\n",
    "print('HowI\\'s Moving Castle')"
   ]
  },
  {
   "cell_type": "markdown",
   "id": "6643c7d2",
   "metadata": {},
   "source": [
    "**Q.5.** How do you write a string of newlines if you don't want to use the n character?"
   ]
  },
  {
   "cell_type": "markdown",
   "id": "bba7c3ab",
   "metadata": {},
   "source": [
    "**Answer :-**"
   ]
  },
  {
   "cell_type": "markdown",
   "id": "c8b03a20",
   "metadata": {},
   "source": [
    "We can use Python `Multiline` strings that done using triple quotes."
   ]
  },
  {
   "cell_type": "markdown",
   "id": "5e758aa6",
   "metadata": {},
   "source": [
    "**Example :-**"
   ]
  },
  {
   "cell_type": "code",
   "execution_count": 8,
   "id": "089413d0",
   "metadata": {},
   "outputs": [
    {
     "data": {
      "text/plain": [
       "'This\\n is \\n my \\n 6th \\n Assignment '"
      ]
     },
     "execution_count": 8,
     "metadata": {},
     "output_type": "execute_result"
    }
   ],
   "source": [
    "multiline = \"\"\"This\n",
    " is \n",
    " my \n",
    " 6th \n",
    " Assignment \"\"\"\n",
    "\n",
    "multiline"
   ]
  },
  {
   "cell_type": "markdown",
   "id": "e8bf8ff3",
   "metadata": {},
   "source": [
    "**Q.6.** What are the values of the given expressions?\n",
    "```python\n",
    "'Hello, world!'[1]\n",
    "'Hello, world!'[0:5]\n",
    "'Hello, world!'[:5]\n",
    "'Hello, world!'[3:]\n",
    "```"
   ]
  },
  {
   "cell_type": "markdown",
   "id": "f90e2623",
   "metadata": {},
   "source": [
    "**Answer :-**"
   ]
  },
  {
   "cell_type": "markdown",
   "id": "6dbd6e35",
   "metadata": {},
   "source": [
    "Above code return the value is :\n",
    "```python\n",
    "'Hello, world!'[1] - 'e'\n",
    "'Hello, world!'[0:5] - 'Hello'\n",
    "'Hello, world!'[:5] - 'Hello'\n",
    "'Hello, world!'[3:] - 'lo, world!'\n",
    "```"
   ]
  },
  {
   "cell_type": "code",
   "execution_count": 9,
   "id": "b0f5e2c9",
   "metadata": {},
   "outputs": [
    {
     "data": {
      "text/plain": [
       "'e'"
      ]
     },
     "execution_count": 9,
     "metadata": {},
     "output_type": "execute_result"
    }
   ],
   "source": [
    "'Hello, world!'[1]"
   ]
  },
  {
   "cell_type": "code",
   "execution_count": 10,
   "id": "7e926d3c",
   "metadata": {},
   "outputs": [
    {
     "data": {
      "text/plain": [
       "'Hello'"
      ]
     },
     "execution_count": 10,
     "metadata": {},
     "output_type": "execute_result"
    }
   ],
   "source": [
    "'Hello, world!'[0:5]"
   ]
  },
  {
   "cell_type": "code",
   "execution_count": 11,
   "id": "5a48efb2",
   "metadata": {},
   "outputs": [
    {
     "data": {
      "text/plain": [
       "'Hello'"
      ]
     },
     "execution_count": 11,
     "metadata": {},
     "output_type": "execute_result"
    }
   ],
   "source": [
    "'Hello, world!'[:5]"
   ]
  },
  {
   "cell_type": "code",
   "execution_count": 12,
   "id": "1f0935eb",
   "metadata": {},
   "outputs": [
    {
     "data": {
      "text/plain": [
       "'lo, world!'"
      ]
     },
     "execution_count": 12,
     "metadata": {},
     "output_type": "execute_result"
    }
   ],
   "source": [
    "'Hello, world!'[3:]"
   ]
  },
  {
   "cell_type": "markdown",
   "id": "c60dd2f5",
   "metadata": {},
   "source": [
    "**Q.7.** What are the values of the following expressions?\n",
    "```python\n",
    "'Hello'.upper()\n",
    "'Hello'.upper().isupper()\n",
    "'Hello'.upper().lower()\n",
    "```"
   ]
  },
  {
   "cell_type": "markdown",
   "id": "02b40901",
   "metadata": {},
   "source": [
    "**Answer :-**"
   ]
  },
  {
   "cell_type": "markdown",
   "id": "58ec3633",
   "metadata": {},
   "source": [
    "Above code return the value is :\n",
    "\n",
    "```python\n",
    "'Hello'.upper() - 'HELLO'\n",
    "'Hello'.upper().isupper() - True\n",
    "'Hello'.upper().lower() - 'hello'\n",
    "```"
   ]
  },
  {
   "cell_type": "code",
   "execution_count": 13,
   "id": "b4e2af5a",
   "metadata": {},
   "outputs": [
    {
     "data": {
      "text/plain": [
       "'HELLO'"
      ]
     },
     "execution_count": 13,
     "metadata": {},
     "output_type": "execute_result"
    }
   ],
   "source": [
    "'Hello'.upper()"
   ]
  },
  {
   "cell_type": "code",
   "execution_count": 14,
   "id": "92fa5a14",
   "metadata": {},
   "outputs": [
    {
     "data": {
      "text/plain": [
       "True"
      ]
     },
     "execution_count": 14,
     "metadata": {},
     "output_type": "execute_result"
    }
   ],
   "source": [
    "'Hello'.upper().isupper()"
   ]
  },
  {
   "cell_type": "code",
   "execution_count": 15,
   "id": "6e25a0d1",
   "metadata": {},
   "outputs": [
    {
     "data": {
      "text/plain": [
       "'hello'"
      ]
     },
     "execution_count": 15,
     "metadata": {},
     "output_type": "execute_result"
    }
   ],
   "source": [
    "'Hello'.upper().lower()"
   ]
  },
  {
   "cell_type": "markdown",
   "id": "1b7396f0",
   "metadata": {},
   "source": [
    "**Q.8.** What are the values of the following expressions?\n",
    "```python\n",
    "'Remember, remember, the fifth of July.'.split()\n",
    "'-'.join('There can only one.'.split())\n",
    "```"
   ]
  },
  {
   "cell_type": "markdown",
   "id": "52e82b67",
   "metadata": {},
   "source": [
    "**Answer :-**"
   ]
  },
  {
   "cell_type": "markdown",
   "id": "29bff8e8",
   "metadata": {},
   "source": [
    "- 'Remember, remember, the fifth of July.'.split() -> splits with space and returns list of words.\n",
    "\n",
    "\n",
    "- '-'.join('There can only one.'.split()) splits with space and join with '_'"
   ]
  },
  {
   "cell_type": "code",
   "execution_count": 16,
   "id": "9ce55dca",
   "metadata": {},
   "outputs": [
    {
     "data": {
      "text/plain": [
       "['Remember,', 'remember,', 'the', 'fifth', 'of', 'July.']"
      ]
     },
     "execution_count": 16,
     "metadata": {},
     "output_type": "execute_result"
    }
   ],
   "source": [
    "'Remember, remember, the fifth of July.'.split()"
   ]
  },
  {
   "cell_type": "code",
   "execution_count": 17,
   "id": "f4b75108",
   "metadata": {},
   "outputs": [
    {
     "data": {
      "text/plain": [
       "'There-can-only-one.'"
      ]
     },
     "execution_count": 17,
     "metadata": {},
     "output_type": "execute_result"
    }
   ],
   "source": [
    "'-'.join('There can only one.'.split())"
   ]
  },
  {
   "cell_type": "markdown",
   "id": "95ad53e6",
   "metadata": {},
   "source": [
    "**Q.9.** What are the methods for right-justifying, left-justifying, and centering a string?"
   ]
  },
  {
   "cell_type": "markdown",
   "id": "8e4c6f30",
   "metadata": {},
   "source": [
    "**Answer :-**"
   ]
  },
  {
   "cell_type": "markdown",
   "id": "0db07731",
   "metadata": {},
   "source": [
    "- The following methods are used for justifying strings :\n",
    "    * ljust() - left justified\n",
    "    * rjust() - right justified\n",
    "    * center() - center justified"
   ]
  },
  {
   "cell_type": "markdown",
   "id": "6b5eca3e",
   "metadata": {},
   "source": [
    "**Example :-**"
   ]
  },
  {
   "cell_type": "code",
   "execution_count": 18,
   "id": "48a26e58",
   "metadata": {},
   "outputs": [
    {
     "data": {
      "text/plain": [
       "'Full Stack Data Scienctist;;;'"
      ]
     },
     "execution_count": 18,
     "metadata": {},
     "output_type": "execute_result"
    }
   ],
   "source": [
    "# left justified\n",
    "str1 = \"Full Stack Data Scienctist\"\n",
    "str1.ljust(29,\";\")"
   ]
  },
  {
   "cell_type": "code",
   "execution_count": 19,
   "id": "4bdba523",
   "metadata": {},
   "outputs": [
    {
     "data": {
      "text/plain": [
       "'----Full Stack Data Scienctist'"
      ]
     },
     "execution_count": 19,
     "metadata": {},
     "output_type": "execute_result"
    }
   ],
   "source": [
    "# right justified\n",
    "str1 = \"Full Stack Data Scienctist\"\n",
    "str1.rjust(30,\"-\")"
   ]
  },
  {
   "cell_type": "code",
   "execution_count": 20,
   "id": "43f7a8f8",
   "metadata": {},
   "outputs": [
    {
     "data": {
      "text/plain": [
       "'*******Center*******'"
      ]
     },
     "execution_count": 20,
     "metadata": {},
     "output_type": "execute_result"
    }
   ],
   "source": [
    "# center justified\n",
    "str1 =\"Center\"\n",
    "str1.center(20,'*')"
   ]
  },
  {
   "cell_type": "markdown",
   "id": "6bc7c4f4",
   "metadata": {},
   "source": [
    "**Q.10.** What is the best way to remove whitespace characters from the start or end?"
   ]
  },
  {
   "cell_type": "markdown",
   "id": "b2759a74",
   "metadata": {},
   "source": [
    "**Answer :-**"
   ]
  },
  {
   "cell_type": "markdown",
   "id": "3e9332d9",
   "metadata": {},
   "source": [
    "- `lstrip()` : Removes white spaces from left of the string.\n",
    "    \n",
    "- `rstrip()` : Removes whitespaces from right of the string.\n",
    "    \n",
    "                        **OR**\n",
    "\n",
    "We can use `.strip()` function."
   ]
  },
  {
   "cell_type": "markdown",
   "id": "81eb5638",
   "metadata": {},
   "source": [
    "**Example :-**"
   ]
  },
  {
   "cell_type": "code",
   "execution_count": 21,
   "id": "1f89427f",
   "metadata": {},
   "outputs": [
    {
     "name": "stdout",
     "output_type": "stream",
     "text": [
      "25\n",
      "  Hello, I'm doing Good. \n"
     ]
    }
   ],
   "source": [
    "s = \"  Hello, I'm doing Good. \"\n",
    "\n",
    "print(len(s))\n",
    "print(s)"
   ]
  },
  {
   "cell_type": "code",
   "execution_count": 22,
   "id": "ef6256da",
   "metadata": {},
   "outputs": [
    {
     "data": {
      "text/plain": [
       "\"Hello, I'm doing Good. \""
      ]
     },
     "execution_count": 22,
     "metadata": {},
     "output_type": "execute_result"
    }
   ],
   "source": [
    "#Using lstrip()\n",
    "\n",
    "s.lstrip()"
   ]
  },
  {
   "cell_type": "code",
   "execution_count": 23,
   "id": "89b97df9",
   "metadata": {},
   "outputs": [
    {
     "data": {
      "text/plain": [
       "\"  Hello, I'm doing Good.\""
      ]
     },
     "execution_count": 23,
     "metadata": {},
     "output_type": "execute_result"
    }
   ],
   "source": [
    "#Using rstrip()\n",
    "\n",
    "s.rstrip()"
   ]
  },
  {
   "cell_type": "code",
   "execution_count": 24,
   "id": "0a2bb9ad",
   "metadata": {},
   "outputs": [
    {
     "data": {
      "text/plain": [
       "\"Hello, I'm doing Good.\""
      ]
     },
     "execution_count": 24,
     "metadata": {},
     "output_type": "execute_result"
    }
   ],
   "source": [
    "#Using .strip()\n",
    "\n",
    "s.strip()"
   ]
  }
 ],
 "metadata": {
  "kernelspec": {
   "display_name": "Python 3",
   "language": "python",
   "name": "python3"
  },
  "language_info": {
   "codemirror_mode": {
    "name": "ipython",
    "version": 3
   },
   "file_extension": ".py",
   "mimetype": "text/x-python",
   "name": "python",
   "nbconvert_exporter": "python",
   "pygments_lexer": "ipython3",
   "version": "3.8.8"
  }
 },
 "nbformat": 4,
 "nbformat_minor": 5
}
