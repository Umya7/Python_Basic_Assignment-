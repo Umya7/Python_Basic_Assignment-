{
 "cells": [
  {
   "cell_type": "markdown",
   "id": "fa318f4a",
   "metadata": {},
   "source": [
    "## Assignment 3"
   ]
  },
  {
   "cell_type": "markdown",
   "id": "cca2ea74",
   "metadata": {},
   "source": [
    "**Q.1.** Why are functions advantageous to have in your programs?"
   ]
  },
  {
   "cell_type": "markdown",
   "id": "13773729",
   "metadata": {},
   "source": [
    "**Answer :-**"
   ]
  },
  {
   "cell_type": "markdown",
   "id": "a64cfade",
   "metadata": {},
   "source": [
    "A function is a block of reusable code that is used to perform a specific action.\n",
    "- The advantages of using functions are:\n",
    "    * Reducing duplication of code\n",
    "    * Decomposing complex problems into simpler pieces\n",
    "    * Information hiding\n",
    "    * Reuse of code\n",
    "    * Improving clarity of the code"
   ]
  },
  {
   "cell_type": "markdown",
   "id": "225595f1",
   "metadata": {},
   "source": [
    "**Example :-**"
   ]
  },
  {
   "cell_type": "code",
   "execution_count": 1,
   "id": "049b0b70",
   "metadata": {},
   "outputs": [
    {
     "name": "stdout",
     "output_type": "stream",
     "text": [
      "Square of 6 is : 36\n",
      "Square of 8 is : 64\n"
     ]
    }
   ],
   "source": [
    "# define a function\n",
    "\n",
    "def SquareOfNumber(x):\n",
    "    return x**2\n",
    "\n",
    "print(f\"Square of 6 is : {SquareOfNumber(6)}\")\n",
    "print(f\"Square of 8 is : {SquareOfNumber(8)}\") # calling same function again"
   ]
  },
  {
   "cell_type": "markdown",
   "id": "ee6d66a2",
   "metadata": {},
   "source": [
    "**Q.2.** When does the code in a function run: when it&#39;s specified or when it&#39;s called?"
   ]
  },
  {
   "cell_type": "markdown",
   "id": "130eac66",
   "metadata": {},
   "source": [
    "**Answer :-**"
   ]
  },
  {
   "cell_type": "markdown",
   "id": "cf70c86f",
   "metadata": {},
   "source": [
    "The code in a function executes when the function is called, not when the function is defined."
   ]
  },
  {
   "cell_type": "markdown",
   "id": "6d3281f8",
   "metadata": {},
   "source": [
    "**Example :-**"
   ]
  },
  {
   "cell_type": "markdown",
   "id": "d10c72ab",
   "metadata": {},
   "source": [
    "In below cell we have defined our function. The code inside the function will not get executed unless we call the function with specified parameters."
   ]
  },
  {
   "cell_type": "code",
   "execution_count": 2,
   "id": "ce724391",
   "metadata": {},
   "outputs": [],
   "source": [
    "# specify a function\n",
    "\n",
    "'''\n",
    "we use `def <function-name>():`\n",
    "to specify a function.\n",
    "'''\n",
    "\n",
    "def CubeofNumber():\n",
    "    \n",
    "    x = int(input(\"Enter integer value only : \"))\n",
    "    \"\"\"\n",
    "    It will returns cube of given number\n",
    "    \"\"\"\n",
    "    return f\"Cube of {x} is : {x**3}\""
   ]
  },
  {
   "cell_type": "markdown",
   "id": "dd8d0b8f",
   "metadata": {},
   "source": [
    "Calling a function,"
   ]
  },
  {
   "cell_type": "code",
   "execution_count": 3,
   "id": "f9846f61",
   "metadata": {},
   "outputs": [
    {
     "name": "stdout",
     "output_type": "stream",
     "text": [
      "Enter integer value only : 4\n"
     ]
    },
    {
     "data": {
      "text/plain": [
       "'Cube of 4 is : 64'"
      ]
     },
     "execution_count": 3,
     "metadata": {},
     "output_type": "execute_result"
    }
   ],
   "source": [
    "CubeofNumber()"
   ]
  },
  {
   "cell_type": "markdown",
   "id": "fd627d19",
   "metadata": {},
   "source": [
    "**Q.3.** What statement creates a function?"
   ]
  },
  {
   "cell_type": "markdown",
   "id": "ce07224d",
   "metadata": {},
   "source": [
    "**Answer :-**"
   ]
  },
  {
   "cell_type": "markdown",
   "id": "c1324d96",
   "metadata": {},
   "source": [
    "To create function `def` keyword is use in Python. Define a unique name for the function and in parenthesis, you can specify your parameters."
   ]
  },
  {
   "cell_type": "markdown",
   "id": "9b5386f8",
   "metadata": {},
   "source": [
    "Function block starts with `colon(:)` symbol.\n",
    "\n",
    "      def function-name(paramenter):\n",
    "        \n",
    "          \"\"\"\n",
    "          Define list of statement inside def function.\n",
    "          \"\"\""
   ]
  },
  {
   "cell_type": "markdown",
   "id": "799dfd75",
   "metadata": {},
   "source": [
    " **Example :-**"
   ]
  },
  {
   "cell_type": "code",
   "execution_count": 4,
   "id": "2d130506",
   "metadata": {},
   "outputs": [
    {
     "name": "stdout",
     "output_type": "stream",
     "text": [
      "Hello! Umesh\n"
     ]
    }
   ],
   "source": [
    "# function without use of parameters :\n",
    "\n",
    "def callMe():  # define a function using def keyword\n",
    "    \n",
    "  print(\"Hello! Umesh\")  # print 'Hello! Umesh'\n",
    "\n",
    "callMe() # calling a function"
   ]
  },
  {
   "cell_type": "code",
   "execution_count": 5,
   "id": "ec670e9b",
   "metadata": {},
   "outputs": [
    {
     "data": {
      "text/plain": [
       "6"
      ]
     },
     "execution_count": 5,
     "metadata": {},
     "output_type": "execute_result"
    }
   ],
   "source": [
    "# function with use of parameters :\n",
    "\n",
    "def multipy(a, b):\n",
    "    \n",
    "    return a * b\n",
    "\n",
    "multipy(2, 3)"
   ]
  },
  {
   "cell_type": "markdown",
   "id": "1712afbf",
   "metadata": {},
   "source": [
    "**Q.4.** What is the difference between a function and a function call?"
   ]
  },
  {
   "cell_type": "markdown",
   "id": "a54fed79",
   "metadata": {},
   "source": [
    "**Answer :-**"
   ]
  },
  {
   "cell_type": "markdown",
   "id": "50846ec4",
   "metadata": {},
   "source": [
    "**Function :** A function is a block of code that does a particular operation and returns a result. It usually accepts inputs as parameters and returns a result. The parameters are not mandatory.\n",
    "\n",
    "**Function Call :** A function call is the code used to pass control to a function."
   ]
  },
  {
   "cell_type": "markdown",
   "id": "2520ed56",
   "metadata": {},
   "source": [
    "**Example :-**"
   ]
  },
  {
   "cell_type": "code",
   "execution_count": 6,
   "id": "d85f2212",
   "metadata": {},
   "outputs": [],
   "source": [
    "# Function \n",
    "def add(a,b):\n",
    "    return a + b"
   ]
  },
  {
   "cell_type": "code",
   "execution_count": 7,
   "id": "9f6abf56",
   "metadata": {},
   "outputs": [
    {
     "name": "stdout",
     "output_type": "stream",
     "text": [
      "5\n"
     ]
    }
   ],
   "source": [
    "# Function Call\n",
    "\n",
    "c = add(2,3) #Now c will have the value 5.\n",
    "print(c)"
   ]
  },
  {
   "cell_type": "markdown",
   "id": "b7028ad1",
   "metadata": {},
   "source": [
    "**Q.5.** How many global scopes are there in a Python program? How many local scopes?"
   ]
  },
  {
   "cell_type": "markdown",
   "id": "a3cd0e22",
   "metadata": {},
   "source": [
    "**Answer :-**"
   ]
  },
  {
   "cell_type": "markdown",
   "id": "8fc131c8",
   "metadata": {},
   "source": [
    "A variable scope determines where our variables can be accessed within the program and what values are stored inside of those variables.\n",
    "\n",
    "- There are 4 types of scope :\n",
    "    * Local\n",
    "    * Enclosing\n",
    "    * Global\n",
    "    * Built-in\n",
    "    \n",
    "**Local :** Variables that are defined inside of a function.\n",
    "    \n",
    "**Enclosing :** Variables in local scope of enclosed function.\n",
    "    \n",
    "**Global :** Variables are defined at top level of a program or defined using `GLOBAL` keyword.\n",
    "    \n",
    "**Built-in :** Keywords, functions that are built in Python.\n",
    "    \n",
    "`LEGB` is the order in which a variable is assigned, the iterpretor checks variable first in local scope, then enclosing scope, then global scope and then in built-in scope."
   ]
  },
  {
   "cell_type": "markdown",
   "id": "9eda8c14",
   "metadata": {},
   "source": [
    "**Example :**"
   ]
  },
  {
   "cell_type": "code",
   "execution_count": 8,
   "id": "92b67420",
   "metadata": {},
   "outputs": [
    {
     "name": "stdout",
     "output_type": "stream",
     "text": [
      "The Number is: 3\n"
     ]
    }
   ],
   "source": [
    "# Local scope :\n",
    "\n",
    "num = 0\n",
    "def num():\n",
    "    #print(num)\n",
    "    num = 3\n",
    "    print(\"The Number is:\",num)\n",
    "num()"
   ]
  },
  {
   "cell_type": "code",
   "execution_count": 9,
   "id": "e2d71fcc",
   "metadata": {},
   "outputs": [
    {
     "name": "stdout",
     "output_type": "stream",
     "text": [
      "inner: nonlocal\n",
      "outer: nonlocal\n"
     ]
    }
   ],
   "source": [
    "# Enclosing Scope :\n",
    "\n",
    "def func_outer():\n",
    "    x = \"local\"\n",
    "    def func_inner():\n",
    "        nonlocal x\n",
    "        x = \"nonlocal\"\n",
    "        print(\"inner:\", x)\n",
    "    func_inner()\n",
    "    print(\"outer:\", x)\n",
    "func_outer()"
   ]
  },
  {
   "cell_type": "code",
   "execution_count": 10,
   "id": "7b3cb749",
   "metadata": {},
   "outputs": [
    {
     "name": "stdout",
     "output_type": "stream",
     "text": [
      "You are clever\n"
     ]
    }
   ],
   "source": [
    "# Global Scope :\n",
    "\n",
    "def test():\n",
    "    print(Str)\n",
    "# Global  \n",
    "Str = \"You are clever\"\n",
    "test()"
   ]
  },
  {
   "cell_type": "code",
   "execution_count": 11,
   "id": "9cbe7870",
   "metadata": {},
   "outputs": [
    {
     "name": "stdout",
     "output_type": "stream",
     "text": [
      "3.141592653589793\n"
     ]
    }
   ],
   "source": [
    "# Built-in Scope \n",
    "\n",
    "from math import pi \n",
    "# pi = 'Not defined in global pi'\n",
    "def func_outer(): \n",
    "    # pi = 'Not defined in outer pi' \n",
    "    def inner(): \n",
    "        # pi = 'not defined in inner pi' \n",
    "        print(pi) \n",
    "    inner() \n",
    "func_outer()"
   ]
  },
  {
   "cell_type": "markdown",
   "id": "57a72a50",
   "metadata": {},
   "source": [
    "**Q.6.** What happens to variables in a local scope when the function call returns?"
   ]
  },
  {
   "cell_type": "markdown",
   "id": "8334ed3f",
   "metadata": {},
   "source": [
    "**Answer :-**"
   ]
  },
  {
   "cell_type": "markdown",
   "id": "d6cc2d3a",
   "metadata": {},
   "source": [
    "When a function returns, the local scope is destroyed, and all the variables in it are forgotten."
   ]
  },
  {
   "cell_type": "markdown",
   "id": "d7f63b76",
   "metadata": {},
   "source": [
    "**Q.7.** What is the concept of a return value? Is it possible to have a return value in an expression?"
   ]
  },
  {
   "cell_type": "markdown",
   "id": "19365a88",
   "metadata": {},
   "source": [
    "**Answer :-**"
   ]
  },
  {
   "cell_type": "markdown",
   "id": "d4d821e7",
   "metadata": {},
   "source": [
    "A return value is the value that a function call evaluates to. A return value can be used as part of an expression"
   ]
  },
  {
   "cell_type": "markdown",
   "id": "e4047dcd",
   "metadata": {},
   "source": [
    "**Example :-**"
   ]
  },
  {
   "cell_type": "code",
   "execution_count": 12,
   "id": "8010145f",
   "metadata": {},
   "outputs": [
    {
     "name": "stdout",
     "output_type": "stream",
     "text": [
      "Enter a 1st Number : 4\n",
      "Enter a 2nd Number : 7\n"
     ]
    },
    {
     "data": {
      "text/plain": [
       "'Addition of 4 and 7 is : 11'"
      ]
     },
     "execution_count": 12,
     "metadata": {},
     "output_type": "execute_result"
    }
   ],
   "source": [
    "def addition():\n",
    "    \n",
    "    a = int(input(\"Enter a 1st Number : \"))\n",
    "    b = int(input(\"Enter a 2nd Number : \"))\n",
    "    \n",
    "    sum = a + b\n",
    "    \n",
    "    return f\"Addition of {a} and {b} is : {sum}\"  # explicit return statement\n",
    "\n",
    "addition() "
   ]
  },
  {
   "cell_type": "code",
   "execution_count": 13,
   "id": "98821d24",
   "metadata": {},
   "outputs": [
    {
     "name": "stdout",
     "output_type": "stream",
     "text": [
      "Enter a 1st Number : 5\n",
      "Enter a 2nd Number : 11\n"
     ]
    },
    {
     "data": {
      "text/plain": [
       "'Addition of 5 and 11 is : 16'"
      ]
     },
     "execution_count": 13,
     "metadata": {},
     "output_type": "execute_result"
    }
   ],
   "source": [
    "def addition1():\n",
    "    \n",
    "    a = int(input(\"Enter a 1st Number : \"))\n",
    "    b = int(input(\"Enter a 2nd Number : \"))\n",
    "    \n",
    "    return f\"Addition of {a} and {b} is : {a + b}\" # an expression is evaluated first and then value is returned\n",
    "\n",
    "addition1()"
   ]
  },
  {
   "cell_type": "markdown",
   "id": "0428b4e6",
   "metadata": {},
   "source": [
    "**Q.8.** If a function does not have a return statement, what is the return value of a call to that function?"
   ]
  },
  {
   "cell_type": "markdown",
   "id": "7a014447",
   "metadata": {},
   "source": [
    "**Answer :-**"
   ]
  },
  {
   "cell_type": "markdown",
   "id": "c64c35e4",
   "metadata": {},
   "source": [
    "If there is no return statement for a function, its return value is None"
   ]
  },
  {
   "cell_type": "markdown",
   "id": "5e2b95d4",
   "metadata": {},
   "source": [
    "**Example :-**"
   ]
  },
  {
   "cell_type": "code",
   "execution_count": 14,
   "id": "296fed52",
   "metadata": {},
   "outputs": [
    {
     "name": "stdout",
     "output_type": "stream",
     "text": [
      "None\n",
      "<class 'NoneType'>\n"
     ]
    }
   ],
   "source": [
    "def addition(a, b):\n",
    "    \n",
    "    sum = a + b\n",
    "\n",
    "print(addition(3, 7)) \n",
    "print(type(addition(3, 7)))"
   ]
  },
  {
   "cell_type": "markdown",
   "id": "f0a7a280",
   "metadata": {},
   "source": [
    "**Q.9.** How do you make a function variable refer to the global variable?"
   ]
  },
  {
   "cell_type": "markdown",
   "id": "2ceb4eeb",
   "metadata": {},
   "source": [
    "**Answer :-**"
   ]
  },
  {
   "cell_type": "markdown",
   "id": "aa17ad81",
   "metadata": {},
   "source": [
    "We use `global` keyword before a variable to tell interpreter inside a function that we are using a global variable.\n",
    "\n",
    "We use this keyword if we have to modify the `global` variable inside a function"
   ]
  },
  {
   "cell_type": "markdown",
   "id": "6d58bdbc",
   "metadata": {},
   "source": [
    "**Example :-**"
   ]
  },
  {
   "cell_type": "code",
   "execution_count": 15,
   "id": "f88dac0a",
   "metadata": {},
   "outputs": [
    {
     "name": "stdout",
     "output_type": "stream",
     "text": [
      "Number : 50\n",
      "Number : 35\n"
     ]
    }
   ],
   "source": [
    "# global variable\n",
    "number = 50\n",
    "\n",
    "def check():\n",
    "    global number\n",
    "    if number > 34:\n",
    "        number = 35\n",
    "\n",
    "print(f'Number : {number}')\n",
    "\n",
    "# call function\n",
    "check()\n",
    "\n",
    "print(f'Number : {number}')"
   ]
  },
  {
   "cell_type": "markdown",
   "id": "49adf19a",
   "metadata": {},
   "source": [
    "**Q.10.** What is the data type of `None`?"
   ]
  },
  {
   "cell_type": "markdown",
   "id": "2857babe",
   "metadata": {},
   "source": [
    "**Answer :-**"
   ]
  },
  {
   "cell_type": "markdown",
   "id": "38d182ba",
   "metadata": {},
   "source": [
    "The data type of `None` is `NoneType`."
   ]
  },
  {
   "cell_type": "markdown",
   "id": "75991a2a",
   "metadata": {},
   "source": [
    "**Example :-**"
   ]
  },
  {
   "cell_type": "code",
   "execution_count": 16,
   "id": "c7d5cedb",
   "metadata": {},
   "outputs": [
    {
     "data": {
      "text/plain": [
       "NoneType"
      ]
     },
     "execution_count": 16,
     "metadata": {},
     "output_type": "execute_result"
    }
   ],
   "source": [
    "type(None)"
   ]
  },
  {
   "cell_type": "markdown",
   "id": "e127baea",
   "metadata": {},
   "source": [
    "**Q.11.** What does the sentence import `areallyourpetsnamederic` do?"
   ]
  },
  {
   "cell_type": "markdown",
   "id": "a8697352",
   "metadata": {},
   "source": [
    "**Answer :-**"
   ]
  },
  {
   "cell_type": "markdown",
   "id": "1d66d1ad",
   "metadata": {},
   "source": [
    "`areallyourpetsnamederic` ia not a python module. Importing this module will throughs ModuleNotFoundError exception"
   ]
  },
  {
   "cell_type": "code",
   "execution_count": 17,
   "id": "b3e23c2b",
   "metadata": {},
   "outputs": [
    {
     "ename": "ModuleNotFoundError",
     "evalue": "No module named 'areallyourpetsnamederic'",
     "output_type": "error",
     "traceback": [
      "\u001b[1;31m---------------------------------------------------------------------------\u001b[0m",
      "\u001b[1;31mModuleNotFoundError\u001b[0m                       Traceback (most recent call last)",
      "\u001b[1;32m<ipython-input-17-b1ea9cb2228f>\u001b[0m in \u001b[0;36m<module>\u001b[1;34m\u001b[0m\n\u001b[1;32m----> 1\u001b[1;33m \u001b[1;32mimport\u001b[0m \u001b[0mareallyourpetsnamederic\u001b[0m\u001b[1;33m\u001b[0m\u001b[1;33m\u001b[0m\u001b[0m\n\u001b[0m",
      "\u001b[1;31mModuleNotFoundError\u001b[0m: No module named 'areallyourpetsnamederic'"
     ]
    }
   ],
   "source": [
    "import areallyourpetsnamederic"
   ]
  },
  {
   "cell_type": "markdown",
   "id": "0d73ccb7",
   "metadata": {},
   "source": [
    "**Q.12.** If you had a `bacon()` feature in a spam module, what would you call it after importing spam?"
   ]
  },
  {
   "cell_type": "markdown",
   "id": "9df5beea",
   "metadata": {},
   "source": [
    "**Answer :-**"
   ]
  },
  {
   "cell_type": "markdown",
   "id": "5e9e890e",
   "metadata": {},
   "source": [
    "Any function in spam module can be called using format,\n",
    "\n",
    "- `spam.<function_name>()`\n",
    "\n",
    "Therefore, bacon feature can be called using,\n",
    "\n",
    "- `spam.bacon()`"
   ]
  },
  {
   "cell_type": "markdown",
   "id": "0717b782",
   "metadata": {},
   "source": [
    "**Q.13.** What can you do to save a programme from crashing if it encounters an error?"
   ]
  },
  {
   "cell_type": "markdown",
   "id": "7b81abd8",
   "metadata": {},
   "source": [
    "**Answer :-**"
   ]
  },
  {
   "cell_type": "markdown",
   "id": "d10a8d3e",
   "metadata": {},
   "source": [
    "We can use try statement to test a code block and if it encounters an error an except block handles the error which avoids crashing a program."
   ]
  },
  {
   "cell_type": "markdown",
   "id": "f53d9d33",
   "metadata": {},
   "source": [
    "**Example :-**"
   ]
  },
  {
   "cell_type": "code",
   "execution_count": 18,
   "id": "50f83251",
   "metadata": {},
   "outputs": [
    {
     "name": "stdout",
     "output_type": "stream",
     "text": [
      "Enter a 1st Number : 7\n",
      "Enter a 2nd Number : 0\n"
     ]
    },
    {
     "ename": "ZeroDivisionError",
     "evalue": "division by zero",
     "output_type": "error",
     "traceback": [
      "\u001b[1;31m---------------------------------------------------------------------------\u001b[0m",
      "\u001b[1;31mZeroDivisionError\u001b[0m                         Traceback (most recent call last)",
      "\u001b[1;32m<ipython-input-18-20b664c73feb>\u001b[0m in \u001b[0;36m<module>\u001b[1;34m\u001b[0m\n\u001b[0;32m      7\u001b[0m     \u001b[0mprint\u001b[0m\u001b[1;33m(\u001b[0m\u001b[0ma\u001b[0m\u001b[1;33m/\u001b[0m\u001b[0mb\u001b[0m\u001b[1;33m)\u001b[0m\u001b[1;33m\u001b[0m\u001b[1;33m\u001b[0m\u001b[0m\n\u001b[0;32m      8\u001b[0m \u001b[1;33m\u001b[0m\u001b[0m\n\u001b[1;32m----> 9\u001b[1;33m \u001b[0mdivision\u001b[0m\u001b[1;33m(\u001b[0m\u001b[1;33m)\u001b[0m\u001b[1;33m\u001b[0m\u001b[1;33m\u001b[0m\u001b[0m\n\u001b[0m",
      "\u001b[1;32m<ipython-input-18-20b664c73feb>\u001b[0m in \u001b[0;36mdivision\u001b[1;34m()\u001b[0m\n\u001b[0;32m      5\u001b[0m     \u001b[0ma\u001b[0m \u001b[1;33m=\u001b[0m \u001b[0mint\u001b[0m\u001b[1;33m(\u001b[0m\u001b[0minput\u001b[0m\u001b[1;33m(\u001b[0m\u001b[1;34m\"Enter a 1st Number : \"\u001b[0m\u001b[1;33m)\u001b[0m\u001b[1;33m)\u001b[0m\u001b[1;33m\u001b[0m\u001b[1;33m\u001b[0m\u001b[0m\n\u001b[0;32m      6\u001b[0m     \u001b[0mb\u001b[0m \u001b[1;33m=\u001b[0m \u001b[0mint\u001b[0m\u001b[1;33m(\u001b[0m\u001b[0minput\u001b[0m\u001b[1;33m(\u001b[0m\u001b[1;34m\"Enter a 2nd Number : \"\u001b[0m\u001b[1;33m)\u001b[0m\u001b[1;33m)\u001b[0m\u001b[1;33m\u001b[0m\u001b[1;33m\u001b[0m\u001b[0m\n\u001b[1;32m----> 7\u001b[1;33m     \u001b[0mprint\u001b[0m\u001b[1;33m(\u001b[0m\u001b[0ma\u001b[0m\u001b[1;33m/\u001b[0m\u001b[0mb\u001b[0m\u001b[1;33m)\u001b[0m\u001b[1;33m\u001b[0m\u001b[1;33m\u001b[0m\u001b[0m\n\u001b[0m\u001b[0;32m      8\u001b[0m \u001b[1;33m\u001b[0m\u001b[0m\n\u001b[0;32m      9\u001b[0m \u001b[0mdivision\u001b[0m\u001b[1;33m(\u001b[0m\u001b[1;33m)\u001b[0m\u001b[1;33m\u001b[0m\u001b[1;33m\u001b[0m\u001b[0m\n",
      "\u001b[1;31mZeroDivisionError\u001b[0m: division by zero"
     ]
    }
   ],
   "source": [
    "# without using try/except\n",
    "\n",
    "def division():\n",
    "    \n",
    "    a = int(input(\"Enter a 1st Number : \"))\n",
    "    b = int(input(\"Enter a 2nd Number : \"))\n",
    "    print(a/b)\n",
    "\n",
    "division()"
   ]
  },
  {
   "cell_type": "code",
   "execution_count": 19,
   "id": "6fe9b083",
   "metadata": {},
   "outputs": [
    {
     "name": "stdout",
     "output_type": "stream",
     "text": [
      "Enter a 1st Number : 9\n",
      "Enter a 2nd Number : 0\n",
      "<class 'Exception'> division by zero\n"
     ]
    }
   ],
   "source": [
    "# Using try/except\n",
    "\n",
    "def addition():\n",
    "    \n",
    "    a = int(input(\"Enter a 1st Number : \"))\n",
    "    b = int(input(\"Enter a 2nd Number : \"))\n",
    "    try :\n",
    "        print(a/b)\n",
    "    except Exception as e:\n",
    "        print(Exception, e)\n",
    "\n",
    "addition()"
   ]
  },
  {
   "cell_type": "markdown",
   "id": "d77096f3",
   "metadata": {},
   "source": [
    "**Q.14.** What is the purpose of the try clause? What is the purpose of the except clause?"
   ]
  },
  {
   "cell_type": "markdown",
   "id": "9e0a35c3",
   "metadata": {},
   "source": [
    "**Answer :-**"
   ]
  },
  {
   "cell_type": "markdown",
   "id": "9795db11",
   "metadata": {},
   "source": [
    "- **try :**\n",
    "    * The code that could potentially cause an error goes in the try clause.\n",
    "    \n",
    "- **except :**\n",
    "    * The code that executes if an error happens goes in the except clause."
   ]
  },
  {
   "cell_type": "markdown",
   "id": "6a922a4c",
   "metadata": {},
   "source": [
    "**Example :-** Refer `Q.13`"
   ]
  }
 ],
 "metadata": {
  "kernelspec": {
   "display_name": "Python 3",
   "language": "python",
   "name": "python3"
  },
  "language_info": {
   "codemirror_mode": {
    "name": "ipython",
    "version": 3
   },
   "file_extension": ".py",
   "mimetype": "text/x-python",
   "name": "python",
   "nbconvert_exporter": "python",
   "pygments_lexer": "ipython3",
   "version": "3.8.8"
  }
 },
 "nbformat": 4,
 "nbformat_minor": 5
}
