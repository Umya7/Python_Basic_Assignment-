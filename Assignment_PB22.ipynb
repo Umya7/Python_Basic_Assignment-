{
 "cells": [
  {
   "cell_type": "markdown",
   "id": "3dd6d6fa",
   "metadata": {},
   "source": [
    "## Assignment 22"
   ]
  },
  {
   "cell_type": "markdown",
   "id": "ba919544",
   "metadata": {},
   "source": [
    "**Q.1.** What is the result of the code, and explain?\n",
    "```python\n",
    "X = 'iNeuron'\n",
    "def func():\n",
    "    print(X)\n",
    "func()\n",
    "```"
   ]
  },
  {
   "cell_type": "markdown",
   "id": "f8256fcf",
   "metadata": {},
   "source": [
    "**Answer :-**  <font color = red> 'iNeuron' </font>"
   ]
  },
  {
   "cell_type": "markdown",
   "id": "09a6dd09",
   "metadata": {},
   "source": [
    "**Explanation :-**\n",
    "\n",
    "The global variables are accessible in side the functions in python. But we can not access function variable out side \n",
    "function.  \n",
    "Since x is golbal variable we are able to print it in side the function. "
   ]
  },
  {
   "cell_type": "code",
   "execution_count": 1,
   "id": "b51e1ddf",
   "metadata": {},
   "outputs": [
    {
     "name": "stdout",
     "output_type": "stream",
     "text": [
      "iNeuron\n"
     ]
    }
   ],
   "source": [
    "X = 'iNeuron'\n",
    "def func():\n",
    "    print(X)\n",
    "func()"
   ]
  },
  {
   "cell_type": "markdown",
   "id": "dcd3992d",
   "metadata": {},
   "source": [
    "**Q.2.** What is the result of the code, and explain?\n",
    "```python\n",
    "X = 'iNeuron'\n",
    "def func():\n",
    "    X = 'NI!'\n",
    "\n",
    "func()\n",
    "print(X)\n",
    "```"
   ]
  },
  {
   "cell_type": "markdown",
   "id": "8ccfa257",
   "metadata": {},
   "source": [
    "**Answer :-**  <font color = red> 'iNeuron' </font>"
   ]
  },
  {
   "cell_type": "markdown",
   "id": "1ebb2221",
   "metadata": {},
   "source": [
    "**Explanation :-**\n",
    "\n",
    "The global variables are accessible in side the functions in python. But we can not access function variable out side \n",
    "function.  \n",
    "Since x is golbal variable we are able to print it in side the function. "
   ]
  },
  {
   "cell_type": "code",
   "execution_count": 2,
   "id": "a1a5beaa",
   "metadata": {},
   "outputs": [
    {
     "name": "stdout",
     "output_type": "stream",
     "text": [
      "iNeuron\n"
     ]
    }
   ],
   "source": [
    "X = 'iNeuron'\n",
    "def func():\n",
    "    X = 'NI!'\n",
    "\n",
    "func()\n",
    "print(X)"
   ]
  },
  {
   "cell_type": "markdown",
   "id": "57182a91",
   "metadata": {},
   "source": [
    "**Q.3.** What does this code print, and why?\n",
    "```python\n",
    "X = 'iNeuron'\n",
    "def func():\n",
    "    X = 'NI'\n",
    "    print(X)\n",
    "\n",
    "func()\n",
    "print(X)\n",
    "```"
   ]
  },
  {
   "cell_type": "markdown",
   "id": "8c9bef10",
   "metadata": {},
   "source": [
    "**Answer :-**  <font color = red> 'NI!', 'iNeuron' </font>"
   ]
  },
  {
   "cell_type": "markdown",
   "id": "da5e402f",
   "metadata": {},
   "source": [
    "**Explanation :-**\n",
    "\n",
    "The global variables are access in side the functions in python. But we can not access function variable out side \n",
    "function.  \n",
    "X is updated with 'NI' which is local to function and its immutable. its name space is with in the function."
   ]
  },
  {
   "cell_type": "code",
   "execution_count": 3,
   "id": "62d139bc",
   "metadata": {},
   "outputs": [
    {
     "name": "stdout",
     "output_type": "stream",
     "text": [
      "NI\n",
      "iNeuron\n"
     ]
    }
   ],
   "source": [
    "X = 'iNeuron'\n",
    "def func():\n",
    "    X = 'NI'\n",
    "    print(X)\n",
    "\n",
    "func()\n",
    "print(X)"
   ]
  },
  {
   "cell_type": "markdown",
   "id": "e5e7e469",
   "metadata": {},
   "source": [
    "**Q.4.** What output does this code produce? Why?\n",
    "```python\n",
    "X = 'iNeuron'\n",
    "def func():\n",
    "    global X\n",
    "    X = 'NI'\n",
    "    print(X)\n",
    "\n",
    "func()\n",
    "print(X)\n",
    "```"
   ]
  },
  {
   "cell_type": "markdown",
   "id": "8d8abb64",
   "metadata": {},
   "source": [
    "**Answer :-**  <font color = red> 'NI', 'NI' </font>"
   ]
  },
  {
   "cell_type": "markdown",
   "id": "9013866f",
   "metadata": {},
   "source": [
    "**Explanation :-**\n",
    "    \n",
    "Since, The X in side function is made Global, it will be accesible out side of the function too. now X will have new value."
   ]
  },
  {
   "cell_type": "code",
   "execution_count": 4,
   "id": "5439b3a0",
   "metadata": {},
   "outputs": [
    {
     "name": "stdout",
     "output_type": "stream",
     "text": [
      "NI\n",
      "NI\n"
     ]
    }
   ],
   "source": [
    "X = 'iNeuron'\n",
    "def func():\n",
    "    global X\n",
    "    X = 'NI'\n",
    "    print(X)\n",
    "\n",
    "func()\n",
    "print(X)"
   ]
  },
  {
   "cell_type": "markdown",
   "id": "7403c5ad",
   "metadata": {},
   "source": [
    "**Q.5.** What about this code—what’s the output, and why?\n",
    "```python\n",
    "X = 'iNeuron'\n",
    "def func():\n",
    "    X = 'NI'\n",
    "def nested():\n",
    "    print(X)\n",
    "\n",
    "nested()\n",
    "func()\n",
    "X\n",
    "```"
   ]
  },
  {
   "cell_type": "markdown",
   "id": "697efd79",
   "metadata": {},
   "source": [
    "**Answer :-**  <font color = red> 'iNeuron' </font>"
   ]
  },
  {
   "cell_type": "markdown",
   "id": "58088ac3",
   "metadata": {},
   "source": [
    "**Explanation :-**\n",
    "\n",
    "The nested() function will print 'iNeuron', Then func() does not display anything, and x ='NI' is not accessible out \n",
    "side the function."
   ]
  },
  {
   "cell_type": "code",
   "execution_count": 5,
   "id": "4d79f40e",
   "metadata": {},
   "outputs": [
    {
     "name": "stdout",
     "output_type": "stream",
     "text": [
      "iNeuron\n"
     ]
    },
    {
     "data": {
      "text/plain": [
       "'iNeuron'"
      ]
     },
     "execution_count": 5,
     "metadata": {},
     "output_type": "execute_result"
    }
   ],
   "source": [
    "X = 'iNeuron'\n",
    "def func():\n",
    "    X = 'NI'\n",
    "def nested():\n",
    "    print(X)\n",
    "\n",
    "nested()\n",
    "func()\n",
    "X"
   ]
  },
  {
   "cell_type": "markdown",
   "id": "182fb35b",
   "metadata": {},
   "source": [
    "**Q.6.** How about this code: what is its output in Python 3, and explain?\n",
    "```python\n",
    "def func():\n",
    "    X = 'NI'\n",
    "    def nested():\n",
    "        nonlocal X\n",
    "        X = 'spam'\n",
    "    nested()\n",
    "    print(X)\n",
    "\n",
    "func()\n",
    "```"
   ]
  },
  {
   "cell_type": "markdown",
   "id": "a9738c9c",
   "metadata": {},
   "source": [
    "**Answer :-**  <font color = red> 'spam' </font>"
   ]
  },
  {
   "cell_type": "markdown",
   "id": "19c107dd",
   "metadata": {},
   "source": [
    "**Explanation :-**\n",
    "    \n",
    "Nonlocal variables are used in nested functions whose local scope is not defined.  \n",
    "This means that the variable can be neither in the local nor the global scope.  \n",
    "It print the updated value from nested function."
   ]
  },
  {
   "cell_type": "code",
   "execution_count": 6,
   "id": "6627dd87",
   "metadata": {},
   "outputs": [
    {
     "name": "stdout",
     "output_type": "stream",
     "text": [
      "spam\n"
     ]
    }
   ],
   "source": [
    "def func():\n",
    "    X = 'NI'\n",
    "    def nested():\n",
    "        nonlocal X\n",
    "        X = 'spam'\n",
    "    nested()\n",
    "    print(X)\n",
    "\n",
    "func()"
   ]
  }
 ],
 "metadata": {
  "kernelspec": {
   "display_name": "Python 3",
   "language": "python",
   "name": "python3"
  },
  "language_info": {
   "codemirror_mode": {
    "name": "ipython",
    "version": 3
   },
   "file_extension": ".py",
   "mimetype": "text/x-python",
   "name": "python",
   "nbconvert_exporter": "python",
   "pygments_lexer": "ipython3",
   "version": "3.8.8"
  }
 },
 "nbformat": 4,
 "nbformat_minor": 5
}
