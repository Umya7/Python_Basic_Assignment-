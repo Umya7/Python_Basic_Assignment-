{
 "cells": [
  {
   "cell_type": "markdown",
   "id": "cab85e58",
   "metadata": {},
   "source": [
    "## Assignment 13"
   ]
  },
  {
   "cell_type": "markdown",
   "id": "c00a7817",
   "metadata": {},
   "source": [
    "**Q.1.** What advantages do Excel spreadsheets have over CSV spreadsheets?"
   ]
  },
  {
   "cell_type": "markdown",
   "id": "19e5c555",
   "metadata": {},
   "source": [
    "**Answer :-**"
   ]
  },
  {
   "cell_type": "markdown",
   "id": "b762a447",
   "metadata": {},
   "source": [
    "CSV files are unable to perform operations on data whereas Excel can perform operations on the data."
   ]
  },
  {
   "cell_type": "markdown",
   "id": "a7489f25",
   "metadata": {},
   "source": [
    "**Q.2.** What do you pass to `csv.reader()` and `csv.writer()` to create reader and writer objects?"
   ]
  },
  {
   "cell_type": "markdown",
   "id": "6fd2674b",
   "metadata": {},
   "source": [
    "**Answer :-**"
   ]
  },
  {
   "cell_type": "markdown",
   "id": "e22be409",
   "metadata": {},
   "source": [
    "To read a CSV file with the csv module, first open it using the `open()` function,just as any other text file.\\\n",
    "But instead of `read()` or `readlines()` method on the File object that `open()` returns, pass it to the `csv.reader()` function.\\\n",
    "Firstly call `open()` and pass it 'w' to open a file in write mode.This will create the object you can then pass to `csv.writer()` to create a Writer object."
   ]
  },
  {
   "cell_type": "markdown",
   "id": "f5851e86",
   "metadata": {},
   "source": [
    "**Example :-**"
   ]
  },
  {
   "cell_type": "code",
   "execution_count": 1,
   "id": "ad1891d6",
   "metadata": {},
   "outputs": [
    {
     "data": {
      "text/plain": [
       "[['Name',\n",
       "  ' \"Team\"',\n",
       "  ' \"Position\"',\n",
       "  ' \"Height(inches)\"',\n",
       "  ' \"Weight(lbs)\"',\n",
       "  ' \"Age\"'],\n",
       " ['Adam Donachie', ' \"BAL\"', ' \"Catcher\"', '74', '180', '22.99'],\n",
       " ['Kevin Millar', ' \"BAL\"', ' \"First Baseman\"', '72', '210', '35.43'],\n",
       " ['Miguel Tejada', ' \"BAL\"', ' \"Shortstop\"', '69', '209', '30.77'],\n",
       " ['Melvin Mora', ' \"BAL\"', ' \"Third Baseman\"', '71', '200', '35.07'],\n",
       " ['Freddie Bynum', ' \"BAL\"', ' \"Outfielder\"', '73', '180', '26.96'],\n",
       " ['Jay Gibbons', ' \"BAL\"', ' \"Designated Hitter\"', '72', '197', '30'],\n",
       " ['Erik Bedard', ' \"BAL\"', ' \"Starting Pitcher\"', '73', '189', '27.99'],\n",
       " ['Scott Williamson', ' \"BAL\"', ' \"Relief Pitcher\"', '72', '180', '31.03'],\n",
       " ['Jose Molina', ' \"ANA\"', ' \"Catcher\"', '74', '220', '31.74'],\n",
       " ['Casey Kotchman', ' \"ANA\"', ' \"First Baseman\"', '75', '210', '24.02'],\n",
       " ['Erick Aybar', ' \"ANA\"', ' \"Shortstop\"', '70', '170', '23.13'],\n",
       " ['Dallas McPherson', ' \"ANA\"', ' \"Third Baseman\"', '76', '230', '26.6'],\n",
       " ['Reggie Willits', ' \"ANA\"', ' \"Outfielder\"', '71', '185', '25.75'],\n",
       " ['John Lackey', ' \"ANA\"', ' \"Starting Pitcher\"', '78', '235', '28.35'],\n",
       " ['Chris Resop', ' \"ANA\"', ' \"Relief Pitcher\"', '75', '222', '24.32']]"
      ]
     },
     "execution_count": 1,
     "metadata": {},
     "output_type": "execute_result"
    }
   ],
   "source": [
    "import csv\n",
    "exFile = open('sample.csv')\n",
    "exreader = csv.reader(exFile)\n",
    "exData = list(exreader)\n",
    "exData"
   ]
  },
  {
   "cell_type": "markdown",
   "id": "e8625b82",
   "metadata": {},
   "source": [
    "**Q.3.** What modes do File objects for reader and writer objects need to be opened in?"
   ]
  },
  {
   "cell_type": "markdown",
   "id": "0e5e28f6",
   "metadata": {},
   "source": [
    "**Answer :-**"
   ]
  },
  {
   "cell_type": "markdown",
   "id": "022d6c34",
   "metadata": {},
   "source": [
    "File objects need to be opened in `read-binary('rb')` for Reader objects and `write-binary('wb')` for Writer objects."
   ]
  },
  {
   "cell_type": "markdown",
   "id": "bcc268ce",
   "metadata": {},
   "source": [
    "**Q.4.** What method takes a list argument and writes it to a CSV file?"
   ]
  },
  {
   "cell_type": "markdown",
   "id": "83aeaf20",
   "metadata": {},
   "source": [
    "**Answer :-**"
   ]
  },
  {
   "cell_type": "markdown",
   "id": "cf57636e",
   "metadata": {},
   "source": [
    "`writerows()` Function takes a list of iterables as parameter and writes each item as a comma separated line of items in the file."
   ]
  },
  {
   "cell_type": "markdown",
   "id": "eed79673",
   "metadata": {},
   "source": [
    "**Example :-**"
   ]
  },
  {
   "cell_type": "code",
   "execution_count": 2,
   "id": "5ea6c52d",
   "metadata": {},
   "outputs": [
    {
     "data": {
      "text/plain": [
       "21"
      ]
     },
     "execution_count": 2,
     "metadata": {},
     "output_type": "execute_result"
    }
   ],
   "source": [
    "OpenFile = open('output.csv','w')\n",
    "OpenWriter = csv.writer(OpenFile)\n",
    "csv.writer(OpenFile).writerow(['Apple','Orange','Banana'])"
   ]
  },
  {
   "cell_type": "markdown",
   "id": "5c991eba",
   "metadata": {},
   "source": [
    "**Q.5.** What do the keyword arguments delimiter and line terminator do?"
   ]
  },
  {
   "cell_type": "markdown",
   "id": "472bec8a",
   "metadata": {},
   "source": [
    "**Answer :-**"
   ]
  },
  {
   "cell_type": "markdown",
   "id": "37042dec",
   "metadata": {},
   "source": [
    "- **Delimiter :** It is the character that appears between cells on a row. By default the delimiter for a CSV file is a comma.\n",
    "- **line terminator :** It is the character that comes at the end of a row. By default the line terminator is a newline."
   ]
  },
  {
   "cell_type": "markdown",
   "id": "686afb52",
   "metadata": {},
   "source": [
    "**Example :**"
   ]
  },
  {
   "cell_type": "code",
   "execution_count": 3,
   "id": "ecdc3626",
   "metadata": {},
   "outputs": [],
   "source": [
    "import csv\n",
    "csvFile = open('sample1.tsv', 'w', newline='')\n",
    "csvWriter = csv.writer(csvFile, delimiter='\\t', lineterminator='\\n\\n')"
   ]
  },
  {
   "cell_type": "markdown",
   "id": "7442ef0a",
   "metadata": {},
   "source": [
    "**Q.6.** What function takes a string of JSON data and returns a Python data structure?"
   ]
  },
  {
   "cell_type": "markdown",
   "id": "6a99d069",
   "metadata": {},
   "source": [
    "**Answer :-**"
   ]
  },
  {
   "cell_type": "markdown",
   "id": "c0473638",
   "metadata": {},
   "source": [
    "`json.loads()` unction takes a string of JSON data and returns a Python data structure."
   ]
  },
  {
   "cell_type": "markdown",
   "id": "700aaff4",
   "metadata": {},
   "source": [
    "**Q.7.** What function takes a Python data structure and returns a string of JSON data?"
   ]
  },
  {
   "cell_type": "markdown",
   "id": "8a521896",
   "metadata": {},
   "source": [
    "**Answer :-**"
   ]
  },
  {
   "cell_type": "markdown",
   "id": "4f6efdb3",
   "metadata": {},
   "source": [
    "`json.dumps()` function takes a python data structure & return a string of JSON Data."
   ]
  }
 ],
 "metadata": {
  "kernelspec": {
   "display_name": "Python 3",
   "language": "python",
   "name": "python3"
  },
  "language_info": {
   "codemirror_mode": {
    "name": "ipython",
    "version": 3
   },
   "file_extension": ".py",
   "mimetype": "text/x-python",
   "name": "python",
   "nbconvert_exporter": "python",
   "pygments_lexer": "ipython3",
   "version": "3.8.8"
  }
 },
 "nbformat": 4,
 "nbformat_minor": 5
}
