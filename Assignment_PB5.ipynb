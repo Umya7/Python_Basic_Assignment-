{
 "cells": [
  {
   "cell_type": "markdown",
   "id": "9c151851",
   "metadata": {},
   "source": [
    "## Assignment 5"
   ]
  },
  {
   "cell_type": "markdown",
   "id": "7244fdde",
   "metadata": {},
   "source": [
    "**Q.1.** What does an empty dictionary&#39;s code look like?"
   ]
  },
  {
   "cell_type": "markdown",
   "id": "ba13e070",
   "metadata": {},
   "source": [
    "**Answer :-**"
   ]
  },
  {
   "cell_type": "code",
   "execution_count": 1,
   "id": "a0cf141d",
   "metadata": {},
   "outputs": [
    {
     "data": {
      "text/plain": [
       "({}, dict)"
      ]
     },
     "execution_count": 1,
     "metadata": {},
     "output_type": "execute_result"
    }
   ],
   "source": [
    "# Empty dictionary\n",
    "\n",
    "dict = {}\n",
    "\n",
    "dict, type(dict)"
   ]
  },
  {
   "cell_type": "markdown",
   "id": "ef73656e",
   "metadata": {},
   "source": [
    "**Q.2.** What is the value of a dictionary value with the key 'foo' and the value 42?"
   ]
  },
  {
   "cell_type": "markdown",
   "id": "5bf4a26f",
   "metadata": {},
   "source": [
    "**Answer :-**"
   ]
  },
  {
   "cell_type": "code",
   "execution_count": 2,
   "id": "ff88a380",
   "metadata": {},
   "outputs": [
    {
     "data": {
      "text/plain": [
       "42"
      ]
     },
     "execution_count": 2,
     "metadata": {},
     "output_type": "execute_result"
    }
   ],
   "source": [
    "# The value will be 42\n",
    "\n",
    "dict = {'foo' : 42}\n",
    "\n",
    "dict['foo']"
   ]
  },
  {
   "cell_type": "markdown",
   "id": "4bf0c5dd",
   "metadata": {},
   "source": [
    "**Q.3.** What is the most significant distinction between a dictionary and a list?"
   ]
  },
  {
   "cell_type": "markdown",
   "id": "44190afb",
   "metadata": {},
   "source": [
    "**Answer :-**"
   ]
  },
  {
   "cell_type": "markdown",
   "id": "a77dbd95",
   "metadata": {},
   "source": [
    "- **Dictionary :**\n",
    "    * Dictionaries are unordered collection of data points.\n",
    "    * It uses key, value structure to store the values.\n",
    "\n",
    "- **List :** Lists have ordered items."
   ]
  },
  {
   "cell_type": "markdown",
   "id": "f53aaee8",
   "metadata": {},
   "source": [
    "**Example :-**"
   ]
  },
  {
   "cell_type": "code",
   "execution_count": 3,
   "id": "4e0b4c78",
   "metadata": {},
   "outputs": [
    {
     "data": {
      "text/plain": [
       "[2, 5, 7, 'Umesh']"
      ]
     },
     "execution_count": 3,
     "metadata": {},
     "output_type": "execute_result"
    }
   ],
   "source": [
    "#list example\n",
    "\n",
    "list_1 = [2, 5, 7, 'Umesh']\n",
    "\n",
    "list_1"
   ]
  },
  {
   "cell_type": "code",
   "execution_count": 4,
   "id": "269367e7",
   "metadata": {},
   "outputs": [
    {
     "data": {
      "text/plain": [
       "{'key1': 25, 'key2': 35, 'key3': 'Umesh'}"
      ]
     },
     "execution_count": 4,
     "metadata": {},
     "output_type": "execute_result"
    }
   ],
   "source": [
    "#dict example\n",
    "\n",
    "dict_1 = {'key1' : 25, 'key2' : 35, 'key3' : \"Umesh\"}\n",
    "\n",
    "dict_1"
   ]
  },
  {
   "cell_type": "markdown",
   "id": "a96e22e6",
   "metadata": {},
   "source": [
    "**Q.4.** What happens if you try to access `spam['foo']` if spam is `{'bar': 100}`?"
   ]
  },
  {
   "cell_type": "markdown",
   "id": "a7db27ed",
   "metadata": {},
   "source": [
    "**Answer :-**"
   ]
  },
  {
   "cell_type": "markdown",
   "id": "fbaff077",
   "metadata": {},
   "source": [
    "It will gives KeyError."
   ]
  },
  {
   "cell_type": "code",
   "execution_count": 5,
   "id": "02b473bd",
   "metadata": {},
   "outputs": [
    {
     "ename": "KeyError",
     "evalue": "'foo'",
     "output_type": "error",
     "traceback": [
      "\u001b[1;31m---------------------------------------------------------------------------\u001b[0m",
      "\u001b[1;31mKeyError\u001b[0m                                  Traceback (most recent call last)",
      "\u001b[1;32m<ipython-input-5-a7da05a2f6c5>\u001b[0m in \u001b[0;36m<module>\u001b[1;34m\u001b[0m\n\u001b[0;32m      1\u001b[0m \u001b[0mspam\u001b[0m \u001b[1;33m=\u001b[0m \u001b[1;33m{\u001b[0m\u001b[1;34m'bar'\u001b[0m \u001b[1;33m:\u001b[0m \u001b[1;36m100\u001b[0m\u001b[1;33m}\u001b[0m\u001b[1;33m\u001b[0m\u001b[1;33m\u001b[0m\u001b[0m\n\u001b[0;32m      2\u001b[0m \u001b[1;33m\u001b[0m\u001b[0m\n\u001b[1;32m----> 3\u001b[1;33m \u001b[0mspam\u001b[0m\u001b[1;33m[\u001b[0m\u001b[1;34m'foo'\u001b[0m\u001b[1;33m]\u001b[0m\u001b[1;33m\u001b[0m\u001b[1;33m\u001b[0m\u001b[0m\n\u001b[0m",
      "\u001b[1;31mKeyError\u001b[0m: 'foo'"
     ]
    }
   ],
   "source": [
    "spam = {'bar' : 100}\n",
    "\n",
    "spam['foo']"
   ]
  },
  {
   "cell_type": "markdown",
   "id": "ed6296c2",
   "metadata": {},
   "source": [
    "**Q.5.** If a dictionary is stored in spam, what is the difference between the expressions 'cat' in spam and\n",
    "'cat' in `spam.keys()`?"
   ]
  },
  {
   "cell_type": "markdown",
   "id": "ca740a7f",
   "metadata": {},
   "source": [
    "**Answer :-**"
   ]
  },
  {
   "cell_type": "markdown",
   "id": "9400fb9f",
   "metadata": {},
   "source": [
    "There is no differnce, both check if 'cat' is key of the dictionary and if its a key, It will returns True."
   ]
  },
  {
   "cell_type": "code",
   "execution_count": 6,
   "id": "a4c3c7eb",
   "metadata": {},
   "outputs": [
    {
     "data": {
      "text/plain": [
       "True"
      ]
     },
     "execution_count": 6,
     "metadata": {},
     "output_type": "execute_result"
    }
   ],
   "source": [
    "spam = {'cat' : 100}\n",
    "\n",
    "'cat' in spam"
   ]
  },
  {
   "cell_type": "code",
   "execution_count": 7,
   "id": "c3bbdc07",
   "metadata": {},
   "outputs": [
    {
     "data": {
      "text/plain": [
       "True"
      ]
     },
     "execution_count": 7,
     "metadata": {},
     "output_type": "execute_result"
    }
   ],
   "source": [
    "'cat' in spam.keys()"
   ]
  },
  {
   "cell_type": "markdown",
   "id": "21adf9ab",
   "metadata": {},
   "source": [
    "**Q.6.** If a dictionary is stored in spam, what is the difference between the expressions 'cat' in spam and\n",
    "'cat' in `spam.values()`?"
   ]
  },
  {
   "cell_type": "markdown",
   "id": "d4bc0388",
   "metadata": {},
   "source": [
    "**Answer :-**"
   ]
  },
  {
   "cell_type": "markdown",
   "id": "0313dbeb",
   "metadata": {},
   "source": [
    "'cat' in spam checks whether there is a 'cat' key in the dictionary.\n",
    "\n",
    "'cat' in `spam.values()` checks whether there is a value 'cat' for one of the keys in spam."
   ]
  },
  {
   "cell_type": "code",
   "execution_count": 8,
   "id": "03a38efd",
   "metadata": {},
   "outputs": [
    {
     "data": {
      "text/plain": [
       "True"
      ]
     },
     "execution_count": 8,
     "metadata": {},
     "output_type": "execute_result"
    }
   ],
   "source": [
    "spam = {'cat' : 100}\n",
    "\n",
    "'cat' in spam"
   ]
  },
  {
   "cell_type": "code",
   "execution_count": 9,
   "id": "71422367",
   "metadata": {},
   "outputs": [
    {
     "data": {
      "text/plain": [
       "False"
      ]
     },
     "execution_count": 9,
     "metadata": {},
     "output_type": "execute_result"
    }
   ],
   "source": [
    "'cat' in spam.values()"
   ]
  },
  {
   "cell_type": "markdown",
   "id": "e5dc3881",
   "metadata": {},
   "source": [
    "**Q.7.** What is a shortcut for the following code?\n",
    "\n",
    "```python\n",
    "    if 'color' not in spam:\n",
    "    spam['color'] = 'black'\n",
    "```"
   ]
  },
  {
   "cell_type": "markdown",
   "id": "56c55e2c",
   "metadata": {},
   "source": [
    "**Answer :-**"
   ]
  },
  {
   "cell_type": "markdown",
   "id": "9bc23e12",
   "metadata": {},
   "source": [
    "This can be achieved by using setdefault() which Inserts key with a value of default if key is not in the dictionary."
   ]
  },
  {
   "cell_type": "code",
   "execution_count": 10,
   "id": "798a1a63",
   "metadata": {},
   "outputs": [
    {
     "data": {
      "text/plain": [
       "{'cat': 100, 'color': 'black'}"
      ]
     },
     "execution_count": 10,
     "metadata": {},
     "output_type": "execute_result"
    }
   ],
   "source": [
    "spam ={'cat':100}\n",
    "spam.setdefault('color','black')\n",
    "spam"
   ]
  },
  {
   "cell_type": "markdown",
   "id": "7f6d00d1",
   "metadata": {},
   "source": [
    "**Q.8.** How do you \"pretty print\" dictionary values using which module and function?"
   ]
  },
  {
   "cell_type": "markdown",
   "id": "b892c534",
   "metadata": {},
   "source": [
    "**Answer :-**"
   ]
  },
  {
   "cell_type": "markdown",
   "id": "8020b507",
   "metadata": {},
   "source": [
    "Pretty printing means to present something in a more readable format or style"
   ]
  },
  {
   "cell_type": "code",
   "execution_count": 11,
   "id": "d53a2e6d",
   "metadata": {},
   "outputs": [],
   "source": [
    "dict2 = {'a' : {'name': 'Umesh', 'Age': 27}, 'b' : {'name': 'Kumar', 'Age': 25}, 'c' : {'name': 'Raj', 'Age': 35}, 'd' : {'name': 'Vijay', 'Age': 22}, 'e' : {'name': 'Ankit', 'Age': 28}}"
   ]
  },
  {
   "cell_type": "code",
   "execution_count": 12,
   "id": "578ba77f",
   "metadata": {},
   "outputs": [
    {
     "name": "stdout",
     "output_type": "stream",
     "text": [
      "{'a': {'name': 'Umesh', 'Age': 27}, 'b': {'name': 'Kumar', 'Age': 25}, 'c': {'name': 'Raj', 'Age': 35}, 'd': {'name': 'Vijay', 'Age': 22}, 'e': {'name': 'Ankit', 'Age': 28}}\n"
     ]
    }
   ],
   "source": [
    "#printing with print function\n",
    "\n",
    "print(dict2)"
   ]
  },
  {
   "cell_type": "code",
   "execution_count": 13,
   "id": "530b3f01",
   "metadata": {},
   "outputs": [
    {
     "name": "stdout",
     "output_type": "stream",
     "text": [
      "{'a': {'Age': 27, 'name': 'Umesh'},\n",
      " 'b': {'Age': 25, 'name': 'Kumar'},\n",
      " 'c': {'Age': 35, 'name': 'Raj'},\n",
      " 'd': {'Age': 22, 'name': 'Vijay'},\n",
      " 'e': {'Age': 28, 'name': 'Ankit'}}\n"
     ]
    }
   ],
   "source": [
    "# printing with pprint()\n",
    "\n",
    "import pprint\n",
    "\n",
    "pprint.pprint(dict2)"
   ]
  }
 ],
 "metadata": {
  "kernelspec": {
   "display_name": "Python 3",
   "language": "python",
   "name": "python3"
  },
  "language_info": {
   "codemirror_mode": {
    "name": "ipython",
    "version": 3
   },
   "file_extension": ".py",
   "mimetype": "text/x-python",
   "name": "python",
   "nbconvert_exporter": "python",
   "pygments_lexer": "ipython3",
   "version": "3.8.8"
  }
 },
 "nbformat": 4,
 "nbformat_minor": 5
}
