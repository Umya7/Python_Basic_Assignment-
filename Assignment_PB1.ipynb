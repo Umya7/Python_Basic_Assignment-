{
 "cells": [
  {
   "cell_type": "markdown",
   "id": "33546115",
   "metadata": {},
   "source": [
    "## Assignment 1"
   ]
  },
  {
   "cell_type": "markdown",
   "id": "9c7d4af8",
   "metadata": {},
   "source": [
    "__Q.1.__ In the below elements which of them are values or an expression? eg:- values can be integer or string and expressions will be mathematical operators."
   ]
  },
  {
   "cell_type": "markdown",
   "id": "fb5bc779",
   "metadata": {},
   "source": [
    "*\n",
    "\n",
    "'hello'\n",
    "\n",
    "-87.8\n",
    "\n",
    "-\n",
    "\n",
    "/\n",
    "\n",
    "+\n",
    "\n",
    "6"
   ]
  },
  {
   "cell_type": "markdown",
   "id": "21442053",
   "metadata": {},
   "source": [
    "__Answer :-__"
   ]
  },
  {
   "cell_type": "markdown",
   "id": "652ef281",
   "metadata": {},
   "source": [
    "| Elements | Value/Expression |\n",
    "| ----- | ----- |\n",
    "| * | Expression |\n",
    "| 'hello' | Value |\n",
    "| -87.8 | Value |\n",
    "| - | Expression |\n",
    "| / | Expression |\n",
    "| + | Expression |\n",
    "| 6 | Value |"
   ]
  },
  {
   "cell_type": "markdown",
   "id": "3bc8fbf8",
   "metadata": {},
   "source": [
    "__Q.2.__ What is the difference between string and variable?"
   ]
  },
  {
   "cell_type": "markdown",
   "id": "8307c078",
   "metadata": {},
   "source": [
    "__Answer :-__"
   ]
  },
  {
   "cell_type": "markdown",
   "id": "fa420400",
   "metadata": {},
   "source": [
    "- String :-\n",
    "    * A string is a collection of characters enclosed within single ' or \" quotation marks.\n",
    "    * String is of Sequence data type.\n",
    "- Variable :-\n",
    "    * A variable is a name to which any value can be assigned.\n",
    "    * A variable can be of type integer or string or boolean etc."
   ]
  },
  {
   "cell_type": "markdown",
   "id": "8e390a18",
   "metadata": {},
   "source": [
    "__Example :-__"
   ]
  },
  {
   "cell_type": "code",
   "execution_count": 1,
   "id": "4bb4c473",
   "metadata": {},
   "outputs": [
    {
     "name": "stdout",
     "output_type": "stream",
     "text": [
      "<class 'str'> <class 'str'>\n"
     ]
    }
   ],
   "source": [
    "# Initializing a String\n",
    "\n",
    "City = 'Mumbai'\n",
    "State = \"Maharashtra\"\n",
    "\n",
    "print(type(City), type(State))"
   ]
  },
  {
   "cell_type": "code",
   "execution_count": 2,
   "id": "5d2485ef",
   "metadata": {},
   "outputs": [
    {
     "name": "stdout",
     "output_type": "stream",
     "text": [
      "<class 'str'> <class 'int'>\n"
     ]
    }
   ],
   "source": [
    "# Initializing a String type variable\n",
    "\n",
    "City = 'Mumbai'\n",
    "\n",
    "# Initializing a Integer type variable\n",
    "\n",
    "Pincode = 400021\n",
    "\n",
    "print(type(City), type(Pincode))"
   ]
  },
  {
   "cell_type": "markdown",
   "id": "a3812fe0",
   "metadata": {},
   "source": [
    "__Q.3.__ Describe three different data types."
   ]
  },
  {
   "cell_type": "markdown",
   "id": "e96b1f5c",
   "metadata": {},
   "source": [
    "__Answer :-__"
   ]
  },
  {
   "cell_type": "markdown",
   "id": "b07b02bf",
   "metadata": {},
   "source": [
    "- Numberic Data Type :-\n",
    "    * Represents the data that has a numeric value.\n",
    "    * Numberic data types are :\n",
    "        * Integers\n",
    "        * Float\n",
    "        * Complex\n",
    "    \n",
    "    \n",
    "- String Data Type :-\n",
    "    * A string is a collection of characters enclosed within single ' or \" quotation marks.\n",
    "    \n",
    "    \n",
    "- Boolean Data Type:-\n",
    "    * Boolean data type have two values either True or False.\n",
    "    * Used to determine whether logic of a comparison is correct."
   ]
  },
  {
   "cell_type": "markdown",
   "id": "c940a5cf",
   "metadata": {},
   "source": [
    "__Examples :-__"
   ]
  },
  {
   "cell_type": "markdown",
   "id": "2591cf97",
   "metadata": {},
   "source": [
    "**Numeric Data type Example :-**"
   ]
  },
  {
   "cell_type": "code",
   "execution_count": 3,
   "id": "f8c05362",
   "metadata": {},
   "outputs": [
    {
     "name": "stdout",
     "output_type": "stream",
     "text": [
      "67 is <class 'int'> data type \n",
      "17.56 is <class 'float'> data type \n",
      "(3+5j) is <class 'complex'> data type\n"
     ]
    }
   ],
   "source": [
    "#Integer Data Type\n",
    "A = 67\n",
    "\n",
    "#Floating Point Number\n",
    "B = 17.56 \n",
    "\n",
    "#Complex Number\n",
    "C =  3 + 5j\n",
    "\n",
    "print( f\"{A} is {type(A)} data type \\n{B} is {type(B)} data type \\n{C} is {type(C)} data type\")"
   ]
  },
  {
   "cell_type": "markdown",
   "id": "c0bb31cb",
   "metadata": {},
   "source": [
    "__String Data type Example :-__"
   ]
  },
  {
   "cell_type": "code",
   "execution_count": 4,
   "id": "881e1787",
   "metadata": {},
   "outputs": [
    {
     "name": "stdout",
     "output_type": "stream",
     "text": [
      "Hello! This is my first Program is a string data type\n"
     ]
    }
   ],
   "source": [
    "S = \"Hello! This is my first Program\" #Here S is string variable\n",
    "\n",
    "print(f\"{S} is a string data type\")"
   ]
  },
  {
   "cell_type": "markdown",
   "id": "95982e5b",
   "metadata": {},
   "source": [
    "__Boolean Data type Example :-__"
   ]
  },
  {
   "cell_type": "code",
   "execution_count": 5,
   "id": "f31eb3bf",
   "metadata": {},
   "outputs": [
    {
     "name": "stdout",
     "output_type": "stream",
     "text": [
      "25 > 33 Result is False\n",
      "12 < 33 Result is True\n"
     ]
    }
   ],
   "source": [
    "A = 25\n",
    "B = 33\n",
    "C = 12\n",
    "\n",
    "print(f\"{A} > {B} Result is {A>B}\\n{C} < {B} Result is {C<B}\")"
   ]
  },
  {
   "cell_type": "markdown",
   "id": "388d3831",
   "metadata": {},
   "source": [
    "__Q.4.__ What is an expression made up of? What do all expressions do?"
   ]
  },
  {
   "cell_type": "markdown",
   "id": "45ecca01",
   "metadata": {},
   "source": [
    "__Answer :-__"
   ]
  },
  {
   "cell_type": "markdown",
   "id": "3d1b2b5c",
   "metadata": {},
   "source": [
    "Expression is made up of values, containers, and mathematical operators (operands) and expressions are used to evaluate the values or represent the result on the screen."
   ]
  },
  {
   "cell_type": "code",
   "execution_count": 6,
   "id": "c9675b9a",
   "metadata": {},
   "outputs": [],
   "source": [
    "# Statement\n",
    "\n",
    "A = 35 + 62"
   ]
  },
  {
   "cell_type": "code",
   "execution_count": 7,
   "id": "881bf11c",
   "metadata": {},
   "outputs": [
    {
     "data": {
      "text/plain": [
       "194"
      ]
     },
     "execution_count": 7,
     "metadata": {},
     "output_type": "execute_result"
    }
   ],
   "source": [
    "# Expression\n",
    "\n",
    "A * 2"
   ]
  },
  {
   "cell_type": "markdown",
   "id": "3b46bf20",
   "metadata": {},
   "source": [
    "__Q.5.__ This assignment statements, like spam = 10. What is the difference between an\n",
    "expression and a statement?"
   ]
  },
  {
   "cell_type": "markdown",
   "id": "d72f2f30",
   "metadata": {},
   "source": [
    "__Answer :-__"
   ]
  },
  {
   "cell_type": "markdown",
   "id": "3e980274",
   "metadata": {},
   "source": [
    "A statement does not yields any value."
   ]
  },
  {
   "cell_type": "code",
   "execution_count": 8,
   "id": "49594899",
   "metadata": {},
   "outputs": [
    {
     "data": {
      "text/plain": [
       "6"
      ]
     },
     "execution_count": 8,
     "metadata": {},
     "output_type": "execute_result"
    }
   ],
   "source": [
    "# this is expression as it will yield 6 as answer\n",
    "\n",
    "2 * 3"
   ]
  },
  {
   "cell_type": "code",
   "execution_count": 9,
   "id": "93422374",
   "metadata": {},
   "outputs": [],
   "source": [
    "# a statement\n",
    "\n",
    "A = 7"
   ]
  },
  {
   "cell_type": "markdown",
   "id": "967fb18e",
   "metadata": {},
   "source": [
    "__Q.6.__ After running the following code, what does the variable bacon contain?\n",
    "\n",
    "bacon = 22\n",
    "\n",
    "bacon + 1"
   ]
  },
  {
   "cell_type": "markdown",
   "id": "0fb6410d",
   "metadata": {},
   "source": [
    "__Answer:-__"
   ]
  },
  {
   "cell_type": "code",
   "execution_count": 10,
   "id": "889aea73",
   "metadata": {},
   "outputs": [
    {
     "data": {
      "text/plain": [
       "23"
      ]
     },
     "execution_count": 10,
     "metadata": {},
     "output_type": "execute_result"
    }
   ],
   "source": [
    "bacon = 22\n",
    "\n",
    "bacon + 1"
   ]
  },
  {
   "cell_type": "markdown",
   "id": "0c6db81c",
   "metadata": {},
   "source": [
    "After executing above codes its gives __23__."
   ]
  },
  {
   "cell_type": "markdown",
   "id": "68fe6d9d",
   "metadata": {},
   "source": [
    "__Q.7.__ What should the values of the following two terms be?\n",
    "\n",
    "<font color = red >'spam'</font><font color = brown > + </font> <font color = red > 'spamspam'</font>\n",
    "\n",
    "<font color = red >'spam'</font> <font color = brown > * </font> <font color = green > 3 </font>"
   ]
  },
  {
   "cell_type": "markdown",
   "id": "c4852d2a",
   "metadata": {},
   "source": [
    "__Answer:-__"
   ]
  },
  {
   "cell_type": "code",
   "execution_count": 11,
   "id": "3f7d9cfc",
   "metadata": {},
   "outputs": [
    {
     "data": {
      "text/plain": [
       "'spamspamspam'"
      ]
     },
     "execution_count": 11,
     "metadata": {},
     "output_type": "execute_result"
    }
   ],
   "source": [
    "'spam' + 'spamspam'"
   ]
  },
  {
   "cell_type": "code",
   "execution_count": 12,
   "id": "31720e8f",
   "metadata": {},
   "outputs": [
    {
     "data": {
      "text/plain": [
       "'spamspamspam'"
      ]
     },
     "execution_count": 12,
     "metadata": {},
     "output_type": "execute_result"
    }
   ],
   "source": [
    "'spam' * 3"
   ]
  },
  {
   "cell_type": "markdown",
   "id": "a5c4e94b",
   "metadata": {},
   "source": [
    "It will be the same after executting above codes."
   ]
  },
  {
   "cell_type": "markdown",
   "id": "69773295",
   "metadata": {},
   "source": [
    "__Q.8.__ Why is eggs a valid variable name while 100 is invalid?"
   ]
  },
  {
   "cell_type": "markdown",
   "id": "16a63a41",
   "metadata": {},
   "source": [
    "__Answer:-__"
   ]
  },
  {
   "cell_type": "markdown",
   "id": "d997f379",
   "metadata": {},
   "source": [
    "- In python, there are some rules we need to follow when picking the name for a variable:-\n",
    "    * The first character must start with an UPPERCASE or LOWERCASE letter of alphabet or UNDERSCORE(_)\n",
    "    \n",
    "    * Rest of the name can consist of UPPERCASE or LOWERCASE letter of alphabet or UNDERSCORE(_) or DIGITS(0-9)\n",
    "    \n",
    "    * Spaces are not allowed. Instead, use snake_case to make variable names readable.\n",
    "    \n",
    "    * Names are case-sensitive. myworld and myWorld are not the same.\n",
    "    \n",
    "    * The name of the variable should be something meaningful that describes the value it holds, instead of being random characters.\n",
    "    \n",
    "Therefore,\n",
    "\n",
    "eggs a valid variable name while 100 is invalid."
   ]
  },
  {
   "cell_type": "markdown",
   "id": "dedfadef",
   "metadata": {},
   "source": [
    "__Example:-__"
   ]
  },
  {
   "cell_type": "code",
   "execution_count": 13,
   "id": "8d6440f4",
   "metadata": {},
   "outputs": [
    {
     "ename": "SyntaxError",
     "evalue": "cannot assign to literal (<ipython-input-13-c74c9eb787f9>, line 1)",
     "output_type": "error",
     "traceback": [
      "\u001b[1;36m  File \u001b[1;32m\"<ipython-input-13-c74c9eb787f9>\"\u001b[1;36m, line \u001b[1;32m1\u001b[0m\n\u001b[1;33m    25 = \"This is 25th Number\"\u001b[0m\n\u001b[1;37m    ^\u001b[0m\n\u001b[1;31mSyntaxError\u001b[0m\u001b[1;31m:\u001b[0m cannot assign to literal\n"
     ]
    }
   ],
   "source": [
    "25 = \"This is 25th Number\""
   ]
  },
  {
   "cell_type": "code",
   "execution_count": 14,
   "id": "e8fec733",
   "metadata": {},
   "outputs": [
    {
     "data": {
      "text/plain": [
       "36"
      ]
     },
     "execution_count": 14,
     "metadata": {},
     "output_type": "execute_result"
    }
   ],
   "source": [
    "eggs = 36\n",
    "eggs"
   ]
  },
  {
   "cell_type": "markdown",
   "id": "c18280f5",
   "metadata": {},
   "source": [
    "__Q.9.__ What three functions can be used to get the integer, floating-point number, or string\n",
    "version of a value?"
   ]
  },
  {
   "cell_type": "markdown",
   "id": "e27b448a",
   "metadata": {},
   "source": [
    "__Answer:-__"
   ]
  },
  {
   "cell_type": "markdown",
   "id": "7dfb6fea",
   "metadata": {},
   "source": [
    "This method of conversion is know as Explicit Type Conversion.\n",
    "\n",
    "str(), int(), float()"
   ]
  },
  {
   "cell_type": "markdown",
   "id": "a05c4efe",
   "metadata": {},
   "source": [
    "__Example:-__"
   ]
  },
  {
   "cell_type": "code",
   "execution_count": 15,
   "id": "d350472b",
   "metadata": {},
   "outputs": [
    {
     "name": "stdout",
     "output_type": "stream",
     "text": [
      "<class 'str'> <class 'int'>\n"
     ]
    }
   ],
   "source": [
    "# string to integer\n",
    "\n",
    "value = '25'    # string data type variable\n",
    "\n",
    "int_form = int(value)   # we get an integer data type\n",
    "\n",
    "print(type(value), type(int_form))"
   ]
  },
  {
   "cell_type": "code",
   "execution_count": 16,
   "id": "d0f04101",
   "metadata": {},
   "outputs": [
    {
     "name": "stdout",
     "output_type": "stream",
     "text": [
      "<class 'str'> <class 'float'>\n"
     ]
    }
   ],
   "source": [
    "# string to float\n",
    "\n",
    "value = '31.21'    # string type\n",
    "\n",
    "float_form = float(value) # we get float point number\n",
    "\n",
    "print(type(value), type(float_form))"
   ]
  },
  {
   "cell_type": "code",
   "execution_count": 17,
   "id": "a95b26de",
   "metadata": {},
   "outputs": [
    {
     "name": "stdout",
     "output_type": "stream",
     "text": [
      "<class 'int'> <class 'str'>\n"
     ]
    }
   ],
   "source": [
    "# integer to string\n",
    "\n",
    "value = 62  # integer type\n",
    "\n",
    "str_form = str(value)   # we get string data type\n",
    "\n",
    "print(type(value), type(str_form))"
   ]
  },
  {
   "cell_type": "markdown",
   "id": "178040ea",
   "metadata": {},
   "source": [
    "__Q.10.__ Why does this expression cause an error? How can you fix it?\n",
    "\n",
    "<font color = red > 'I have eaten'</font> <font color = brown > + </font> <font color = green >99</font> <font color = brown > + </font> <font color = red > 'burritos.'</font>"
   ]
  },
  {
   "cell_type": "markdown",
   "id": "fa144543",
   "metadata": {},
   "source": [
    "__Answer:-__"
   ]
  },
  {
   "cell_type": "markdown",
   "id": "868db668",
   "metadata": {},
   "source": [
    "Because 99 is an integer it cannot be concatenated with strings, if we have to concatenate it we need to do typecasting."
   ]
  },
  {
   "cell_type": "markdown",
   "id": "14b96cfe",
   "metadata": {},
   "source": [
    "__Example:-__"
   ]
  },
  {
   "cell_type": "code",
   "execution_count": 18,
   "id": "3c707dcc",
   "metadata": {},
   "outputs": [
    {
     "data": {
      "text/plain": [
       "'I have eaten 99 burritos.'"
      ]
     },
     "execution_count": 18,
     "metadata": {},
     "output_type": "execute_result"
    }
   ],
   "source": [
    "'I have eaten ' + str(99) + ' burritos.'"
   ]
  },
  {
   "cell_type": "code",
   "execution_count": null,
   "id": "d725e5af",
   "metadata": {},
   "outputs": [],
   "source": []
  }
 ],
 "metadata": {
  "kernelspec": {
   "display_name": "Python 3",
   "language": "python",
   "name": "python3"
  },
  "language_info": {
   "codemirror_mode": {
    "name": "ipython",
    "version": 3
   },
   "file_extension": ".py",
   "mimetype": "text/x-python",
   "name": "python",
   "nbconvert_exporter": "python",
   "pygments_lexer": "ipython3",
   "version": "3.8.8"
  }
 },
 "nbformat": 4,
 "nbformat_minor": 5
}
