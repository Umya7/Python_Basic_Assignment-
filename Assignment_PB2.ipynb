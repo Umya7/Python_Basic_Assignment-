{
 "cells": [
  {
   "cell_type": "markdown",
   "id": "ec8b11cb",
   "metadata": {},
   "source": [
    "## Assignment 2"
   ]
  },
  {
   "cell_type": "markdown",
   "id": "dbf6dc9e",
   "metadata": {},
   "source": [
    "**Q.1.** What are the two values of the Boolean data type? How do you write them?"
   ]
  },
  {
   "cell_type": "markdown",
   "id": "bda82608",
   "metadata": {},
   "source": [
    "**Answer :-**"
   ]
  },
  {
   "cell_type": "markdown",
   "id": "363a57f4",
   "metadata": {},
   "source": [
    "The boolean data type allows us to choose between two values,\n",
    "\n",
    "    1. True\n",
    "    2. False"
   ]
  },
  {
   "cell_type": "markdown",
   "id": "a27174f3",
   "metadata": {},
   "source": [
    "**Example :-**"
   ]
  },
  {
   "cell_type": "code",
   "execution_count": 1,
   "id": "d2a688d2",
   "metadata": {},
   "outputs": [
    {
     "name": "stdout",
     "output_type": "stream",
     "text": [
      "False\n",
      "True\n"
     ]
    }
   ],
   "source": [
    "print(20>25) # It will return output as False\n",
    "\n",
    "print(25<32) # It will return output as True"
   ]
  },
  {
   "cell_type": "markdown",
   "id": "64d420dc",
   "metadata": {},
   "source": [
    "**Q.2.** What are the three different types of Boolean operators?"
   ]
  },
  {
   "cell_type": "markdown",
   "id": "9827fbe5",
   "metadata": {},
   "source": [
    "**Answer :-**"
   ]
  },
  {
   "cell_type": "markdown",
   "id": "c1672d4b",
   "metadata": {},
   "source": [
    "- Consequently, there are three types of boolean operators:\n",
    "\n",
    "    * The AND operator (&& or “and”)\n",
    "    * The OR operator (|| or “or”)\n",
    "    * The NOT operator (not)"
   ]
  },
  {
   "cell_type": "markdown",
   "id": "7104b3cd",
   "metadata": {},
   "source": [
    "**Example :-**"
   ]
  },
  {
   "cell_type": "code",
   "execution_count": 2,
   "id": "51d3ef6f",
   "metadata": {},
   "outputs": [
    {
     "name": "stdout",
     "output_type": "stream",
     "text": [
      "False\n",
      "True\n",
      "False\n"
     ]
    }
   ],
   "source": [
    "# AND operator\n",
    "print(True and False)\n",
    "\n",
    "# OR operator\n",
    "print(True or False)\n",
    "\n",
    "# NOT operator\n",
    "print(not True)"
   ]
  },
  {
   "cell_type": "markdown",
   "id": "4fcc47f3",
   "metadata": {},
   "source": [
    "**Q.3.** Make a list of each Boolean operator&#39;s truth tables (i.e. every possible combination of Boolean\n",
    "values for the operator and what it evaluate )."
   ]
  },
  {
   "cell_type": "markdown",
   "id": "23b9f35e",
   "metadata": {},
   "source": [
    "**Answer :-**"
   ]
  },
  {
   "cell_type": "markdown",
   "id": "80bb3d06",
   "metadata": {},
   "source": [
    "AND opertor :-"
   ]
  },
  {
   "cell_type": "code",
   "execution_count": 3,
   "id": "797e8aa3",
   "metadata": {},
   "outputs": [
    {
     "name": "stdout",
     "output_type": "stream",
     "text": [
      " True and True is True\n",
      " True and False is False\n",
      " False and True is False\n",
      " False and False is False\n"
     ]
    }
   ],
   "source": [
    "A = True\n",
    "B = False\n",
    "\n",
    "print(f\" {A} and {A} is {A and A}\")\n",
    "print(f\" {A} and {B} is {A and B}\")\n",
    "print(f\" {B} and {A} is {B and A}\")\n",
    "print(f\" {B} and {B} is {B and B}\")"
   ]
  },
  {
   "cell_type": "markdown",
   "id": "36e4f44c",
   "metadata": {},
   "source": [
    "OR operator :-"
   ]
  },
  {
   "cell_type": "code",
   "execution_count": 4,
   "id": "20fc7437",
   "metadata": {},
   "outputs": [
    {
     "name": "stdout",
     "output_type": "stream",
     "text": [
      " True or True is True\n",
      " True or False is True\n",
      " False or True is True\n",
      " False or False is False\n"
     ]
    }
   ],
   "source": [
    "A = True\n",
    "B = False\n",
    "\n",
    "print(f\" {A} or {A} is {A or A}\")\n",
    "print(f\" {A} or {B} is {A or B}\")\n",
    "print(f\" {B} or {A} is {B or A}\")\n",
    "print(f\" {B} or {B} is {B or B}\")"
   ]
  },
  {
   "cell_type": "markdown",
   "id": "9affdc0c",
   "metadata": {},
   "source": [
    "NOT operator :-"
   ]
  },
  {
   "cell_type": "code",
   "execution_count": 5,
   "id": "5188cb49",
   "metadata": {},
   "outputs": [
    {
     "name": "stdout",
     "output_type": "stream",
     "text": [
      "not True is False\n",
      "not False is True\n"
     ]
    }
   ],
   "source": [
    "A = True\n",
    "B = False\n",
    "\n",
    "print(f\"not {A} is {not A}\")\n",
    "print(f\"not {B} is {not B}\")"
   ]
  },
  {
   "cell_type": "markdown",
   "id": "eb467d4b",
   "metadata": {},
   "source": [
    "**Q.4.** What are the values of the following expressions?\n",
    "\n",
    "    1. (5 > 4) and (3 == 5)\n",
    "    2. not (5 > 4)\n",
    "    3. (5 > 4) or (3 == 5)\n",
    "    4. not ((5 > 4) or (3 == 5))\n",
    "    5. (True and True) and (True == False)\n",
    "    6. (not False) or (not True)"
   ]
  },
  {
   "cell_type": "markdown",
   "id": "018b9d26",
   "metadata": {},
   "source": [
    "**Answer :-**"
   ]
  },
  {
   "cell_type": "code",
   "execution_count": 6,
   "id": "a2f602b9",
   "metadata": {},
   "outputs": [
    {
     "data": {
      "text/plain": [
       "False"
      ]
     },
     "execution_count": 6,
     "metadata": {},
     "output_type": "execute_result"
    }
   ],
   "source": [
    "# 1. (5 > 4) and (3 == 5)\n",
    "\n",
    "(5 > 4) and (3 == 5)"
   ]
  },
  {
   "cell_type": "code",
   "execution_count": 7,
   "id": "1763a8ad",
   "metadata": {},
   "outputs": [
    {
     "data": {
      "text/plain": [
       "False"
      ]
     },
     "execution_count": 7,
     "metadata": {},
     "output_type": "execute_result"
    }
   ],
   "source": [
    "# 2. not (5 > 4)\n",
    "\n",
    "not (5 > 4)"
   ]
  },
  {
   "cell_type": "code",
   "execution_count": 8,
   "id": "961ccd93",
   "metadata": {},
   "outputs": [
    {
     "data": {
      "text/plain": [
       "True"
      ]
     },
     "execution_count": 8,
     "metadata": {},
     "output_type": "execute_result"
    }
   ],
   "source": [
    "# 3. (5 > 4) or (3 == 5)\n",
    "\n",
    "(5 > 4) or (3 == 5)"
   ]
  },
  {
   "cell_type": "code",
   "execution_count": 9,
   "id": "dafc7b89",
   "metadata": {},
   "outputs": [
    {
     "data": {
      "text/plain": [
       "False"
      ]
     },
     "execution_count": 9,
     "metadata": {},
     "output_type": "execute_result"
    }
   ],
   "source": [
    "# 4. not ((5 > 4) or (3 == 5))\n",
    "\n",
    "not ((5 > 4) or (3 == 5))"
   ]
  },
  {
   "cell_type": "code",
   "execution_count": 10,
   "id": "4bdc8293",
   "metadata": {},
   "outputs": [
    {
     "data": {
      "text/plain": [
       "False"
      ]
     },
     "execution_count": 10,
     "metadata": {},
     "output_type": "execute_result"
    }
   ],
   "source": [
    "# 5. (True and True) and (True == False)\n",
    "\n",
    "(True and True) and (True == False)"
   ]
  },
  {
   "cell_type": "code",
   "execution_count": 11,
   "id": "5a803a9c",
   "metadata": {},
   "outputs": [
    {
     "data": {
      "text/plain": [
       "True"
      ]
     },
     "execution_count": 11,
     "metadata": {},
     "output_type": "execute_result"
    }
   ],
   "source": [
    "# 6. (not False) or (not True)\n",
    "\n",
    "(not False) or (not True)"
   ]
  },
  {
   "cell_type": "markdown",
   "id": "fb9435ff",
   "metadata": {},
   "source": [
    "**Q.5.** What are the six comparison operators?"
   ]
  },
  {
   "cell_type": "markdown",
   "id": "6ad70103",
   "metadata": {},
   "source": [
    "**Answer :-**"
   ]
  },
  {
   "cell_type": "markdown",
   "id": "203567f1",
   "metadata": {},
   "source": [
    "- Six comparison operators in Python are :\n",
    "    \n",
    "    * Equal (==)\n",
    "    * Not Equal (!=)\n",
    "    * Greater Than (>)\n",
    "    * Greater Than Equal To (>=)\n",
    "    * Less Than (<)\n",
    "    * Less Than Equal To (<=)\n"
   ]
  },
  {
   "cell_type": "markdown",
   "id": "f16839d5",
   "metadata": {},
   "source": [
    "**Example :-**"
   ]
  },
  {
   "cell_type": "code",
   "execution_count": 12,
   "id": "494c754e",
   "metadata": {},
   "outputs": [
    {
     "name": "stdout",
     "output_type": "stream",
     "text": [
      "25 == 15 is False\n"
     ]
    }
   ],
   "source": [
    "# Equal (==) operator\n",
    "\n",
    "A = 25\n",
    "B = 15\n",
    "\n",
    "print(f\"{A} == {B} is {A == B}\")"
   ]
  },
  {
   "cell_type": "code",
   "execution_count": 13,
   "id": "94949591",
   "metadata": {},
   "outputs": [
    {
     "name": "stdout",
     "output_type": "stream",
     "text": [
      "25 != 15 is True\n"
     ]
    }
   ],
   "source": [
    "# Not Equal (!=) operator\n",
    "\n",
    "A = 25\n",
    "B = 15\n",
    "\n",
    "print(f\"{A} != {B} is {A != B}\")"
   ]
  },
  {
   "cell_type": "code",
   "execution_count": 14,
   "id": "c88aa447",
   "metadata": {},
   "outputs": [
    {
     "name": "stdout",
     "output_type": "stream",
     "text": [
      "25 > 15 is True\n"
     ]
    }
   ],
   "source": [
    "# Greater Than (>) operator\n",
    "\n",
    "A = 25\n",
    "B = 15\n",
    "\n",
    "print(f\"{A} > {B} is {A > B}\")"
   ]
  },
  {
   "cell_type": "code",
   "execution_count": 15,
   "id": "98cb3a4e",
   "metadata": {},
   "outputs": [
    {
     "name": "stdout",
     "output_type": "stream",
     "text": [
      "25 >= 15 is True\n"
     ]
    }
   ],
   "source": [
    "# Greater Than Equal To (>=) operator\n",
    "\n",
    "A = 25\n",
    "B = 15\n",
    "\n",
    "print(f\"{A} >= {B} is {A >= B}\")"
   ]
  },
  {
   "cell_type": "code",
   "execution_count": 16,
   "id": "13ad94c4",
   "metadata": {},
   "outputs": [
    {
     "name": "stdout",
     "output_type": "stream",
     "text": [
      "25 < 15 is False\n"
     ]
    }
   ],
   "source": [
    "# Less Than (<) operator\n",
    "\n",
    "A = 25\n",
    "B = 15\n",
    "\n",
    "print(f\"{A} < {B} is {A < B}\")"
   ]
  },
  {
   "cell_type": "code",
   "execution_count": 17,
   "id": "50c72a7d",
   "metadata": {},
   "outputs": [
    {
     "name": "stdout",
     "output_type": "stream",
     "text": [
      "25 <= 35 is True\n"
     ]
    }
   ],
   "source": [
    "# Less Than Equal To (<=) operator\n",
    "\n",
    "A = 25\n",
    "B = 35\n",
    "\n",
    "print(f\"{A} <= {B} is {A <= B}\")"
   ]
  },
  {
   "cell_type": "markdown",
   "id": "afe64776",
   "metadata": {},
   "source": [
    "**Q.6.** How do you tell the difference between the equal to and assignment operators?Describe a\n",
    "condition and when you would use one."
   ]
  },
  {
   "cell_type": "markdown",
   "id": "32ebd4d2",
   "metadata": {},
   "source": [
    "**Answer :-**"
   ]
  },
  {
   "cell_type": "markdown",
   "id": "077458d2",
   "metadata": {},
   "source": [
    "- Assignment operator \"=\"\n",
    "    * It is an assignment operator.\n",
    "    * It is used for assigning the value to a variable.\n",
    "    * Example :\n",
    "        * A = 15\n",
    "        * str = \"Kumar\"\n",
    "    * Constant term cannot be placed on left hand side.\n",
    "    * Example :\n",
    "        * 1 = x ; is invalid."
   ]
  },
  {
   "cell_type": "markdown",
   "id": "88574f16",
   "metadata": {},
   "source": [
    "- Equal to Operator \"==\"\n",
    "    * It is a relational or comparison operator.\n",
    "    * It is used for comparing two values. It returns 1 if both the values are equal otherwise returns 0.\n",
    "    * Constant term can be placed in the left hand side.\n",
    "    * Example :\n",
    "        * 23 == 23 is valid and returns 1."
   ]
  },
  {
   "cell_type": "markdown",
   "id": "04e05b0f",
   "metadata": {},
   "source": [
    "**Example :-**"
   ]
  },
  {
   "cell_type": "code",
   "execution_count": 18,
   "id": "158dbeca",
   "metadata": {},
   "outputs": [
    {
     "name": "stdout",
     "output_type": "stream",
     "text": [
      "True\n"
     ]
    }
   ],
   "source": [
    "A = 23\n",
    "B = 23\n",
    "\n",
    "if A == B :\n",
    "    print(True) # If Both A and B are same it will return True\n",
    "else:\n",
    "    print(False) # If Both A and B are not same it will return False"
   ]
  },
  {
   "cell_type": "markdown",
   "id": "604a9415",
   "metadata": {},
   "source": [
    "**Q.7.** Identify the three blocks in this code:\n",
    "    \n",
    "    spam = 0\n",
    "    \n",
    "    if spam == 10:\n",
    "    \n",
    "    print('eggs')\n",
    "        \n",
    "    if spam > 5:\n",
    "    \n",
    "    print('bacon')\n",
    "        \n",
    "    else:\n",
    "    \n",
    "    print('ham')\n",
    "    \n",
    "    print('spam')\n",
    "    \n",
    "    print('spam')"
   ]
  },
  {
   "cell_type": "markdown",
   "id": "3b9886fc",
   "metadata": {},
   "source": [
    "**Answer :-**"
   ]
  },
  {
   "cell_type": "code",
   "execution_count": 19,
   "id": "06129359",
   "metadata": {},
   "outputs": [
    {
     "name": "stdout",
     "output_type": "stream",
     "text": [
      "ham\n",
      "spam\n",
      "spam\n"
     ]
    }
   ],
   "source": [
    "spam = 0 \n",
    "    \n",
    "if spam == 10: # 1st Block\n",
    "    print(\"eggs\")  \n",
    "\n",
    "if spam > 5: # 2nd Block\n",
    "    print(\"bacon\")\n",
    "    \n",
    "else: # 3rd Block\n",
    "    print(\"ham\")\n",
    "    print(\"spam\")\n",
    "    print(\"spam\")"
   ]
  },
  {
   "cell_type": "markdown",
   "id": "0812858d",
   "metadata": {},
   "source": [
    "**Q.8.** Write code that prints Hello if 1 is stored in spam, prints Howdy if 2 is stored in spam, and prints\n",
    "Greetings! if anything else is stored in spam."
   ]
  },
  {
   "cell_type": "markdown",
   "id": "a51de42b",
   "metadata": {},
   "source": [
    "**Answer :-**"
   ]
  },
  {
   "cell_type": "code",
   "execution_count": 20,
   "id": "d686a8f1",
   "metadata": {},
   "outputs": [
    {
     "name": "stdout",
     "output_type": "stream",
     "text": [
      "Enter Spam Value : 3\n",
      "Value of spam is 3\n",
      "Greetings!\n"
     ]
    }
   ],
   "source": [
    "spam = int(input(\"Enter Spam Value : \"))\n",
    "\n",
    "print(f\"Value of spam is {spam}\")\n",
    "\n",
    "if spam == 1 :\n",
    "    print(\"Hello\")\n",
    "    \n",
    "elif spam == 2:\n",
    "    print(\"Howdy\")\n",
    "    \n",
    "else:\n",
    "    print(\"Greetings!\")"
   ]
  },
  {
   "cell_type": "markdown",
   "id": "3eeddd35",
   "metadata": {},
   "source": [
    "**Q.9.** If your programme is stuck in an endless loop, what keys you’ll press?"
   ]
  },
  {
   "cell_type": "markdown",
   "id": "91750c6c",
   "metadata": {},
   "source": [
    "**Answer :-**"
   ]
  },
  {
   "cell_type": "markdown",
   "id": "2354eda4",
   "metadata": {},
   "source": [
    "From KeyBoard Press \"CTRL + C\" to exit from a infinite loop."
   ]
  },
  {
   "cell_type": "markdown",
   "id": "6c6d1a25",
   "metadata": {},
   "source": [
    "**Q.10.** How can you tell the difference between break and continue?"
   ]
  },
  {
   "cell_type": "markdown",
   "id": "5be85426",
   "metadata": {},
   "source": [
    "**Answer :-**"
   ]
  },
  {
   "cell_type": "markdown",
   "id": "53a26e3e",
   "metadata": {},
   "source": [
    "- Break Statement : \n",
    "    * Break statements exist in Python to exit or “break” a for or while conditional loop. When the loop ends, the code picks up from and executes the next line immediately following the loop that was broken."
   ]
  },
  {
   "cell_type": "markdown",
   "id": "bb247322",
   "metadata": {},
   "source": [
    "- Continue Statement:\n",
    "    * The continue statement is used to skip code within a loop for certain iterations of the loop. After the code is skipped,\n",
    "the loop continues where it left off"
   ]
  },
  {
   "cell_type": "markdown",
   "id": "0efa3e89",
   "metadata": {},
   "source": [
    "**Example:-**"
   ]
  },
  {
   "cell_type": "code",
   "execution_count": 21,
   "id": "18428652",
   "metadata": {},
   "outputs": [
    {
     "name": "stdout",
     "output_type": "stream",
     "text": [
      "0 is divisible by 2.\n",
      "1 is not divisible by 2.\n",
      "2 is not divisible by 2.\n",
      "3 is not divisible by 2.\n",
      "4 is not divisible by 2.\n",
      "5 is divisible by 2.\n",
      "6 is not divisible by 2.\n",
      "7 is not divisible by 2.\n",
      "8 is not divisible by 2.\n"
     ]
    }
   ],
   "source": [
    "# print all numbers in range [0,8] and check if num is divisible by 2 \n",
    "#In this example, the loop will break after reaching the range.\n",
    "\n",
    "num = 0 \n",
    "while True:\n",
    "    if num > 8:\n",
    "        break\n",
    "    if num % 5 == 0:\n",
    "        print(f\"{num} is divisible by 2.\")\n",
    "    else:\n",
    "        print(f\"{num} is not divisible by 2.\")\n",
    "\n",
    "    num += 1"
   ]
  },
  {
   "cell_type": "code",
   "execution_count": 22,
   "id": "20028677",
   "metadata": {},
   "outputs": [
    {
     "name": "stdout",
     "output_type": "stream",
     "text": [
      "T\n",
      "h\n",
      "s\n",
      " \n",
      "s\n",
      " \n",
      "m\n",
      "y\n",
      " \n",
      "s\n",
      "c\n",
      "n\n",
      "d\n",
      " \n",
      "s\n",
      "s\n",
      "g\n",
      "n\n",
      "m\n",
      "n\n",
      "t\n"
     ]
    }
   ],
   "source": [
    "# This example print all letters except vowels from string\n",
    "\n",
    "string = \"This is my second assignment\"\n",
    "\n",
    "for i in string:\n",
    "    if i=='a' or i=='e' or i=='i' or i=='o' or i=='u':\n",
    "        continue\n",
    "    print(i) "
   ]
  },
  {
   "cell_type": "markdown",
   "id": "9635eae1",
   "metadata": {},
   "source": [
    "**Q.11.** In a for loop, what is the difference between range(10), range(0, 10), and range(0, 10, 1)?"
   ]
  },
  {
   "cell_type": "markdown",
   "id": "c86f9bce",
   "metadata": {},
   "source": [
    "**Answer :-**"
   ]
  },
  {
   "cell_type": "markdown",
   "id": "c10b154b",
   "metadata": {},
   "source": [
    "There is no difference in the `range(10)`, `range(0,10)` and `range(0,10,1)` function. outputs same result, but in second case we are defining the start value and in 3rd case we also defining the step.\n",
    "\n",
    "- By definition, range function is `range(start, stop, step)` :\n",
    "\n",
    "    * Start : An integer number specifying at which position to start. Default is 0 and it is optional.\n",
    "    \n",
    "    * Stop : An integer number specifying at which position to stop (not included). and it is required.\n",
    "    \n",
    "    * Step : An integer number specifying the incrementation. Default is 1 and it is optional."
   ]
  },
  {
   "cell_type": "code",
   "execution_count": 23,
   "id": "33e66d82",
   "metadata": {},
   "outputs": [
    {
     "name": "stdout",
     "output_type": "stream",
     "text": [
      "0\n",
      "1\n",
      "2\n",
      "3\n",
      "4\n",
      "5\n",
      "6\n",
      "7\n",
      "8\n",
      "9\n"
     ]
    }
   ],
   "source": [
    "for i in range(10) :\n",
    "    print(i)"
   ]
  },
  {
   "cell_type": "code",
   "execution_count": 24,
   "id": "ebac8178",
   "metadata": {},
   "outputs": [
    {
     "name": "stdout",
     "output_type": "stream",
     "text": [
      "0\n",
      "1\n",
      "2\n",
      "3\n",
      "4\n",
      "5\n",
      "6\n",
      "7\n",
      "8\n",
      "9\n"
     ]
    }
   ],
   "source": [
    "for i in range(0, 10) :\n",
    "    print(i)"
   ]
  },
  {
   "cell_type": "code",
   "execution_count": 25,
   "id": "8b804fe7",
   "metadata": {},
   "outputs": [
    {
     "name": "stdout",
     "output_type": "stream",
     "text": [
      "0\n",
      "1\n",
      "2\n",
      "3\n",
      "4\n",
      "5\n",
      "6\n",
      "7\n",
      "8\n",
      "9\n"
     ]
    }
   ],
   "source": [
    "for i in range(0, 10, 1) :\n",
    "    print(i)"
   ]
  },
  {
   "cell_type": "markdown",
   "id": "56910f36",
   "metadata": {},
   "source": [
    "**Q.12.** Write a short program that prints the numbers 1 to 10 using a for loop. Then write an equivalent\n",
    "program that prints the numbers 1 to 10 using a while loop."
   ]
  },
  {
   "cell_type": "markdown",
   "id": "31e65226",
   "metadata": {},
   "source": [
    "**Answer :-**"
   ]
  },
  {
   "cell_type": "code",
   "execution_count": 26,
   "id": "cb309091",
   "metadata": {},
   "outputs": [
    {
     "name": "stdout",
     "output_type": "stream",
     "text": [
      "Numbers from 1 to 10:\n",
      "1 2 3 4 5 6 7 8 9 10 "
     ]
    }
   ],
   "source": [
    "# Using for loop :\n",
    "\n",
    "print('Numbers from 1 to 10:')\n",
    "for n in range(1, 11):\n",
    "   print(n, end=' ')"
   ]
  },
  {
   "cell_type": "code",
   "execution_count": 27,
   "id": "8f5cedb8",
   "metadata": {},
   "outputs": [
    {
     "name": "stdout",
     "output_type": "stream",
     "text": [
      "Numbers from 1 to 10:\n",
      "1 2 3 4 5 6 7 8 9 10 "
     ]
    }
   ],
   "source": [
    "# Using while loop :\n",
    "\n",
    "print('Numbers from 1 to 10:')\n",
    "n = 1\n",
    "while n <= 10:\n",
    "   print(n, end=' ')\n",
    "   n = n+1"
   ]
  },
  {
   "cell_type": "markdown",
   "id": "254028d9",
   "metadata": {},
   "source": [
    "**Q.13.** If you had a function named bacon() inside a module named spam, how would you call it after\n",
    "importing spam?"
   ]
  },
  {
   "cell_type": "markdown",
   "id": "abae6f85",
   "metadata": {},
   "source": [
    "**Answer :-**"
   ]
  },
  {
   "cell_type": "markdown",
   "id": "aa1ef6ff",
   "metadata": {},
   "source": [
    "<font color = green > import </font> spam\n",
    "\n",
    "s <font color = darkviolet > = </font> spam.bacon()"
   ]
  },
  {
   "cell_type": "code",
   "execution_count": null,
   "id": "447aa9db",
   "metadata": {},
   "outputs": [],
   "source": []
  }
 ],
 "metadata": {
  "kernelspec": {
   "display_name": "Python 3",
   "language": "python",
   "name": "python3"
  },
  "language_info": {
   "codemirror_mode": {
    "name": "ipython",
    "version": 3
   },
   "file_extension": ".py",
   "mimetype": "text/x-python",
   "name": "python",
   "nbconvert_exporter": "python",
   "pygments_lexer": "ipython3",
   "version": "3.8.8"
  }
 },
 "nbformat": 4,
 "nbformat_minor": 5
}
