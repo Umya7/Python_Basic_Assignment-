{
 "cells": [
  {
   "cell_type": "markdown",
   "id": "a7cb8a12",
   "metadata": {},
   "source": [
    "## Assignment 21"
   ]
  },
  {
   "cell_type": "markdown",
   "id": "f3dc7439",
   "metadata": {},
   "source": [
    "**Q.1.** Add the current date to the text file ```today.txt``` as a string."
   ]
  },
  {
   "cell_type": "markdown",
   "id": "6e7d74c1",
   "metadata": {},
   "source": [
    "**Answer :-**"
   ]
  },
  {
   "cell_type": "code",
   "execution_count": 1,
   "id": "32f309cf",
   "metadata": {},
   "outputs": [
    {
     "data": {
      "text/plain": [
       "'2022-06-02'"
      ]
     },
     "execution_count": 1,
     "metadata": {},
     "output_type": "execute_result"
    }
   ],
   "source": [
    "import datetime\n",
    "from datetime import date\n",
    "now = date.today()\n",
    "cur_date = now.isoformat()\n",
    "cur_date"
   ]
  },
  {
   "cell_type": "code",
   "execution_count": 2,
   "id": "65c0ff8e",
   "metadata": {},
   "outputs": [],
   "source": [
    "with open('today.txt','w') as file:\n",
    "    file.write(cur_date)"
   ]
  },
  {
   "cell_type": "code",
   "execution_count": 3,
   "id": "54bd1045",
   "metadata": {},
   "outputs": [],
   "source": [
    "file.close()"
   ]
  },
  {
   "cell_type": "markdown",
   "id": "8d471b47",
   "metadata": {},
   "source": [
    "**Q.2.** Read the text file ```today.txt``` into the string ```today_string```."
   ]
  },
  {
   "cell_type": "markdown",
   "id": "c1aaebae",
   "metadata": {},
   "source": [
    "**Answer :-**"
   ]
  },
  {
   "cell_type": "code",
   "execution_count": 4,
   "id": "0cdc89d1",
   "metadata": {},
   "outputs": [
    {
     "data": {
      "text/plain": [
       "'2022-06-02'"
      ]
     },
     "execution_count": 4,
     "metadata": {},
     "output_type": "execute_result"
    }
   ],
   "source": [
    "with open('today.txt','r') as file:\n",
    "    today_string = file.read()\n",
    "today_string"
   ]
  },
  {
   "cell_type": "markdown",
   "id": "5460bf95",
   "metadata": {},
   "source": [
    "**Q.3.** Parse the date from ```today_string```."
   ]
  },
  {
   "cell_type": "markdown",
   "id": "6ab66fa9",
   "metadata": {},
   "source": [
    "**Answer :-**"
   ]
  },
  {
   "cell_type": "code",
   "execution_count": 5,
   "id": "04e1469c",
   "metadata": {},
   "outputs": [
    {
     "data": {
      "text/plain": [
       "datetime.datetime(2022, 6, 2, 0, 0)"
      ]
     },
     "execution_count": 5,
     "metadata": {},
     "output_type": "execute_result"
    }
   ],
   "source": [
    "from datetime import datetime\n",
    "format = '%Y-%m-%d'\n",
    "datetime.strptime(today_string,format)"
   ]
  },
  {
   "cell_type": "markdown",
   "id": "1078d3ec",
   "metadata": {},
   "source": [
    "**Q.4.** List the files in your current directory."
   ]
  },
  {
   "cell_type": "markdown",
   "id": "55eb0c79",
   "metadata": {},
   "source": [
    "**Answer :-**"
   ]
  },
  {
   "cell_type": "code",
   "execution_count": 6,
   "id": "cf9b1136",
   "metadata": {},
   "outputs": [
    {
     "data": {
      "text/plain": [
       "['.ipynb_checkpoints',\n",
       " 'Assignment_PB1.ipynb',\n",
       " 'Assignment_PB10.ipynb',\n",
       " 'Assignment_PB11.ipynb',\n",
       " 'Assignment_PB12.ipynb',\n",
       " 'Assignment_PB13.ipynb',\n",
       " 'Assignment_PB14.ipynb',\n",
       " 'Assignment_PB15.ipynb',\n",
       " 'Assignment_PB16.ipynb',\n",
       " 'Assignment_PB17.ipynb',\n",
       " 'Assignment_PB18.ipynb',\n",
       " 'Assignment_PB19.ipynb',\n",
       " 'Assignment_PB2.ipynb',\n",
       " 'Assignment_PB20.ipynb',\n",
       " 'Assignment_PB21.ipynb',\n",
       " 'Assignment_PB3.ipynb',\n",
       " 'Assignment_PB4.ipynb',\n",
       " 'Assignment_PB5.ipynb',\n",
       " 'Assignment_PB6.ipynb',\n",
       " 'Assignment_PB7.ipynb',\n",
       " 'Assignment_PB8.ipynb',\n",
       " 'Assignment_PB9.ipynb',\n",
       " 'books.csv',\n",
       " 'books.db',\n",
       " 'cropped_image.jpg',\n",
       " 'doc.docx',\n",
       " 'doc.jpg',\n",
       " 'fullstackds_task-main',\n",
       " 'heading.docx',\n",
       " 'heading.jpg',\n",
       " 'multi.py',\n",
       " 'output.csv',\n",
       " 'sample.csv',\n",
       " 'sample.docx',\n",
       " 'sample.pdf',\n",
       " 'sample1.tsv',\n",
       " 'test.txt',\n",
       " 'today.txt']"
      ]
     },
     "execution_count": 6,
     "metadata": {},
     "output_type": "execute_result"
    }
   ],
   "source": [
    "import os\n",
    "os.listdir('.')"
   ]
  },
  {
   "cell_type": "markdown",
   "id": "9001f0d7",
   "metadata": {},
   "source": [
    "**Q.5.** Create a list of all of the files in your parent directory (minimum five files should be available)."
   ]
  },
  {
   "cell_type": "markdown",
   "id": "86479cb6",
   "metadata": {},
   "source": [
    "**Answer :-**"
   ]
  },
  {
   "cell_type": "code",
   "execution_count": 7,
   "id": "379859f3",
   "metadata": {},
   "outputs": [
    {
     "data": {
      "text/plain": [
       "['.idea',\n",
       " '.ipynb_checkpoints',\n",
       " '0recored.jpg',\n",
       " '12 Mar 22 Pandas & Numpy Day-1.ipynb',\n",
       " '12+.docx',\n",
       " '13 Feb 22 MongoDB.ipynb',\n",
       " '13 Mar 22 Numpy Day-2.ipynb',\n",
       " '15 Jan & 16 Jan 22 Exception Handling.ipynb',\n",
       " '18 Dec 21 Tuple.ipynb',\n",
       " '19 Dec 21 if elif else.ipynb',\n",
       " '19 Feb 22 MongoDB Task.ipynb',\n",
       " '19.3 MongoDB',\n",
       " '1datainsert.jpg',\n",
       " '1dataupdate.jpg',\n",
       " '20 Dec 21 For Else.ipynb',\n",
       " '20 Feb 22 SQLite, Map, Reduce, Filter, Zip.ipynb',\n",
       " '21 Dec 21 If While.ipynb',\n",
       " '22 Jan 22 Logging Dubbing.ipynb',\n",
       " '23 Dec 21 Concept of Function.ipynb',\n",
       " '23 Jan 22 OPPS.ipynb',\n",
       " '26 Feb 22 Pandas.ipynb',\n",
       " '26 Mar 22 Graph.ipynb',\n",
       " '26 Mar Graph Home-Work.ipynb',\n",
       " '26 Mar Graph Home-Work1.ipynb',\n",
       " '27 Feb 22 Pandas Day 2.ipynb',\n",
       " '27 Feb 22 Pandas Task 2.ipynb',\n",
       " '27 Mar 22 Graphs Day 2.ipynb',\n",
       " '27 Nov 21 Basic Program.ipynb',\n",
       " '29 Jan 22 OPPS Inheritance.ipynb',\n",
       " '30 Jan 22 Inheritance.ipynb',\n",
       " '5 Dec 21 String Slice.ipynb',\n",
       " '5 Feb 22 SQL Basic .ipynb',\n",
       " '5 Mar 22 Pandas Day 3.ipynb',\n",
       " '6 Feb 22 SQL Assignment.ipynb',\n",
       " '6 Feb 22 SQL Day 2 .ipynb',\n",
       " '6 Mar 22 Pandas Day 4.ipynb',\n",
       " '6 Mar 22 Task.ipynb',\n",
       " '8 Jan 22 Compression Operation .ipynb',\n",
       " '9 Jan 22 Generator.ipynb',\n",
       " 'addresses.csv',\n",
       " 'API-Program',\n",
       " 'API-Test',\n",
       " 'Assignment 23-Dec-2021.ipynb',\n",
       " 'bank-full.csv',\n",
       " 'bank-names.txt',\n",
       " 'bank.csv',\n",
       " 'car.data',\n",
       " 'car.names',\n",
       " 'carbon_nanotubes.csv',\n",
       " 'chromedriver.exe',\n",
       " 'class and module.ipynb',\n",
       " 'contacts.csv',\n",
       " 'cricket.csv',\n",
       " 'emp_data_set.csv',\n",
       " 'file3.txt',\n",
       " 'flask',\n",
       " 'flask_demo',\n",
       " 'Function and holiday task.ipynb',\n",
       " 'glass.data',\n",
       " 'graph.jpeg',\n",
       " 'holiday_schedules.csv',\n",
       " 'Import CSV File.ipynb',\n",
       " 'ineuron.db',\n",
       " 'IPL.csv',\n",
       " 'IPL.ipynb',\n",
       " 'job.db',\n",
       " 'json_output.csv',\n",
       " 'json_res.csv',\n",
       " 'locations.csv',\n",
       " 'Logging.ipynb',\n",
       " 'LUSID Excel - Business Agility - Making Simple Changes Quickly & Easily.xlsx',\n",
       " 'LUSID Excel - Maintain a product in multiple currencies and share classes.xlsx',\n",
       " 'LUSID Excel - Manage Orders.xlsx',\n",
       " 'LUSID Excel - Manage your investment strategies.xlsx',\n",
       " 'LUSID Excel - Setting up your IBOR.xlsx',\n",
       " 'LUSID Excel - Setting up your market data.xlsx',\n",
       " 'mail_addresses.csv',\n",
       " 'main_log.log',\n",
       " 'maths.py',\n",
       " 'mongodb class 1.ipynb',\n",
       " 'MonogoDB-Assignment',\n",
       " 'mydict.py',\n",
       " 'mydict.py.bak',\n",
       " 'MyProjects',\n",
       " 'my_math.py',\n",
       " 'my_math.py.bak',\n",
       " 'my_module.py',\n",
       " 'my_module.py.bak',\n",
       " 'nanotube_logfile.log',\n",
       " 'nanotube_logfile_log.jpg',\n",
       " 'nature.png',\n",
       " 'NBA.csv',\n",
       " 'Notes.ipynb',\n",
       " 'organizations.csv',\n",
       " 'Pandas Task',\n",
       " 'PDF Marger Task',\n",
       " 'PDF Marger Task.ipynb',\n",
       " 'PDF Merge Utility.spec',\n",
       " 'person.db',\n",
       " 'phones.csv',\n",
       " 'prob.py',\n",
       " 'prob_1.py',\n",
       " 'programs.csv',\n",
       " 'Python_Basic_Assignment',\n",
       " 'ram.log',\n",
       " 'regular_schedules.csv',\n",
       " 'result.pdf',\n",
       " 'sample_test.csv',\n",
       " 'sample_test.csv.bak',\n",
       " 'Season IPL.ipynb',\n",
       " 'Section 1 - Program.ipynb',\n",
       " 'Section 2 - Program.ipynb',\n",
       " 'Section 3 - Program.ipynb',\n",
       " 'Section 4 - Program.ipynb',\n",
       " 'Section 5 - Program.ipynb',\n",
       " 'Section 6 - Program.ipynb',\n",
       " 'Section 7 - Program.ipynb',\n",
       " 'Section 8 - Program.ipynb',\n",
       " 'services.csv',\n",
       " 'SQL Task',\n",
       " 'Stats',\n",
       " 'taxonomy.csv',\n",
       " 'test.log',\n",
       " 'test.py',\n",
       " 'test.py.bak',\n",
       " 'test.txt',\n",
       " 'test1.txt',\n",
       " 'test2.log',\n",
       " 'test2.txt',\n",
       " 'test3.log',\n",
       " 'test4.txt',\n",
       " 'The.pdf',\n",
       " 'The1.pdf',\n",
       " 'The3.pdf',\n",
       " 'The6.pdf',\n",
       " 'titanic.csv',\n",
       " 'Tkinter',\n",
       " 'venv',\n",
       " 'video.mp4',\n",
       " '__pycache__']"
      ]
     },
     "execution_count": 7,
     "metadata": {},
     "output_type": "execute_result"
    }
   ],
   "source": [
    "os.listdir('..')"
   ]
  },
  {
   "cell_type": "markdown",
   "id": "30ea149c",
   "metadata": {},
   "source": [
    "**Q.6.** Use multiprocessing to create three separate processes. Make each one wait a random number of\n",
    "seconds between one and five, print the current time, and then exit."
   ]
  },
  {
   "cell_type": "markdown",
   "id": "3f58a910",
   "metadata": {},
   "source": [
    "**Answer :-**"
   ]
  },
  {
   "cell_type": "code",
   "execution_count": 8,
   "id": "4f36a8fe",
   "metadata": {},
   "outputs": [],
   "source": [
    "import multiprocessing\n",
    "\n",
    "def PrintSec(seconds):\n",
    "    from datetime import datetime\n",
    "    from time import sleep\n",
    "    sleep(seconds)\n",
    "    print('wait', seconds, 'seconds, time is', datetime.utcnow())\n",
    "    \n",
    "if __name__ == '__main__':\n",
    "    import random    \n",
    "    for n in range(3):\n",
    "        seconds = random.random()\n",
    "        proc = multiprocessing.Process(target=PrintSec, args=(seconds,))\n",
    "        proc.start()"
   ]
  },
  {
   "cell_type": "code",
   "execution_count": 9,
   "id": "9b0be9b6",
   "metadata": {},
   "outputs": [
    {
     "name": "stdout",
     "output_type": "stream",
     "text": [
      "wait 0.2506506273691669 seconds, time is 2022-06-02 03:17:25.254546\n",
      "wait 0.29003355091254324 seconds, time is 2022-06-02 03:17:25.286461\n",
      "wait 0.41392868233240776 seconds, time is 2022-06-02 03:17:25.409747\n"
     ]
    }
   ],
   "source": [
    "!python multi.py"
   ]
  },
  {
   "cell_type": "markdown",
   "id": "7e194c1f",
   "metadata": {},
   "source": [
    "**Q.7.** Create a date object of your day of birth."
   ]
  },
  {
   "cell_type": "markdown",
   "id": "2ace92fe",
   "metadata": {},
   "source": [
    "**Answer :-**"
   ]
  },
  {
   "cell_type": "code",
   "execution_count": 10,
   "id": "71f3c7ba",
   "metadata": {},
   "outputs": [
    {
     "data": {
      "text/plain": [
       "datetime.date(1996, 8, 7)"
      ]
     },
     "execution_count": 10,
     "metadata": {},
     "output_type": "execute_result"
    }
   ],
   "source": [
    "my_date = date(1996, 8, 7)\n",
    "my_date"
   ]
  },
  {
   "cell_type": "markdown",
   "id": "43e3a6e2",
   "metadata": {},
   "source": [
    "**Q.8.** What day of the week was your day of birth?"
   ]
  },
  {
   "cell_type": "markdown",
   "id": "d2263d5d",
   "metadata": {},
   "source": [
    "**Answer :-**"
   ]
  },
  {
   "cell_type": "code",
   "execution_count": 11,
   "id": "7b4e590a",
   "metadata": {},
   "outputs": [
    {
     "data": {
      "text/plain": [
       "2"
      ]
     },
     "execution_count": 11,
     "metadata": {},
     "output_type": "execute_result"
    }
   ],
   "source": [
    "my_date.weekday()"
   ]
  },
  {
   "cell_type": "markdown",
   "id": "46b0db86",
   "metadata": {},
   "source": [
    "**Q.9.** When will you be (or when were you) 10,000 days old?"
   ]
  },
  {
   "cell_type": "markdown",
   "id": "a0b4bb13",
   "metadata": {},
   "source": [
    "**Answer :-**"
   ]
  },
  {
   "cell_type": "code",
   "execution_count": 12,
   "id": "659ac61a",
   "metadata": {},
   "outputs": [
    {
     "data": {
      "text/plain": [
       "datetime.date(2023, 12, 24)"
      ]
     },
     "execution_count": 12,
     "metadata": {},
     "output_type": "execute_result"
    }
   ],
   "source": [
    "from datetime import timedelta\n",
    "day10000 = my_date + timedelta(days = 10000)\n",
    "day10000"
   ]
  }
 ],
 "metadata": {
  "kernelspec": {
   "display_name": "Python 3",
   "language": "python",
   "name": "python3"
  },
  "language_info": {
   "codemirror_mode": {
    "name": "ipython",
    "version": 3
   },
   "file_extension": ".py",
   "mimetype": "text/x-python",
   "name": "python",
   "nbconvert_exporter": "python",
   "pygments_lexer": "ipython3",
   "version": "3.8.8"
  }
 },
 "nbformat": 4,
 "nbformat_minor": 5
}
