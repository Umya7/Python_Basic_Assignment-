{
 "cells": [
  {
   "cell_type": "markdown",
   "id": "2ceb4e11",
   "metadata": {},
   "source": [
    "## Assignment 11"
   ]
  },
  {
   "cell_type": "markdown",
   "id": "db02095f",
   "metadata": {},
   "source": [
    "**Q.1.** Create an assert statement that throws an AssertionError if the variable spam is a negative\n",
    "integer."
   ]
  },
  {
   "cell_type": "markdown",
   "id": "4d82dc4c",
   "metadata": {},
   "source": [
    "**Answer :-**"
   ]
  },
  {
   "cell_type": "markdown",
   "id": "db17f446",
   "metadata": {},
   "source": [
    "Assert statement is used to continue the execute function if the given condition is True. If the assert condition evaluates to False, then it raises the AssertionError exception with the specified error message."
   ]
  },
  {
   "cell_type": "markdown",
   "id": "2c9a107c",
   "metadata": {},
   "source": [
    "**Example :-**"
   ]
  },
  {
   "cell_type": "code",
   "execution_count": 1,
   "id": "34feaeb4",
   "metadata": {},
   "outputs": [
    {
     "name": "stdout",
     "output_type": "stream",
     "text": [
      "Enter Positive Number :-5\n"
     ]
    },
    {
     "ename": "AssertionError",
     "evalue": "",
     "output_type": "error",
     "traceback": [
      "\u001b[1;31m---------------------------------------------------------------------------\u001b[0m",
      "\u001b[1;31mAssertionError\u001b[0m                            Traceback (most recent call last)",
      "\u001b[1;32m<ipython-input-1-29821678e819>\u001b[0m in \u001b[0;36m<module>\u001b[1;34m\u001b[0m\n\u001b[0;32m      2\u001b[0m \u001b[1;33m\u001b[0m\u001b[0m\n\u001b[0;32m      3\u001b[0m \u001b[0mspam\u001b[0m \u001b[1;33m=\u001b[0m \u001b[0mpyip\u001b[0m\u001b[1;33m.\u001b[0m\u001b[0minputNum\u001b[0m\u001b[1;33m(\u001b[0m\u001b[1;34m\"Enter Positive Number :\"\u001b[0m\u001b[1;33m)\u001b[0m\u001b[1;33m\u001b[0m\u001b[1;33m\u001b[0m\u001b[0m\n\u001b[1;32m----> 4\u001b[1;33m \u001b[1;32massert\u001b[0m \u001b[0mspam\u001b[0m \u001b[1;33m>\u001b[0m \u001b[1;36m0\u001b[0m  \u001b[1;31m#if number is negative it will throw AssertionError\u001b[0m\u001b[1;33m\u001b[0m\u001b[1;33m\u001b[0m\u001b[0m\n\u001b[0m\u001b[0;32m      5\u001b[0m \u001b[0mprint\u001b[0m\u001b[1;33m(\u001b[0m\u001b[0mspam\u001b[0m\u001b[1;33m,\u001b[0m\u001b[1;34m'is a positive number'\u001b[0m\u001b[1;33m)\u001b[0m\u001b[1;33m\u001b[0m\u001b[1;33m\u001b[0m\u001b[0m\n",
      "\u001b[1;31mAssertionError\u001b[0m: "
     ]
    }
   ],
   "source": [
    "import pyinputplus as pyip\n",
    "\n",
    "spam = pyip.inputNum(\"Enter Positive Number :\")\n",
    "assert spam > 0  #if number is negative it will throw AssertionError\n",
    "print(spam,'is a positive number')"
   ]
  },
  {
   "cell_type": "markdown",
   "id": "f4d1eb09",
   "metadata": {},
   "source": [
    "**Q.2.** Write an assert statement that triggers an AssertionError if the variables eggs and bacon contain\n",
    "strings that are the same as each other, even if their cases are different (that is, **'hello'** and **'Hello'** are\n",
    "considered the same, and **'goodbye'** and **'GOODbye'** are also considered the same)."
   ]
  },
  {
   "cell_type": "markdown",
   "id": "3d8118cc",
   "metadata": {},
   "source": [
    "**Answer :-**"
   ]
  },
  {
   "cell_type": "code",
   "execution_count": 2,
   "id": "a23e8f6c",
   "metadata": {},
   "outputs": [
    {
     "ename": "AssertionError",
     "evalue": "",
     "output_type": "error",
     "traceback": [
      "\u001b[1;31m---------------------------------------------------------------------------\u001b[0m",
      "\u001b[1;31mAssertionError\u001b[0m                            Traceback (most recent call last)",
      "\u001b[1;32m<ipython-input-2-49c5a503e6af>\u001b[0m in \u001b[0;36m<module>\u001b[1;34m\u001b[0m\n\u001b[0;32m      2\u001b[0m \u001b[0mbacon\u001b[0m \u001b[1;33m=\u001b[0m\u001b[1;34m'Hello'\u001b[0m\u001b[1;33m\u001b[0m\u001b[1;33m\u001b[0m\u001b[0m\n\u001b[0;32m      3\u001b[0m \u001b[1;33m\u001b[0m\u001b[0m\n\u001b[1;32m----> 4\u001b[1;33m \u001b[1;32massert\u001b[0m \u001b[0meggs\u001b[0m\u001b[1;33m.\u001b[0m\u001b[0mlower\u001b[0m\u001b[1;33m(\u001b[0m\u001b[1;33m)\u001b[0m \u001b[1;33m!=\u001b[0m \u001b[0mbacon\u001b[0m\u001b[1;33m.\u001b[0m\u001b[0mlower\u001b[0m\u001b[1;33m(\u001b[0m\u001b[1;33m)\u001b[0m \u001b[1;32mor\u001b[0m \u001b[0meggs\u001b[0m\u001b[1;33m.\u001b[0m\u001b[0mupper\u001b[0m\u001b[1;33m(\u001b[0m\u001b[1;33m)\u001b[0m \u001b[1;33m!=\u001b[0m \u001b[0mbacon\u001b[0m\u001b[1;33m.\u001b[0m\u001b[0mupper\u001b[0m\u001b[1;33m(\u001b[0m\u001b[1;33m)\u001b[0m\u001b[1;33m\u001b[0m\u001b[1;33m\u001b[0m\u001b[0m\n\u001b[0m\u001b[0;32m      5\u001b[0m \u001b[0mprint\u001b[0m\u001b[1;33m(\u001b[0m\u001b[1;34m'The eggs and bacon variables are not the same!'\u001b[0m\u001b[1;33m)\u001b[0m\u001b[1;33m\u001b[0m\u001b[1;33m\u001b[0m\u001b[0m\n",
      "\u001b[1;31mAssertionError\u001b[0m: "
     ]
    }
   ],
   "source": [
    "eggs='hello'\n",
    "bacon ='Hello'\n",
    "\n",
    "assert eggs.lower() != bacon.lower() or eggs.upper() != bacon.upper()\n",
    "print('The eggs and bacon variables are not the same!')"
   ]
  },
  {
   "cell_type": "markdown",
   "id": "a2209460",
   "metadata": {},
   "source": [
    "**Q.3.** Create an assert statement that throws an AssertionError every time."
   ]
  },
  {
   "cell_type": "markdown",
   "id": "8b2285a1",
   "metadata": {},
   "source": [
    "**Answer :-**"
   ]
  },
  {
   "cell_type": "markdown",
   "id": "88d8d78e",
   "metadata": {},
   "source": [
    "`assert False` : This assertion always triggers AssertionError."
   ]
  },
  {
   "cell_type": "markdown",
   "id": "32777d78",
   "metadata": {},
   "source": [
    "**Q.4.** What are the two lines that must be present in your software in order to call `logging.debug()`?"
   ]
  },
  {
   "cell_type": "markdown",
   "id": "2f84cae9",
   "metadata": {},
   "source": [
    "**Answer :-**"
   ]
  },
  {
   "cell_type": "markdown",
   "id": "a104af09",
   "metadata": {},
   "source": [
    "To be able to call logging.debug(), we must have these two lines at the start of oour program:\n",
    "```python\n",
    "import logging \n",
    "logging.basicConfig(level=logging.DEBUG, format=' %(asctime)s - %(levelname)s - %(message)s')\n",
    "```"
   ]
  },
  {
   "cell_type": "markdown",
   "id": "97d2cd4f",
   "metadata": {},
   "source": [
    "**Q.5.** What are the two lines that your program must have in order to have `logging.debug()` send a\n",
    "logging message to a file named `programLog.txt`?"
   ]
  },
  {
   "cell_type": "markdown",
   "id": "85ee23e1",
   "metadata": {},
   "source": [
    "**Answer :-**"
   ]
  },
  {
   "cell_type": "markdown",
   "id": "65a51400",
   "metadata": {},
   "source": [
    "```python\n",
    "import logging as lg\n",
    "lg.basicConfig(filename='ProgramLog.txt', level=lg.DEBUG, format=' %(asctime)s - %(levelname)s - %(message)s')\n",
    "```"
   ]
  },
  {
   "cell_type": "markdown",
   "id": "6acdfa24",
   "metadata": {},
   "source": [
    "**Q.6.** What are the five levels of logging?"
   ]
  },
  {
   "cell_type": "markdown",
   "id": "71e3bf6f",
   "metadata": {},
   "source": [
    "**Answer :-**"
   ]
  },
  {
   "cell_type": "markdown",
   "id": "17d04f3a",
   "metadata": {},
   "source": [
    "Five level of loggins are `DEBUG`, `INFO`, `WARNING`, `ERROR`, and `CRITICAL` :\n",
    "\n",
    "- **logging.debug()** : Variable's state and small details.\n",
    "- **logging.info()** : General events, confirm a program is working.\n",
    "- **logging.warning()** : Potiental problem to work on in the future.\n",
    "- **logging.error()** : Record an error that caused program to fail to do something.\n",
    "- **logging.critical()** : Fatal error that has caused."
   ]
  },
  {
   "cell_type": "markdown",
   "id": "c490610c",
   "metadata": {},
   "source": [
    "**Q.7.** What line of code would you add to your software to disable all logging messages?"
   ]
  },
  {
   "cell_type": "markdown",
   "id": "e6c45457",
   "metadata": {},
   "source": [
    "**Answer :-**"
   ]
  },
  {
   "cell_type": "markdown",
   "id": "e1082e4f",
   "metadata": {},
   "source": [
    "`logging.disable(level)` : Disables all logging calls of severity 'level' and below.\n",
    "    \n",
    "Set `level = logging.CRITICAL`\n",
    "\n",
    "Since, CRITICAL being the highest level, every other level loggings will be disabled."
   ]
  },
  {
   "cell_type": "markdown",
   "id": "33039748",
   "metadata": {},
   "source": [
    "**Q.8.** Why is using logging messages better than using `print()` to display the same message?"
   ]
  },
  {
   "cell_type": "markdown",
   "id": "d7c52078",
   "metadata": {},
   "source": [
    "**Answer :-**"
   ]
  },
  {
   "cell_type": "markdown",
   "id": "ac5b91e6",
   "metadata": {},
   "source": [
    "We can disable logging messages without removing the logging function calls.\\\n",
    "We can selectively disable lower-level logging messages.\\\n",
    "We can create logging messages. Logging messages provides a timestamp."
   ]
  },
  {
   "cell_type": "markdown",
   "id": "61b69996",
   "metadata": {},
   "source": [
    "**Q.9.** What are the differences between the Step Over, Step In, and Step Out buttons in the debugger?"
   ]
  },
  {
   "cell_type": "markdown",
   "id": "8877a4c0",
   "metadata": {},
   "source": [
    "**Answer :-**"
   ]
  },
  {
   "cell_type": "markdown",
   "id": "631a5bd5",
   "metadata": {},
   "source": [
    "The difference between `Step Over`, `Step In` and `Step Out` is :\n",
    "    \n",
    "- `Step Over` : Step Over button will quickly execute the function call without stepping into it.\n",
    "- `Step In` : Step In button will move the debugger into a function call. \n",
    "- `Step Out` : Step Out button will quickly execute the rest of the code until it steps out of the function it currently is in."
   ]
  },
  {
   "cell_type": "markdown",
   "id": "d7b6e53d",
   "metadata": {},
   "source": [
    "**Q.10.** After you click Continue, when will the debugger stop ?"
   ]
  },
  {
   "cell_type": "markdown",
   "id": "4ccec98a",
   "metadata": {},
   "source": [
    "**Answer :-**"
   ]
  },
  {
   "cell_type": "markdown",
   "id": "15a3e208",
   "metadata": {},
   "source": [
    "Afetr clicking continue it will stops at next breakpoint, if there are no further breakpoints the program will be fully executed."
   ]
  },
  {
   "cell_type": "markdown",
   "id": "81890e78",
   "metadata": {},
   "source": [
    "**Q.11.** What is the concept of a breakpoint?"
   ]
  },
  {
   "cell_type": "markdown",
   "id": "233622ef",
   "metadata": {},
   "source": [
    "**Answer :-**"
   ]
  },
  {
   "cell_type": "markdown",
   "id": "40474b35",
   "metadata": {},
   "source": [
    "A breakpoint is a setting on a line of code that causes the debugger to pause when the program execution reaches the line."
   ]
  }
 ],
 "metadata": {
  "kernelspec": {
   "display_name": "Python 3",
   "language": "python",
   "name": "python3"
  },
  "language_info": {
   "codemirror_mode": {
    "name": "ipython",
    "version": 3
   },
   "file_extension": ".py",
   "mimetype": "text/x-python",
   "name": "python",
   "nbconvert_exporter": "python",
   "pygments_lexer": "ipython3",
   "version": "3.8.8"
  }
 },
 "nbformat": 4,
 "nbformat_minor": 5
}
