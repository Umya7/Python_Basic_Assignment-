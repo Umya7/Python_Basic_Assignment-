{
 "cells": [
  {
   "cell_type": "markdown",
   "id": "eb0734a3",
   "metadata": {},
   "source": [
    "## Assignment 9"
   ]
  },
  {
   "cell_type": "markdown",
   "id": "21b023e4",
   "metadata": {},
   "source": [
    "**Q.1.** To what does a relative path refer?"
   ]
  },
  {
   "cell_type": "markdown",
   "id": "e2e756c3",
   "metadata": {},
   "source": [
    "**Answer :-**"
   ]
  },
  {
   "cell_type": "markdown",
   "id": "de31c673",
   "metadata": {},
   "source": [
    "Relative path is the path of a file with respect to your current working directory(pwd)."
   ]
  },
  {
   "cell_type": "markdown",
   "id": "d567066c",
   "metadata": {},
   "source": [
    "**Q.2.** What does an absolute path start with your operating system?"
   ]
  },
  {
   "cell_type": "markdown",
   "id": "ca01923a",
   "metadata": {},
   "source": [
    "**Answer :-**"
   ]
  },
  {
   "cell_type": "markdown",
   "id": "467eb9a9",
   "metadata": {},
   "source": [
    "Absolute path is a complete path from start of actual file system from / directory."
   ]
  },
  {
   "cell_type": "markdown",
   "id": "3645d971",
   "metadata": {},
   "source": [
    "**Q.3.** What do the functions `os.getcwd()` and `os.chdir()` do?"
   ]
  },
  {
   "cell_type": "markdown",
   "id": "4e73bf3e",
   "metadata": {},
   "source": [
    "**Answer :-**"
   ]
  },
  {
   "cell_type": "markdown",
   "id": "a24ff321",
   "metadata": {},
   "source": [
    "- `os.getcwd()` : Function returns the current working directory.\n",
    "- `os.chdir()` : Function changes the current working directory."
   ]
  },
  {
   "cell_type": "markdown",
   "id": "2fed9372",
   "metadata": {},
   "source": [
    "**Q.4.** What are the **.** and **..** folders?"
   ]
  },
  {
   "cell_type": "markdown",
   "id": "850218d4",
   "metadata": {},
   "source": [
    "**Answer :-**"
   ]
  },
  {
   "cell_type": "markdown",
   "id": "089315c9",
   "metadata": {},
   "source": [
    "- `. folder` is the current folder.\n",
    "- `.. folder` is the parent folder."
   ]
  },
  {
   "cell_type": "markdown",
   "id": "c5364d43",
   "metadata": {},
   "source": [
    "**Q.5.** In `C:\\bacon\\eggs\\spam.txt`, which part is the **dir** name, and which part is the **base** name?"
   ]
  },
  {
   "cell_type": "markdown",
   "id": "9737ddc5",
   "metadata": {},
   "source": [
    "**Answer :-**"
   ]
  },
  {
   "cell_type": "markdown",
   "id": "b38adb4e",
   "metadata": {},
   "source": [
    "From `C:\\bacon\\eggs\\spam.txt`, `C:\\bacon\\eggs` is **dir** name and `spam.txt` is **base** name.\n",
    "\n",
    "By using `os.path.basename()` can be used to extract base name from the path and `os.path.dirname()` can be used to extract dir name form path."
   ]
  },
  {
   "cell_type": "markdown",
   "id": "e168e9aa",
   "metadata": {},
   "source": [
    "**Q.6.** What are the three “mode” arguments that can be passed to the `open()` function?"
   ]
  },
  {
   "cell_type": "markdown",
   "id": "3c108aa7",
   "metadata": {},
   "source": [
    "**Answer :-**"
   ]
  },
  {
   "cell_type": "markdown",
   "id": "011aae09",
   "metadata": {},
   "source": [
    "The three “mode” arguments that can be passed to the `open()` function is :\n",
    "\n",
    "   - String **'r'** for read mode\n",
    "   - String **'w'** for write mode\n",
    "   - String **'a'** for append mode"
   ]
  },
  {
   "cell_type": "markdown",
   "id": "d32ad34d",
   "metadata": {},
   "source": [
    "**Q.7.** What happens if an existing file is opened in write mode?"
   ]
  },
  {
   "cell_type": "markdown",
   "id": "7abbf235",
   "metadata": {},
   "source": [
    "**Answer :-**"
   ]
  },
  {
   "cell_type": "markdown",
   "id": "0d6a01b1",
   "metadata": {},
   "source": [
    "When a existing file is opened in write mode, contens which were previously present will be overwritten by new content passed."
   ]
  },
  {
   "cell_type": "markdown",
   "id": "74b8f1d2",
   "metadata": {},
   "source": [
    "**Q.8.** How do you tell the difference between `read()` and `readlines()`?"
   ]
  },
  {
   "cell_type": "markdown",
   "id": "5035c055",
   "metadata": {},
   "source": [
    "**Answer :-**"
   ]
  },
  {
   "cell_type": "markdown",
   "id": "398da840",
   "metadata": {},
   "source": [
    "- `read()` method returns the file’s entire contents as a single string value.\n",
    "\n",
    "- `readlines()` method returns a list of strings, where each string is a line from the file’s contents."
   ]
  },
  {
   "cell_type": "markdown",
   "id": "21e10666",
   "metadata": {},
   "source": [
    "**Q.9.** What data structure does a shelf value resemble?"
   ]
  },
  {
   "cell_type": "markdown",
   "id": "a9a264c6",
   "metadata": {},
   "source": [
    "**Answer :-**"
   ]
  },
  {
   "cell_type": "markdown",
   "id": "6ce01355",
   "metadata": {},
   "source": [
    "A shelf value resembles a dictionary value; it has keys and values, along with `keys()` and `values()` methods that work similarly to the dictionary methods of the same names"
   ]
  }
 ],
 "metadata": {
  "kernelspec": {
   "display_name": "Python 3",
   "language": "python",
   "name": "python3"
  },
  "language_info": {
   "codemirror_mode": {
    "name": "ipython",
    "version": 3
   },
   "file_extension": ".py",
   "mimetype": "text/x-python",
   "name": "python",
   "nbconvert_exporter": "python",
   "pygments_lexer": "ipython3",
   "version": "3.8.8"
  }
 },
 "nbformat": 4,
 "nbformat_minor": 5
}
