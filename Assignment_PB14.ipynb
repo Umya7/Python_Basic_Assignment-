{
 "cells": [
  {
   "cell_type": "markdown",
   "id": "af6cd1b5",
   "metadata": {},
   "source": [
    "## Assignment 14"
   ]
  },
  {
   "cell_type": "markdown",
   "id": "4d4cbeda",
   "metadata": {},
   "source": [
    "**Q.1.** What does **RGBA** stand for?"
   ]
  },
  {
   "cell_type": "markdown",
   "id": "97d25174",
   "metadata": {},
   "source": [
    "**Answer :-**"
   ]
  },
  {
   "cell_type": "markdown",
   "id": "fa1dfa86",
   "metadata": {},
   "source": [
    "**RGBA** stand for :\n",
    "\n",
    "- **R** : Red\n",
    "- **G** : Green\n",
    "- **B** : Blue\n",
    "- **A** : Alpha(Transparency in color)"
   ]
  },
  {
   "cell_type": "markdown",
   "id": "4546245a",
   "metadata": {},
   "source": [
    "**Q.2.** From the `Pillow` module, how do you get the **RGBA** value of any images?"
   ]
  },
  {
   "cell_type": "markdown",
   "id": "35d6d83f",
   "metadata": {},
   "source": [
    "**Answer :-**"
   ]
  },
  {
   "cell_type": "markdown",
   "id": "5a631114",
   "metadata": {},
   "source": [
    "Import the image module from the Pillow library from PIL import Image.\\\n",
    "Open any image and get the\\\n",
    "RAGBAG values.img =Image.open('image.png') & rgba = img.convert(“RGBA”)\\\n",
    "Change the color\\\n",
    "Data will be an imaging Core object containing thousands of tuples of RGBA values and finally store the changed image."
   ]
  },
  {
   "cell_type": "markdown",
   "id": "01e5ba1f",
   "metadata": {},
   "source": [
    "**Example :-**"
   ]
  },
  {
   "cell_type": "code",
   "execution_count": 1,
   "id": "196b076f",
   "metadata": {},
   "outputs": [
    {
     "data": {
      "text/plain": [
       "(0, 128, 0, 255)"
      ]
     },
     "execution_count": 1,
     "metadata": {},
     "output_type": "execute_result"
    }
   ],
   "source": [
    "from PIL import ImageColor\n",
    "ImageColor.getcolor('red', 'RGBA')\n",
    "ImageColor.getcolor('green', 'RGBA')"
   ]
  },
  {
   "cell_type": "markdown",
   "id": "487495ab",
   "metadata": {},
   "source": [
    "**Q.3.** What is a box tuple, and how does it work?"
   ]
  },
  {
   "cell_type": "markdown",
   "id": "8ab9d6a0",
   "metadata": {},
   "source": [
    "**Answer :-**"
   ]
  },
  {
   "cell_type": "markdown",
   "id": "9442bd23",
   "metadata": {},
   "source": [
    "A box tuple is a tuple value of four integers: the left edge x-coordinate, the top edge y-coordinate, the width, and the height, respectively."
   ]
  },
  {
   "cell_type": "markdown",
   "id": "3a08932b",
   "metadata": {},
   "source": [
    "**Example :-**"
   ]
  },
  {
   "cell_type": "code",
   "execution_count": 2,
   "id": "5b4ab2b9",
   "metadata": {},
   "outputs": [
    {
     "data": {
      "image/png": "[encoded data removed]",
      "text/plain": [
       "<PIL.JpegImagePlugin.JpegImageFile image mode=RGB size=438x181 at 0x1E97407CE20>"
      ]
     },
     "execution_count": 2,
     "metadata": {},
     "output_type": "execute_result"
    }
   ],
   "source": [
    "from PIL import Image\n",
    " \n",
    "#  open image and get size\n",
    "img = Image.open(\"doc.jpg\")\n",
    "width, height = img.size\n",
    " \n",
    "# cropped image using coordinates\n",
    "area = (0, 0, width/2, height/2)\n",
    "crop_img = img.crop(area)\n",
    "crop_img.save(\"cropped_image.jpg\")\n",
    "img"
   ]
  },
  {
   "cell_type": "code",
   "execution_count": 3,
   "id": "8ea34fc3",
   "metadata": {},
   "outputs": [
    {
     "data": {
      "image/png": "[encoded data removed]",
      "text/plain": [
       "<PIL.JpegImagePlugin.JpegImageFile image mode=RGB size=219x90 at 0x1E973F91610>"
      ]
     },
     "execution_count": 3,
     "metadata": {},
     "output_type": "execute_result"
    }
   ],
   "source": [
    "Image.open(\"cropped_image.jpg\")"
   ]
  },
  {
   "cell_type": "markdown",
   "id": "2aa26ae1",
   "metadata": {},
   "source": [
    "**Q.4.** Use your image and load in notebook then, How can you find out the width and height of an\n",
    "Image object?"
   ]
  },
  {
   "cell_type": "markdown",
   "id": "039d5234",
   "metadata": {},
   "source": [
    "**Answer :-**"
   ]
  },
  {
   "cell_type": "code",
   "execution_count": 4,
   "id": "985f2987",
   "metadata": {},
   "outputs": [
    {
     "data": {
      "text/plain": [
       "(438, 181)"
      ]
     },
     "execution_count": 4,
     "metadata": {},
     "output_type": "execute_result"
    }
   ],
   "source": [
    "from PIL import Image\n",
    "myImg = Image.open('doc.jpg')\n",
    "w,h = myImg.size\n",
    "w,h"
   ]
  },
  {
   "cell_type": "markdown",
   "id": "50bbc685",
   "metadata": {},
   "source": [
    "**Q.5.** What method would you call to get Image object for a 100×100 image, excluding the lower-left\n",
    "quarter of it?"
   ]
  },
  {
   "cell_type": "markdown",
   "id": "42c084b6",
   "metadata": {},
   "source": [
    "**Answer :-**"
   ]
  },
  {
   "cell_type": "markdown",
   "id": "5d5a76ce",
   "metadata": {},
   "source": [
    "By calling the `ImageObject.crop((0, 50, 50, 50))` function."
   ]
  },
  {
   "cell_type": "markdown",
   "id": "586d8454",
   "metadata": {},
   "source": [
    "**Q.6.** After making changes to an Image object, how could you save it as an image file?"
   ]
  },
  {
   "cell_type": "markdown",
   "id": "21cb58e1",
   "metadata": {},
   "source": [
    "**Answer :-**"
   ]
  },
  {
   "cell_type": "markdown",
   "id": "fddd928f",
   "metadata": {},
   "source": [
    "By calling the `imageObj.save('new_filename.png')` method of the Image object."
   ]
  },
  {
   "cell_type": "markdown",
   "id": "57c237c6",
   "metadata": {},
   "source": [
    "**Q.7.** What module contains Pillow’s shape-drawing code?"
   ]
  },
  {
   "cell_type": "markdown",
   "id": "6fc8ee38",
   "metadata": {},
   "source": [
    "**Answer :-**"
   ]
  },
  {
   "cell_type": "markdown",
   "id": "8d920bc6",
   "metadata": {},
   "source": [
    " The `ImageDraw` module contains code to draw on images"
   ]
  },
  {
   "cell_type": "markdown",
   "id": "5997aadb",
   "metadata": {},
   "source": [
    "**Q.8.** Image objects do not have drawing methods. What kind of object does? How do you get this kind\n",
    "of object?"
   ]
  },
  {
   "cell_type": "markdown",
   "id": "6dadce5f",
   "metadata": {},
   "source": [
    "**Answer :-**"
   ]
  },
  {
   "cell_type": "markdown",
   "id": "0efab9fb",
   "metadata": {},
   "source": [
    "ImageDraw objects have shape-drawing methods such as `point()`, `line()`, or `rectangle()`.\\\n",
    "They are returned by passing the Image object to the `ImageDraw.Draw()` function."
   ]
  }
 ],
 "metadata": {
  "kernelspec": {
   "display_name": "Python 3",
   "language": "python",
   "name": "python3"
  },
  "language_info": {
   "codemirror_mode": {
    "name": "ipython",
    "version": 3
   },
   "file_extension": ".py",
   "mimetype": "text/x-python",
   "name": "python",
   "nbconvert_exporter": "python",
   "pygments_lexer": "ipython3",
   "version": "3.8.8"
  }
 },
 "nbformat": 4,
 "nbformat_minor": 5
}
