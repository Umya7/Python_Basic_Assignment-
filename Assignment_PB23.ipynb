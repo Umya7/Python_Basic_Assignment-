{
 "cells": [
  {
   "cell_type": "markdown",
   "id": "e7de15dc",
   "metadata": {},
   "source": [
    "## Assignment 23"
   ]
  },
  {
   "cell_type": "markdown",
   "id": "294aa4f4",
   "metadata": {},
   "source": [
    "**Q.1.** What is the result of the code, and why?\n",
    "```python\n",
    "def func(a, b = 6, c = 8):\n",
    "    print(a, b, c)\n",
    "func(1, 2)\n",
    "```"
   ]
  },
  {
   "cell_type": "markdown",
   "id": "6efa621d",
   "metadata": {},
   "source": [
    "**Answer :-**  1 2 8"
   ]
  },
  {
   "cell_type": "markdown",
   "id": "dddbd861",
   "metadata": {},
   "source": [
    "**Explanation :-**\n",
    "    \n",
    "Here as we have hardcoded and sent 2 values therefore preference is given to the input user gives.  \n",
    "So, a = 1, b = 2, and c as by default argument 8."
   ]
  },
  {
   "cell_type": "code",
   "execution_count": 1,
   "id": "7928332a",
   "metadata": {},
   "outputs": [
    {
     "name": "stdout",
     "output_type": "stream",
     "text": [
      "1 2 8\n"
     ]
    }
   ],
   "source": [
    "def func(a, b = 6, c = 8):\n",
    "    print(a, b, c)\n",
    "func(1, 2)"
   ]
  },
  {
   "cell_type": "markdown",
   "id": "5aa749a0",
   "metadata": {},
   "source": [
    "**Q.2.** What is the result of this code, and why?\n",
    "```python\n",
    "def func(a, b, c = 5):\n",
    "    print(a, b, c)\n",
    "func(1, c = 3, b = 2)\n",
    "```"
   ]
  },
  {
   "cell_type": "markdown",
   "id": "11d17032",
   "metadata": {},
   "source": [
    "**Answer :-**  1 2 3"
   ]
  },
  {
   "cell_type": "markdown",
   "id": "43cfc3aa",
   "metadata": {},
   "source": [
    "**Explanation :-**\n",
    "\n",
    "Here, We have passed the value a = 1, b = 2 & c = 3.  \n",
    "Position doesnt matter as long as we have mentioned the variable to which value is assigned."
   ]
  },
  {
   "cell_type": "code",
   "execution_count": 3,
   "id": "1ab6eb77",
   "metadata": {},
   "outputs": [
    {
     "name": "stdout",
     "output_type": "stream",
     "text": [
      "1 2 3\n"
     ]
    }
   ],
   "source": [
    "def func(a, b, c = 5):\n",
    "    print(a, b, c)\n",
    "func(1, c = 3, b = 2)"
   ]
  },
  {
   "cell_type": "markdown",
   "id": "714bf9f6",
   "metadata": {},
   "source": [
    "**Q.3.** How about this code: what is its result, and why?\n",
    "```python\n",
    "def func(a, *pargs):\n",
    "    print(a, pargs)\n",
    "func(1, 2, 3)\n",
    "```"
   ]
  },
  {
   "cell_type": "markdown",
   "id": "7cafbd10",
   "metadata": {},
   "source": [
    "**Answer :-**  1 (2, 3)"
   ]
  },
  {
   "cell_type": "markdown",
   "id": "a1f40325",
   "metadata": {},
   "source": [
    "**Explanation :-**\n",
    "\n",
    "Here a = 1. *pargs returns as many argument user gives as input in form of tuples."
   ]
  },
  {
   "cell_type": "code",
   "execution_count": 4,
   "id": "5193f141",
   "metadata": {},
   "outputs": [
    {
     "name": "stdout",
     "output_type": "stream",
     "text": [
      "1 (2, 3)\n"
     ]
    }
   ],
   "source": [
    "def func(a, *pargs):\n",
    "    print(a, pargs)\n",
    "func(1, 2, 3)"
   ]
  },
  {
   "cell_type": "markdown",
   "id": "05b7584d",
   "metadata": {},
   "source": [
    "**Q.4.** What does this code print, and why?\n",
    "```python\n",
    "def func(a, **kargs):\n",
    "    print(a, kargs)\n",
    "func(a = 1, c = 3, b = 2)\n",
    "```"
   ]
  },
  {
   "cell_type": "markdown",
   "id": "d156d983",
   "metadata": {},
   "source": [
    "**Answer :-**  1 {'c': 3, 'b': 2}"
   ]
  },
  {
   "cell_type": "markdown",
   "id": "851a90a1",
   "metadata": {},
   "source": [
    "**Explanation :-**\n",
    "\n",
    "Here a = 1, **kargs returns as many argument user gives as input in form of dictionary."
   ]
  },
  {
   "cell_type": "code",
   "execution_count": 5,
   "id": "b1107010",
   "metadata": {},
   "outputs": [
    {
     "name": "stdout",
     "output_type": "stream",
     "text": [
      "1 {'c': 3, 'b': 2}\n"
     ]
    }
   ],
   "source": [
    "def func(a, **kargs):\n",
    "    print(a, kargs)\n",
    "func(a = 1, c = 3, b = 2)"
   ]
  },
  {
   "cell_type": "markdown",
   "id": "97301962",
   "metadata": {},
   "source": [
    "**Q.5.** What gets printed by this, and explain?\n",
    "```python\n",
    "def func(a, b, c = 8, d = 5):\n",
    "    print(a, b, c, d)\n",
    "func(1, *(5, 6))\n",
    "```"
   ]
  },
  {
   "cell_type": "markdown",
   "id": "a8a6a5e2",
   "metadata": {},
   "source": [
    "**Answer :-**  1 5 6 5"
   ]
  },
  {
   "cell_type": "markdown",
   "id": "74d21eae",
   "metadata": {},
   "source": [
    "**Explanation :-**\n",
    "\n",
    "- '*' is the unpacking operator and are operators that unpack the values from iterable objects in Python.\n",
    "- The single asterisk operator * can be used on any iterable that Python provides,\n",
    "- While the double asterisk operator ** can only be used on dictionaries.\n",
    "- In the example the value *(5,6) will be unpacked and will be assigned to b and c and passed as arguments, d = 5 will taken by defaults are keyword arguments."
   ]
  },
  {
   "cell_type": "code",
   "execution_count": 6,
   "id": "5cb85d8d",
   "metadata": {},
   "outputs": [
    {
     "name": "stdout",
     "output_type": "stream",
     "text": [
      "1 5 6 5\n"
     ]
    }
   ],
   "source": [
    "def func(a, b, c = 8, d = 5):\n",
    "    print(a, b, c, d)\n",
    "func(1, *(5, 6))"
   ]
  },
  {
   "cell_type": "markdown",
   "id": "40965938",
   "metadata": {},
   "source": [
    "**Q.6.** What is the result of this, and explain?\n",
    "```python\n",
    "def func(a, b, c): \n",
    "    a = 2; b[0] = 'x'; c['a'] = 'y'\n",
    "\n",
    "l = 1; m = [1]; n = {'a':0}\n",
    "func(l, m, n)\n",
    "l, m, n\n",
    "```"
   ]
  },
  {
   "cell_type": "markdown",
   "id": "e7f9faec",
   "metadata": {},
   "source": [
    "**Answer :-**  (1, ['x'], {'a': 'y'})"
   ]
  },
  {
   "cell_type": "code",
   "execution_count": null,
   "id": "b97c4cde",
   "metadata": {},
   "outputs": [],
   "source": [
    "**Explanation :-**\n",
    "\n",
    "Here in func(l, m, n) we passed l = 1, m is passed as list contain 1 element i.e 'x', n is passed as dictionary i.e {'a':'y'}"
   ]
  },
  {
   "cell_type": "code",
   "execution_count": 7,
   "id": "2846f207",
   "metadata": {},
   "outputs": [
    {
     "data": {
      "text/plain": [
       "(1, ['x'], {'a': 'y'})"
      ]
     },
     "execution_count": 7,
     "metadata": {},
     "output_type": "execute_result"
    }
   ],
   "source": [
    "def func(a, b, c): \n",
    "    a = 2; b[0] = 'x'; c['a'] = 'y'\n",
    "\n",
    "l = 1; m = [1]; n = {'a':0}\n",
    "func(l, m, n)\n",
    "l, m, n"
   ]
  },
  {
   "cell_type": "code",
   "execution_count": null,
   "id": "88e710ef",
   "metadata": {},
   "outputs": [],
   "source": []
  }
 ],
 "metadata": {
  "kernelspec": {
   "display_name": "Python 3",
   "language": "python",
   "name": "python3"
  },
  "language_info": {
   "codemirror_mode": {
    "name": "ipython",
    "version": 3
   },
   "file_extension": ".py",
   "mimetype": "text/x-python",
   "name": "python",
   "nbconvert_exporter": "python",
   "pygments_lexer": "ipython3",
   "version": "3.8.8"
  }
 },
 "nbformat": 4,
 "nbformat_minor": 5
}
