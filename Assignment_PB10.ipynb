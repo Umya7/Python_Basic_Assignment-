{
 "cells": [
  {
   "cell_type": "markdown",
   "id": "72c26682",
   "metadata": {},
   "source": [
    "## Assignment 10"
   ]
  },
  {
   "cell_type": "markdown",
   "id": "e0f4cea6",
   "metadata": {},
   "source": [
    "**Q.1.** How do you distinguish between `shutil.copy()` and `shutil.copytree()`?"
   ]
  },
  {
   "cell_type": "markdown",
   "id": "63f1660c",
   "metadata": {},
   "source": [
    "**Answer :-**"
   ]
  },
  {
   "cell_type": "markdown",
   "id": "df90790e",
   "metadata": {},
   "source": [
    "- `shutil.copy()` : Function will copy a single file.\n",
    "    \n",
    "- `shutil.copytree()` : Function will copy an entire folder, along with all its contents."
   ]
  },
  {
   "cell_type": "markdown",
   "id": "4d78fef9",
   "metadata": {},
   "source": [
    "**Q.2.** What function is used to rename files??"
   ]
  },
  {
   "cell_type": "markdown",
   "id": "9e5c91db",
   "metadata": {},
   "source": [
    "**Answer :-**"
   ]
  },
  {
   "cell_type": "markdown",
   "id": "225748a9",
   "metadata": {},
   "source": [
    "`os.rename('Old_File_Name', 'New_File_Name')` function is used to rename files."
   ]
  },
  {
   "cell_type": "markdown",
   "id": "f8f80185",
   "metadata": {},
   "source": [
    "**Q.3.** What is the difference between the delete functions in the send2trash and shutil modules?"
   ]
  },
  {
   "cell_type": "markdown",
   "id": "4996dea8",
   "metadata": {},
   "source": [
    "**Answer :-**"
   ]
  },
  {
   "cell_type": "markdown",
   "id": "9d05fc63",
   "metadata": {},
   "source": [
    "- `send2trash` : Functions will move a file or folder to the recycle bin.\n",
    "    \n",
    "- `shutil` : Functions will permanently delete files and folders."
   ]
  },
  {
   "cell_type": "markdown",
   "id": "5933ce6e",
   "metadata": {},
   "source": [
    "**Syntax :-**"
   ]
  },
  {
   "cell_type": "markdown",
   "id": "c42998fe",
   "metadata": {},
   "source": [
    "```python\n",
    "# moving a file or folder to the recycle bin.\n",
    "import os\n",
    "import shutil \n",
    "shutil.rmtree(\"path\") \n",
    "```"
   ]
  },
  {
   "cell_type": "markdown",
   "id": "22559181",
   "metadata": {},
   "source": [
    "```python\n",
    "# permanently delete files and folders.\n",
    "import os\n",
    "import send2trash as stt\n",
    "stt.send2trash(\"path\")\n",
    "```"
   ]
  },
  {
   "cell_type": "markdown",
   "id": "2ceaa55c",
   "metadata": {},
   "source": [
    "**Q.4.** ZipFile objects have a `close()` method just like File objects’ `close()` method. What ZipFile method is\n",
    "equivalent to File objects’ `open()` method?"
   ]
  },
  {
   "cell_type": "markdown",
   "id": "dde78433",
   "metadata": {},
   "source": [
    "**Answer :-**"
   ]
  },
  {
   "cell_type": "markdown",
   "id": "bedc9319",
   "metadata": {},
   "source": [
    "`zipfile.ZipFile('filename', 'mode')` : Function is equivalent to the open() function; the first argument is the filename, and the second argument is the mode to open the ZIP file in (read, write, or append)."
   ]
  },
  {
   "cell_type": "markdown",
   "id": "d0ff4e84",
   "metadata": {},
   "source": [
    "**Syntax :-**"
   ]
  },
  {
   "cell_type": "markdown",
   "id": "8a20df10",
   "metadata": {},
   "source": [
    "```python\n",
    "import zipfile\n",
    "from zipfile import ZipFile\n",
    "zipfile.ZipFile('filename', 'mode')\n",
    "```"
   ]
  },
  {
   "cell_type": "markdown",
   "id": "662689cc",
   "metadata": {},
   "source": [
    "**Q.5.** Create a programme that searches a folder tree for files with a certain file extension (such as .pdf\n",
    "or .jpg). Copy these files from whatever location they are in to a new folder."
   ]
  },
  {
   "cell_type": "markdown",
   "id": "4a05ed51",
   "metadata": {},
   "source": [
    "**Answer :-**"
   ]
  },
  {
   "cell_type": "code",
   "execution_count": 1,
   "id": "70eb873c",
   "metadata": {},
   "outputs": [
    {
     "name": "stdout",
     "output_type": "stream",
     "text": [
      "Looking in C:\\Users\\upraj.LAPTOP-9SF064MV\\Documents for files with extensions of .jpg, .txt, .xlsx\n",
      "Coping C:\\Users\\upraj.LAPTOP-9SF064MV\\Documents\\April Month Utilization.xlsx to C:\\Users\\upraj.LAPTOP-9SF064MV\\Desktop\\test\n",
      "Coping C:\\Users\\upraj.LAPTOP-9SF064MV\\Documents\\scrab.txt to C:\\Users\\upraj.LAPTOP-9SF064MV\\Desktop\\test\n",
      "Coping C:\\Users\\upraj.LAPTOP-9SF064MV\\Documents\\Self Managed Utilization Template.xlsx to C:\\Users\\upraj.LAPTOP-9SF064MV\\Desktop\\test\n",
      "Coping C:\\Users\\upraj.LAPTOP-9SF064MV\\Documents\\umesh.jpg to C:\\Users\\upraj.LAPTOP-9SF064MV\\Desktop\\test\n"
     ]
    }
   ],
   "source": [
    "import os, shutil\n",
    "\n",
    "def SelectiveCopy(source, extensions, destFolder):\n",
    "    folder = os.path.abspath(source)\n",
    "    destFolder = os.path.abspath(destFolder)\n",
    "    print('Looking in', source, 'for files with extensions of', ', '.join(extensions))\n",
    "    for foldername, subfolders, filenames in os.walk(source):\n",
    "        for filename in filenames:\n",
    "            name, extension = os.path.splitext(filename)\n",
    "            if extension in extensions:\n",
    "                fileAbsPath = foldername + os.path.sep + filename\n",
    "                print('Coping', fileAbsPath, 'to', destFolder)\n",
    "                shutil.copy(fileAbsPath, destFolder)\n",
    "\n",
    "extensions = ['.jpg', '.txt', '.xlsx']\n",
    "source = \"C:\\\\Users\\\\upraj.LAPTOP-9SF064MV\\\\Documents\"\n",
    "destFolder = \"C:\\\\Users\\\\upraj.LAPTOP-9SF064MV\\\\Desktop\\\\test\"\n",
    "SelectiveCopy(source, extensions, destFolder)"
   ]
  }
 ],
 "metadata": {
  "kernelspec": {
   "display_name": "Python 3",
   "language": "python",
   "name": "python3"
  },
  "language_info": {
   "codemirror_mode": {
    "name": "ipython",
    "version": 3
   },
   "file_extension": ".py",
   "mimetype": "text/x-python",
   "name": "python",
   "nbconvert_exporter": "python",
   "pygments_lexer": "ipython3",
   "version": "3.8.8"
  }
 },
 "nbformat": 4,
 "nbformat_minor": 5
}
