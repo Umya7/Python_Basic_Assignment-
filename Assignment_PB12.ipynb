{
 "cells": [
  {
   "cell_type": "markdown",
   "id": "685bec58",
   "metadata": {},
   "source": [
    "## Assignment 12"
   ]
  },
  {
   "cell_type": "markdown",
   "id": "832ea828",
   "metadata": {},
   "source": [
    "**Q.1.** In what modes should the `PdfFileReader()` and `PdfFileWriter()` File objects will be opened?"
   ]
  },
  {
   "cell_type": "markdown",
   "id": "ed33a4f7",
   "metadata": {},
   "source": [
    "**Answer :-**"
   ]
  },
  {
   "cell_type": "markdown",
   "id": "29bbca7a",
   "metadata": {},
   "source": [
    "These files will be opened in binary mode.\\\n",
    "read binary(**rb**) for `PdfFileREader()` and write binary(**wb**) for `PdfFileWriter()`"
   ]
  },
  {
   "cell_type": "markdown",
   "id": "1c4bea85",
   "metadata": {},
   "source": [
    "**Q.2.** From a PdfFileReader object, how do you get a Page object for page 5?"
   ]
  },
  {
   "cell_type": "markdown",
   "id": "48b56a93",
   "metadata": {},
   "source": [
    "**Answer :-**"
   ]
  },
  {
   "cell_type": "markdown",
   "id": "54403a41",
   "metadata": {},
   "source": [
    "Calling `getPage(4)` will return a Page object for page 5 since page 0 is the first page."
   ]
  },
  {
   "cell_type": "markdown",
   "id": "32a87d21",
   "metadata": {},
   "source": [
    "**Example :-**"
   ]
  },
  {
   "cell_type": "code",
   "execution_count": 1,
   "id": "d6f1ab45",
   "metadata": {},
   "outputs": [
    {
     "data": {
      "text/plain": [
       "' \\nThe idea that children should be interested in\\n \\nbook\\n \\neven before \\nthey learn to speak and read is one of the most recurrent pieces of \\nadvice from experts. With the idea of supporting this \\nrecommendation, the specialists have designed books with imag\\nes \\nand sounds that can attract the attention and awaken the curiosity \\nof the little ones. It is a very effective way to initiate the \\nadvantageous ability to read\\n.\\n \\n \\n \\n \\n \\n \\n \\n \\n \\n \\n \\n'"
      ]
     },
     "execution_count": 1,
     "metadata": {},
     "output_type": "execute_result"
    }
   ],
   "source": [
    "import PyPDF2 as pdf\n",
    "pdfFileObj = open(\"sample.pdf\",'rb')\n",
    "pdfReader = pdf.PdfFileReader(pdfFileObj)\n",
    "pageObj = pdfReader.getPage(4)\n",
    "pageObj.extractText()"
   ]
  },
  {
   "cell_type": "markdown",
   "id": "fb17755d",
   "metadata": {},
   "source": [
    "**Q.3.** What PdfFileReader variable stores the number of pages in the PDF document?"
   ]
  },
  {
   "cell_type": "markdown",
   "id": "6b7813e4",
   "metadata": {},
   "source": [
    "**Answer :-**"
   ]
  },
  {
   "cell_type": "markdown",
   "id": "93f4f46f",
   "metadata": {},
   "source": [
    "`PdfFileReader.numPages` variable stores an integer of the number of pages in the PdfFileReader object."
   ]
  },
  {
   "cell_type": "markdown",
   "id": "a9c272fb",
   "metadata": {},
   "source": [
    "**Example :-**"
   ]
  },
  {
   "cell_type": "code",
   "execution_count": 2,
   "id": "9c56e06c",
   "metadata": {},
   "outputs": [
    {
     "data": {
      "text/plain": [
       "5"
      ]
     },
     "execution_count": 2,
     "metadata": {},
     "output_type": "execute_result"
    }
   ],
   "source": [
    "import PyPDF2 as pdf\n",
    "pdfFileObj = open(\"sample.pdf\",'rb')\n",
    "pdfReader = pdf.PdfFileReader(pdfFileObj)\n",
    "pdfReader.numPages"
   ]
  },
  {
   "cell_type": "markdown",
   "id": "07f0e6ee",
   "metadata": {},
   "source": [
    "**Q.4.** If a PdfFileReader object’s PDF is encrypted with the password swordfish, what must you do\n",
    "before you can obtain Page objects from it?"
   ]
  },
  {
   "cell_type": "markdown",
   "id": "4f0432b8",
   "metadata": {},
   "source": [
    "**Answer :-**"
   ]
  },
  {
   "cell_type": "markdown",
   "id": "422ede5d",
   "metadata": {},
   "source": [
    "Before we obtain the page object, the pdf has to be decrypted by calling `decrypt('swordfish')`\n",
    "```python\n",
    "pdfReader.decrypt('swordfish')\n",
    "```"
   ]
  },
  {
   "cell_type": "markdown",
   "id": "25b4a4bb",
   "metadata": {},
   "source": [
    "**Q.5.** What methods do you use to rotate a page?"
   ]
  },
  {
   "cell_type": "markdown",
   "id": "f0be74bc",
   "metadata": {},
   "source": [
    "**Answer :-**"
   ]
  },
  {
   "cell_type": "markdown",
   "id": "709cba3e",
   "metadata": {},
   "source": [
    "We can use `rotateClockwise()` and `rotateCounterClockwise()` methods. The degrees to rotate is passed as an integer argument.\n",
    "```python\n",
    "pageObj.rotateClockwise(180)\n",
    "pageObj.rotateCounterClockwise(90)\n",
    "```"
   ]
  },
  {
   "cell_type": "markdown",
   "id": "69b55127",
   "metadata": {},
   "source": [
    "**Q.6.** What is the difference between a Run object and a Paragraph object?"
   ]
  },
  {
   "cell_type": "markdown",
   "id": "6ed18e7b",
   "metadata": {},
   "source": [
    "**Answer :-**"
   ]
  },
  {
   "cell_type": "markdown",
   "id": "02852e38",
   "metadata": {},
   "source": [
    "The difference between `Run Object` and `Paragraph Object` is :\n",
    "\n",
    "- `Run Object` : Runs are contiguous groups of characters within a paragraph with the same style.\n",
    "    \n",
    "- `Paragraph Object` :  A document contains multiple paragraphs. A paragraph begins on a new line and contains multiple \n",
    "runs.\\\n",
    "The Document object contains a list of Paragraph objects for the paragraphs in the document. (A new paragraph begins \n",
    "whenever the user presses ENTER or RETURN while typing in a Word document.)"
   ]
  },
  {
   "cell_type": "markdown",
   "id": "7676d67f",
   "metadata": {},
   "source": [
    "**Q.7.** How do you obtain a list of Paragraph objects for a Document object that’s stored in a variable\n",
    "named doc?"
   ]
  },
  {
   "cell_type": "markdown",
   "id": "844d19cc",
   "metadata": {},
   "source": [
    "**Answer :-**"
   ]
  },
  {
   "cell_type": "markdown",
   "id": "3a162740",
   "metadata": {},
   "source": [
    "We can obtain a list of paragraph objects using `doc.paragraphs`."
   ]
  },
  {
   "cell_type": "markdown",
   "id": "934a6766",
   "metadata": {},
   "source": [
    "**Example :-**"
   ]
  },
  {
   "cell_type": "code",
   "execution_count": 3,
   "id": "005d4157",
   "metadata": {},
   "outputs": [
    {
     "data": {
      "text/plain": [
       "[<docx.text.paragraph.Paragraph at 0x294fadf6520>,\n",
       " <docx.text.paragraph.Paragraph at 0x294fadf6460>,\n",
       " <docx.text.paragraph.Paragraph at 0x294fadf66d0>,\n",
       " <docx.text.paragraph.Paragraph at 0x294fadf6550>,\n",
       " <docx.text.paragraph.Paragraph at 0x294fadf64c0>,\n",
       " <docx.text.paragraph.Paragraph at 0x294fadf65b0>,\n",
       " <docx.text.paragraph.Paragraph at 0x294fadf6610>,\n",
       " <docx.text.paragraph.Paragraph at 0x294fadf67f0>,\n",
       " <docx.text.paragraph.Paragraph at 0x294fadf66a0>,\n",
       " <docx.text.paragraph.Paragraph at 0x294fadf6880>,\n",
       " <docx.text.paragraph.Paragraph at 0x294fadf6760>,\n",
       " <docx.text.paragraph.Paragraph at 0x294fadf6940>]"
      ]
     },
     "execution_count": 3,
     "metadata": {},
     "output_type": "execute_result"
    }
   ],
   "source": [
    "import docx\n",
    "doc = docx.Document('sample.docx')\n",
    "doc.paragraphs"
   ]
  },
  {
   "cell_type": "markdown",
   "id": "5f14d0ce",
   "metadata": {},
   "source": [
    "**Q.8.** What type of object has bold, underline, italic, strike, and outline variables?"
   ]
  },
  {
   "cell_type": "markdown",
   "id": "436ebfd9",
   "metadata": {},
   "source": [
    "**Answer :-**"
   ]
  },
  {
   "cell_type": "markdown",
   "id": "55cee9c0",
   "metadata": {},
   "source": [
    "Run object has bold, underline, italic, strike and outline variables."
   ]
  },
  {
   "cell_type": "markdown",
   "id": "39279549",
   "metadata": {},
   "source": [
    "**Q.9.** What is the difference between False, True, and None for the bold variable?"
   ]
  },
  {
   "cell_type": "markdown",
   "id": "888551af",
   "metadata": {},
   "source": [
    "**Answer :-**"
   ]
  },
  {
   "cell_type": "markdown",
   "id": "35b81e6d",
   "metadata": {},
   "source": [
    "Runs can be further styled using text attributes.\\\n",
    "Each attribute can be set to one of three values :\n",
    "- **True** : Always makes the Run object bolded.\n",
    "- **False** : Makes Run obejct always not bolded.  \n",
    "- **None** : Will make the Run object just use the style's bold setting."
   ]
  },
  {
   "cell_type": "markdown",
   "id": "9e550b8d",
   "metadata": {},
   "source": [
    "**Q.10.** How do you create a Document object for a new Word document?"
   ]
  },
  {
   "cell_type": "markdown",
   "id": "4c2adad1",
   "metadata": {},
   "source": [
    "**Answer :-**"
   ]
  },
  {
   "cell_type": "markdown",
   "id": "3a69dce0",
   "metadata": {},
   "source": [
    "By Calling the function of `docx.Document()`."
   ]
  },
  {
   "cell_type": "markdown",
   "id": "c6e289ab",
   "metadata": {},
   "source": [
    "**Q.11.** How do you add a paragraph with the text 'Hello, there!' to a Document object stored in a\n",
    "variable named doc?"
   ]
  },
  {
   "cell_type": "markdown",
   "id": "2b725299",
   "metadata": {},
   "source": [
    "**Answer :-**"
   ]
  },
  {
   "cell_type": "code",
   "execution_count": 4,
   "id": "5ce0153a",
   "metadata": {},
   "outputs": [],
   "source": [
    "import docx\n",
    "doc = docx.Document()\n",
    "\n",
    "doc.add_paragraph('Hello, there!')\n",
    "doc.save('doc.docx')"
   ]
  },
  {
   "cell_type": "markdown",
   "id": "c2b12835",
   "metadata": {},
   "source": [
    "**Output :**"
   ]
  },
  {
   "cell_type": "markdown",
   "id": "6d9a1880",
   "metadata": {},
   "source": [
    "<img src = \"doc.jpg\">"
   ]
  },
  {
   "cell_type": "markdown",
   "id": "dae6636e",
   "metadata": {},
   "source": [
    "**Q.12.** What integers represent the levels of headings available in Word documents?"
   ]
  },
  {
   "cell_type": "markdown",
   "id": "ebafed0a",
   "metadata": {},
   "source": [
    "**Answer :-**"
   ]
  },
  {
   "cell_type": "markdown",
   "id": "5b28b61a",
   "metadata": {},
   "source": [
    "It is an integer number in the range 0-9.\\\n",
    "It raises ValueError if any value other than from this range is given as input.\\\n",
    "The integer 0 makes the heading the Title style, which is used for the top of the document.\\\n",
    "Integers 1 to 9 are for various heading levels, with 1 being the main heading and 9 the lowest subheading.\n",
    "\n",
    "**Syntax:-**  `doc.add_heading(String s, level)`"
   ]
  },
  {
   "cell_type": "markdown",
   "id": "eac9c28f",
   "metadata": {},
   "source": [
    "**Example :-**"
   ]
  },
  {
   "cell_type": "code",
   "execution_count": 5,
   "id": "95784f05",
   "metadata": {},
   "outputs": [],
   "source": [
    "import docx\n",
    "  \n",
    "# Create an instance of a word document\n",
    "doc = docx.Document()\n",
    "  \n",
    "# Add a heading of level 0 (Also called Title)\n",
    "doc.add_heading('Title for the document', 0)\n",
    "  \n",
    "# Add a heading of level 1\n",
    "doc.add_heading('Heading level 1', 1)\n",
    "  \n",
    "# Add a heading of level 2\n",
    "doc.add_heading('Heading level 2', 2)\n",
    "  \n",
    "# Add a heading of level 3\n",
    "doc.add_heading('Heading level 3', 3)\n",
    "  \n",
    "# Add a heading of level 4\n",
    "doc.add_heading('Heading level 4', 4)\n",
    "  \n",
    "# Add a heading of level 5\n",
    "doc.add_heading('Heading level 5', 5)\n",
    "  \n",
    "# Add a heading of level 6\n",
    "doc.add_heading('Heading level 6', 6)\n",
    "  \n",
    "# Add a heading of level 7\n",
    "doc.add_heading('Heading level 7', 7)\n",
    "  \n",
    "# Add a heading of level 8\n",
    "doc.add_heading('Heading level 8', 8)\n",
    "  \n",
    "# Add a heading of level 9\n",
    "doc.add_heading('Heading level 9', 9)\n",
    "  \n",
    "# Now save the document to a location\n",
    "doc.save('heading.docx')"
   ]
  },
  {
   "cell_type": "markdown",
   "id": "2e399d4b",
   "metadata": {},
   "source": [
    "**Output :**"
   ]
  },
  {
   "cell_type": "markdown",
   "id": "f5335e46",
   "metadata": {},
   "source": [
    "<img src = \"heading.jpg\">"
   ]
  }
 ],
 "metadata": {
  "kernelspec": {
   "display_name": "Python 3",
   "language": "python",
   "name": "python3"
  },
  "language_info": {
   "codemirror_mode": {
    "name": "ipython",
    "version": 3
   },
   "file_extension": ".py",
   "mimetype": "text/x-python",
   "name": "python",
   "nbconvert_exporter": "python",
   "pygments_lexer": "ipython3",
   "version": "3.8.8"
  }
 },
 "nbformat": 4,
 "nbformat_minor": 5
}
