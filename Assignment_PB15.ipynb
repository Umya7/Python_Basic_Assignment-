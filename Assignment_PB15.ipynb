{
 "cells": [
  {
   "cell_type": "markdown",
   "id": "8a65c025",
   "metadata": {},
   "source": [
    "## Assignment 15"
   ]
  },
  {
   "cell_type": "markdown",
   "id": "fe6c0816",
   "metadata": {},
   "source": [
    "**Q.1.** How many seconds are in an hour? Use the interactive interpreter as a calculator and multiply the\n",
    "number of seconds in a minute (60) by the number of minutes in an hour (also 60)."
   ]
  },
  {
   "cell_type": "markdown",
   "id": "410cbf72",
   "metadata": {},
   "source": [
    "**Answer :-**"
   ]
  },
  {
   "cell_type": "code",
   "execution_count": 1,
   "id": "e3c072c8",
   "metadata": {},
   "outputs": [
    {
     "data": {
      "text/plain": [
       "3600"
      ]
     },
     "execution_count": 1,
     "metadata": {},
     "output_type": "execute_result"
    }
   ],
   "source": [
    "60 * 60"
   ]
  },
  {
   "cell_type": "markdown",
   "id": "d9fd29eb",
   "metadata": {},
   "source": [
    "**Q.2.** Assign the result from the previous task (seconds in an hour) to a variable called\n",
    "seconds_per_hour."
   ]
  },
  {
   "cell_type": "markdown",
   "id": "f9820d90",
   "metadata": {},
   "source": [
    "**Answer :-**"
   ]
  },
  {
   "cell_type": "code",
   "execution_count": 2,
   "id": "044bef80",
   "metadata": {},
   "outputs": [
    {
     "data": {
      "text/plain": [
       "3600"
      ]
     },
     "execution_count": 2,
     "metadata": {},
     "output_type": "execute_result"
    }
   ],
   "source": [
    "seconds_per_hour = 60 * 60\n",
    "seconds_per_hour"
   ]
  },
  {
   "cell_type": "markdown",
   "id": "3cd127c7",
   "metadata": {},
   "source": [
    "**Q.3.** How many seconds do you think there are in a day? Make use of the variables seconds per hour\n",
    "and minutes per hour."
   ]
  },
  {
   "cell_type": "markdown",
   "id": "d989eec9",
   "metadata": {},
   "source": [
    "**Answer :-**"
   ]
  },
  {
   "cell_type": "code",
   "execution_count": 3,
   "id": "dd6fb6cd",
   "metadata": {},
   "outputs": [
    {
     "data": {
      "text/plain": [
       "86400"
      ]
     },
     "execution_count": 3,
     "metadata": {},
     "output_type": "execute_result"
    }
   ],
   "source": [
    "seconds_per_hour * 24 #We multiply by 24 with sec per hours to get sec in a day."
   ]
  },
  {
   "cell_type": "markdown",
   "id": "55dd7ef6",
   "metadata": {},
   "source": [
    "**Q.4.** Calculate seconds per day again, but this time save the result in a variable called seconds_per_day."
   ]
  },
  {
   "cell_type": "markdown",
   "id": "1f9c3533",
   "metadata": {},
   "source": [
    "**Answer :-**"
   ]
  },
  {
   "cell_type": "code",
   "execution_count": 4,
   "id": "a7b7d245",
   "metadata": {},
   "outputs": [
    {
     "data": {
      "text/plain": [
       "86400"
      ]
     },
     "execution_count": 4,
     "metadata": {},
     "output_type": "execute_result"
    }
   ],
   "source": [
    "seconds_per_day = seconds_per_hour * 24\n",
    "seconds_per_day"
   ]
  },
  {
   "cell_type": "markdown",
   "id": "77949849",
   "metadata": {},
   "source": [
    "**Q.5.** Divide seconds_per_day by seconds_per_hour. Use floating-point (/) division."
   ]
  },
  {
   "cell_type": "markdown",
   "id": "b4f5bf0d",
   "metadata": {},
   "source": [
    "**Answer :-**"
   ]
  },
  {
   "cell_type": "code",
   "execution_count": 5,
   "id": "64606533",
   "metadata": {},
   "outputs": [
    {
     "data": {
      "text/plain": [
       "24.0"
      ]
     },
     "execution_count": 5,
     "metadata": {},
     "output_type": "execute_result"
    }
   ],
   "source": [
    "seconds_per_day / seconds_per_hour"
   ]
  },
  {
   "cell_type": "markdown",
   "id": "bf57d29d",
   "metadata": {},
   "source": [
    "**Q.6.** Divide seconds_per_day by seconds_per_hour, using integer (//) division. Did this number agree\n",
    "with the floating-point value from the previous question, aside from the final .0?"
   ]
  },
  {
   "cell_type": "markdown",
   "id": "2ed96599",
   "metadata": {},
   "source": [
    "**Answer :-**"
   ]
  },
  {
   "cell_type": "code",
   "execution_count": 6,
   "id": "a9eb88e4",
   "metadata": {},
   "outputs": [
    {
     "data": {
      "text/plain": [
       "24"
      ]
     },
     "execution_count": 6,
     "metadata": {},
     "output_type": "execute_result"
    }
   ],
   "source": [
    "seconds_per_day // seconds_per_hour"
   ]
  },
  {
   "cell_type": "markdown",
   "id": "3a37aca8",
   "metadata": {},
   "source": [
    "After running above codes,\\\n",
    "Yes, This number agree with the floating-point value."
   ]
  },
  {
   "cell_type": "markdown",
   "id": "71352a34",
   "metadata": {},
   "source": [
    "**Q.7.** Write a generator, genPrimes, that returns the sequence of prime numbers on successive calls to\n",
    "its `next()` method: 2, 3, 5, 7, 11, ...."
   ]
  },
  {
   "cell_type": "markdown",
   "id": "8e7dece6",
   "metadata": {},
   "source": [
    "**Answer :-**"
   ]
  },
  {
   "cell_type": "code",
   "execution_count": 7,
   "id": "0f41ccf2",
   "metadata": {},
   "outputs": [],
   "source": [
    "def genPrimes():\n",
    "    primes = [2]\n",
    "    yield primes[0]\n",
    "    guess = 3\n",
    "    while True:\n",
    "        if all(guess%x != 0 for x in primes):\n",
    "            primes.append(guess)        \n",
    "        if guess == primes[-1]:\n",
    "            yield primes[-1]\n",
    "        guess += 2"
   ]
  },
  {
   "cell_type": "code",
   "execution_count": 8,
   "id": "1d241fdb",
   "metadata": {},
   "outputs": [
    {
     "data": {
      "text/plain": [
       "<generator object genPrimes at 0x000002D742C4C5F0>"
      ]
     },
     "execution_count": 8,
     "metadata": {},
     "output_type": "execute_result"
    }
   ],
   "source": [
    "genPrimes()"
   ]
  }
 ],
 "metadata": {
  "kernelspec": {
   "display_name": "Python 3",
   "language": "python",
   "name": "python3"
  },
  "language_info": {
   "codemirror_mode": {
    "name": "ipython",
    "version": 3
   },
   "file_extension": ".py",
   "mimetype": "text/x-python",
   "name": "python",
   "nbconvert_exporter": "python",
   "pygments_lexer": "ipython3",
   "version": "3.8.8"
  }
 },
 "nbformat": 4,
 "nbformat_minor": 5
}
