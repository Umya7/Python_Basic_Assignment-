{
 "cells": [
  {
   "cell_type": "markdown",
   "id": "4c30f458",
   "metadata": {},
   "source": [
    "## Assignment 17"
   ]
  },
  {
   "cell_type": "markdown",
   "id": "ce85a4ea",
   "metadata": {},
   "source": [
    "**Q.1.** Assign the value 7 to the variable guess_me. Then, write the conditional tests (if, else, and elif) to print the string 'too low' if guess_me is less than 7, 'too high' if greater than 7, and 'just right' if equal to 7."
   ]
  },
  {
   "cell_type": "markdown",
   "id": "279108d9",
   "metadata": {},
   "source": [
    "**Answer :-**"
   ]
  },
  {
   "cell_type": "code",
   "execution_count": 1,
   "id": "93c8597c",
   "metadata": {},
   "outputs": [
    {
     "name": "stdout",
     "output_type": "stream",
     "text": [
      "Enter Integer Value Only : 7\n",
      "Just Right\n"
     ]
    }
   ],
   "source": [
    "guess_me = int(input(\"Enter Integer Value Only : \"))\n",
    "\n",
    "if guess_me < 7 :\n",
    "    print(\"Too Low\")\n",
    "elif guess_me > 7 :\n",
    "    print(\"Too High\")\n",
    "else :\n",
    "    print(\"Just Right\")"
   ]
  },
  {
   "cell_type": "markdown",
   "id": "572540d7",
   "metadata": {},
   "source": [
    "**Q.2.** Assign the value 7 to the variable guess_me and the value 1 to the variable start. Write a while loop that compares start with guess_me. Print too low if start is less than guess me. If start equals guess_me, print 'found it!' and exit the loop. If start is greater than guess_me, print 'oops' and exit the loop. Increment start at the end of the loop."
   ]
  },
  {
   "cell_type": "markdown",
   "id": "3e5631a1",
   "metadata": {},
   "source": [
    "**Answer :-**"
   ]
  },
  {
   "cell_type": "code",
   "execution_count": 2,
   "id": "08624563",
   "metadata": {},
   "outputs": [
    {
     "name": "stdout",
     "output_type": "stream",
     "text": [
      "Too Low\n",
      "Too Low\n",
      "Too Low\n",
      "Too Low\n",
      "Too Low\n",
      "Too Low\n",
      "Found It!\n"
     ]
    }
   ],
   "source": [
    "guess_me = 7\n",
    "start = 1\n",
    "\n",
    "while True :\n",
    "    if start < guess_me :\n",
    "        print(\"Too Low\")\n",
    "    elif start == guess_me :\n",
    "        print(\"Found It!\")\n",
    "        break\n",
    "    else :\n",
    "        print(\"OOPS\")\n",
    "        break\n",
    "    start += 1"
   ]
  },
  {
   "cell_type": "markdown",
   "id": "5cdeb265",
   "metadata": {},
   "source": [
    "**Q.3.** Print the following values of the `list [3, 2, 1, 0]` using a for loop."
   ]
  },
  {
   "cell_type": "markdown",
   "id": "d9d06a2e",
   "metadata": {},
   "source": [
    "**Answer :-**"
   ]
  },
  {
   "cell_type": "code",
   "execution_count": 3,
   "id": "a5e0a45a",
   "metadata": {},
   "outputs": [
    {
     "name": "stdout",
     "output_type": "stream",
     "text": [
      "3\n",
      "2\n",
      "1\n",
      "0\n"
     ]
    }
   ],
   "source": [
    "l = [3, 2, 1, 0]\n",
    "for i in l :\n",
    "    print(i)"
   ]
  },
  {
   "cell_type": "markdown",
   "id": "da8ebff0",
   "metadata": {},
   "source": [
    "**Q.4.** Use a list comprehension to make a list of the even numbers in `range(10)`."
   ]
  },
  {
   "cell_type": "markdown",
   "id": "5f042770",
   "metadata": {},
   "source": [
    "**Answer :-**"
   ]
  },
  {
   "cell_type": "code",
   "execution_count": 4,
   "id": "c81ee1cd",
   "metadata": {},
   "outputs": [
    {
     "name": "stdout",
     "output_type": "stream",
     "text": [
      "[0, 2, 4, 6, 8]\n"
     ]
    }
   ],
   "source": [
    "even_number = [num for num in range(10) if num % 2 == 0]\n",
    "print(even_number)"
   ]
  },
  {
   "cell_type": "markdown",
   "id": "5dc155ea",
   "metadata": {},
   "source": [
    "**Q.5.** Use a dictionary comprehension to create the dictionary squares. Use `range(10)` to return the\n",
    "keys, and use the square of each key as its value."
   ]
  },
  {
   "cell_type": "markdown",
   "id": "a69ff923",
   "metadata": {},
   "source": [
    "**Answer :-**"
   ]
  },
  {
   "cell_type": "code",
   "execution_count": 5,
   "id": "d4700080",
   "metadata": {},
   "outputs": [
    {
     "data": {
      "text/plain": [
       "{0: 0, 1: 1, 2: 4, 3: 9, 4: 16, 5: 25, 6: 36, 7: 49, 8: 64, 9: 81}"
      ]
     },
     "execution_count": 5,
     "metadata": {},
     "output_type": "execute_result"
    }
   ],
   "source": [
    "squares = {num : num * num for num in range(10)}\n",
    "squares"
   ]
  },
  {
   "cell_type": "markdown",
   "id": "16f93ca9",
   "metadata": {},
   "source": [
    "**Q.6.** Construct the set odd from the odd numbers in the range using a set comprehension (10)."
   ]
  },
  {
   "cell_type": "markdown",
   "id": "7aa28b77",
   "metadata": {},
   "source": [
    "**Answer :-**"
   ]
  },
  {
   "cell_type": "code",
   "execution_count": 6,
   "id": "7fc8017a",
   "metadata": {},
   "outputs": [
    {
     "data": {
      "text/plain": [
       "{1, 3, 5, 7, 9}"
      ]
     },
     "execution_count": 6,
     "metadata": {},
     "output_type": "execute_result"
    }
   ],
   "source": [
    "odd = set(num for num in range(10) if num % 2 != 0)\n",
    "odd"
   ]
  },
  {
   "cell_type": "markdown",
   "id": "4ede62e2",
   "metadata": {},
   "source": [
    "**Q.7.** Use a generator comprehension to return the string 'Got' and a number for the numbers in `range(10)`. Iterate through this by using a for loop."
   ]
  },
  {
   "cell_type": "markdown",
   "id": "d4912a09",
   "metadata": {},
   "source": [
    "**Answer :-**"
   ]
  },
  {
   "cell_type": "code",
   "execution_count": 7,
   "id": "8a55c641",
   "metadata": {},
   "outputs": [
    {
     "name": "stdout",
     "output_type": "stream",
     "text": [
      "Got 0\n",
      "Got 1\n",
      "Got 2\n",
      "Got 3\n",
      "Got 4\n",
      "Got 5\n",
      "Got 6\n",
      "Got 7\n",
      "Got 8\n",
      "Got 9\n"
     ]
    }
   ],
   "source": [
    "string_generator = ('Got ' + str(num) for num in range(10))\n",
    "for item in string_generator:\n",
    "    print(item)"
   ]
  },
  {
   "cell_type": "markdown",
   "id": "99eb2c59",
   "metadata": {},
   "source": [
    "**Q.8.** Define a function called good that returns the list `['Harry', 'Ron', 'Hermione']`."
   ]
  },
  {
   "cell_type": "markdown",
   "id": "999fd9db",
   "metadata": {},
   "source": [
    "**Answer :-**"
   ]
  },
  {
   "cell_type": "code",
   "execution_count": 8,
   "id": "b0ff3038",
   "metadata": {},
   "outputs": [
    {
     "name": "stdout",
     "output_type": "stream",
     "text": [
      "['Harry', 'Ron', 'Hermione']\n"
     ]
    }
   ],
   "source": [
    "def good():\n",
    "    return ['Harry', 'Ron', 'Hermione']\n",
    "print(good())"
   ]
  },
  {
   "cell_type": "markdown",
   "id": "4d83ad0b",
   "metadata": {},
   "source": [
    "**Q.9.** Define a generator function called get_odds that returns the odd numbers from `range(10)`. Use a for loop to find and print the third value returned."
   ]
  },
  {
   "cell_type": "markdown",
   "id": "f5366f98",
   "metadata": {},
   "source": [
    "**Answer :-**"
   ]
  },
  {
   "cell_type": "code",
   "execution_count": 9,
   "id": "927f92bd",
   "metadata": {},
   "outputs": [
    {
     "name": "stdout",
     "output_type": "stream",
     "text": [
      "The third odd number is : 5\n"
     ]
    }
   ],
   "source": [
    "def get_odds() :\n",
    "    for num in range(1, 10, 2) :\n",
    "         yield num\n",
    "count = 1\n",
    "for num in get_odds() :\n",
    "    if count == 3 :\n",
    "        print(\"The third odd number is :\", num)\n",
    "        break\n",
    "    count += 1"
   ]
  },
  {
   "cell_type": "markdown",
   "id": "d52af8e3",
   "metadata": {},
   "source": [
    "**Q.10.** Define an exception called OopsException. Raise this exception to see what happens. Then writethe code to catch this exception and print 'Caught an oops'"
   ]
  },
  {
   "cell_type": "markdown",
   "id": "2f9d1f38",
   "metadata": {},
   "source": [
    "**Answer :-**"
   ]
  },
  {
   "cell_type": "code",
   "execution_count": 10,
   "id": "4a395348",
   "metadata": {},
   "outputs": [
    {
     "name": "stdout",
     "output_type": "stream",
     "text": [
      "Caught an oops\n"
     ]
    }
   ],
   "source": [
    "class OopsException(Exception) :\n",
    "    pass\n",
    "def RaiseException(a) :\n",
    "    if a < 0 :\n",
    "        raise OopsException(a)\n",
    "try:\n",
    "    RaiseException(-1)\n",
    "except OopsException as e:\n",
    "    print('Caught an oops')\n"
   ]
  },
  {
   "cell_type": "markdown",
   "id": "8ca1a6b3",
   "metadata": {},
   "source": [
    "**Q.11.** Use `zip()` to make a dictionary called movies that pairs these lists:\n",
    "\n",
    "    titles = ['Creature of Habit', 'Crewel Fate']\n",
    "    plots = ['A nun turns into a monster', 'A haunted yarn shop']."
   ]
  },
  {
   "cell_type": "markdown",
   "id": "17bbfb08",
   "metadata": {},
   "source": [
    "**Answer :-**"
   ]
  },
  {
   "cell_type": "code",
   "execution_count": 11,
   "id": "b4a27dc6",
   "metadata": {},
   "outputs": [
    {
     "name": "stdout",
     "output_type": "stream",
     "text": [
      "{'Creature of Habit': 'A nun turns into a monster', 'Crewel Fate': 'A haunted yarn shop'}\n"
     ]
    }
   ],
   "source": [
    "titles = ['Creature of Habit', 'Crewel Fate']\n",
    "plots = ['A nun turns into a monster', 'A haunted yarn shop']\n",
    "movies = {}\n",
    "for title, plot in zip(titles, plots):\n",
    "    movies[title] = plot\n",
    "print(movies)"
   ]
  }
 ],
 "metadata": {
  "kernelspec": {
   "display_name": "Python 3",
   "language": "python",
   "name": "python3"
  },
  "language_info": {
   "codemirror_mode": {
    "name": "ipython",
    "version": 3
   },
   "file_extension": ".py",
   "mimetype": "text/x-python",
   "name": "python",
   "nbconvert_exporter": "python",
   "pygments_lexer": "ipython3",
   "version": "3.8.8"
  }
 },
 "nbformat": 4,
 "nbformat_minor": 5
}
