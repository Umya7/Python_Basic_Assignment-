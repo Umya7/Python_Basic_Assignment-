{
 "cells": [
  {
   "cell_type": "markdown",
   "id": "e2112d62",
   "metadata": {},
   "source": [
    "## Assignment 7"
   ]
  },
  {
   "cell_type": "markdown",
   "id": "7a6f1001",
   "metadata": {},
   "source": [
    "**Q.1.** What is the name of the feature responsible for generating Regex objects?"
   ]
  },
  {
   "cell_type": "markdown",
   "id": "43d81d48",
   "metadata": {},
   "source": [
    "**Answer :-**"
   ]
  },
  {
   "cell_type": "markdown",
   "id": "3d0d9ee2",
   "metadata": {},
   "source": [
    "- **re.compile()** : `re.compile()` is the name of the feature responsible for generating Regex Object."
   ]
  },
  {
   "cell_type": "markdown",
   "id": "3376abbb",
   "metadata": {},
   "source": [
    "**Example :-**"
   ]
  },
  {
   "cell_type": "code",
   "execution_count": 1,
   "id": "1e576fdb",
   "metadata": {},
   "outputs": [
    {
     "data": {
      "text/plain": [
       "re.compile(r'Assignment 7', re.UNICODE)"
      ]
     },
     "execution_count": 1,
     "metadata": {},
     "output_type": "execute_result"
    }
   ],
   "source": [
    "import re\n",
    "\n",
    "re.compile(\"Assignment 7\")"
   ]
  },
  {
   "cell_type": "markdown",
   "id": "f204b494",
   "metadata": {},
   "source": [
    "**Q.2.** Why do raw strings often appear in Regex objects?"
   ]
  },
  {
   "cell_type": "markdown",
   "id": "5a69b1dc",
   "metadata": {},
   "source": [
    "**Answer :-**"
   ]
  },
  {
   "cell_type": "markdown",
   "id": "021d8399",
   "metadata": {},
   "source": [
    "Raw string notation keeps regular expression meaningful and confusion free. Without it every `backslash('\\')` in regular expression would have to be prefixed with another one to escape it."
   ]
  },
  {
   "cell_type": "markdown",
   "id": "b6664b48",
   "metadata": {},
   "source": [
    "**Example :-**"
   ]
  },
  {
   "cell_type": "code",
   "execution_count": 2,
   "id": "697f638f",
   "metadata": {},
   "outputs": [
    {
     "name": "stdout",
     "output_type": "stream",
     "text": [
      "This is a \n",
      "7th Assignment\n"
     ]
    }
   ],
   "source": [
    "dummy_str = \"This is a \\n7th Assignment\"\n",
    "\n",
    "print(dummy_str)"
   ]
  },
  {
   "cell_type": "markdown",
   "id": "7753a5f4",
   "metadata": {},
   "source": [
    "**Q.3.** What is the return value of the `search()` method?"
   ]
  },
  {
   "cell_type": "markdown",
   "id": "f8fc0516",
   "metadata": {},
   "source": [
    "**Answer :-**"
   ]
  },
  {
   "cell_type": "markdown",
   "id": "3e50c273",
   "metadata": {},
   "source": [
    "The `search()` method searches through a string looking for the first location where the regular expression pattern produces a match, and return a corresponding match object. It returns None if no position in the string matches the pattern."
   ]
  },
  {
   "cell_type": "markdown",
   "id": "4ec24a84",
   "metadata": {},
   "source": [
    "**Example :-**"
   ]
  },
  {
   "cell_type": "code",
   "execution_count": 3,
   "id": "a831b60d",
   "metadata": {},
   "outputs": [
    {
     "name": "stdout",
     "output_type": "stream",
     "text": [
      "The first white-space character is located in position: 6\n"
     ]
    }
   ],
   "source": [
    "#match found\n",
    "\n",
    "s = \"Hello! How are you\"\n",
    "sub_s = re.search(\"\\s\", s)\n",
    "\n",
    "print(\"The first white-space character is located in position:\", sub_s.start())"
   ]
  },
  {
   "cell_type": "code",
   "execution_count": 4,
   "id": "04547bd3",
   "metadata": {},
   "outputs": [
    {
     "name": "stdout",
     "output_type": "stream",
     "text": [
      "The first white-space character is located in position: None\n"
     ]
    }
   ],
   "source": [
    "#No match found\n",
    "\n",
    "s1 = \"Hello! How are you\"\n",
    "sub_s1 = re.search(\"\\n\", s1)\n",
    "\n",
    "print(\"The first white-space character is located in position:\", sub_s1)"
   ]
  },
  {
   "cell_type": "markdown",
   "id": "91c0254b",
   "metadata": {},
   "source": [
    "**Q.4.** From a Match item, how do you get the actual strings that match the pattern?"
   ]
  },
  {
   "cell_type": "markdown",
   "id": "bd37bd4e",
   "metadata": {},
   "source": [
    "**Answer :-**"
   ]
  },
  {
   "cell_type": "markdown",
   "id": "0edf2172",
   "metadata": {},
   "source": [
    "The `group()` method returns strings of the matched text."
   ]
  },
  {
   "cell_type": "markdown",
   "id": "75b6b8c2",
   "metadata": {},
   "source": [
    "**Example :-**"
   ]
  },
  {
   "cell_type": "code",
   "execution_count": 5,
   "id": "f2905fc2",
   "metadata": {},
   "outputs": [
    {
     "name": "stdout",
     "output_type": "stream",
     "text": [
      "Mob number found: 98251-62543\n"
     ]
    }
   ],
   "source": [
    "MobNumRegex = re.compile(r'\\d\\d\\d\\d\\d-\\d\\d\\d\\d\\d')\n",
    "mob = MobNumRegex.search('My number is 98251-62543.')\n",
    "print('Mob number found: ' + mob.group())"
   ]
  },
  {
   "cell_type": "markdown",
   "id": "0b66fbae",
   "metadata": {},
   "source": [
    "**Q.5.** In the regex which created from the `r'(\\d\\d\\d)-(\\d\\d\\d-\\d\\d\\d\\d)'`, what does group zero cover?\n",
    "Group 2? Group 1?"
   ]
  },
  {
   "cell_type": "markdown",
   "id": "5b419e7d",
   "metadata": {},
   "source": [
    "**Answer :-**"
   ]
  },
  {
   "cell_type": "markdown",
   "id": "cc738a73",
   "metadata": {},
   "source": [
    "Group 0 is the entire match, group 1 covers the first set of parentheses, and group 2 covers the second set of parentheses.\n",
    "It will look like:\n",
    "- Group 0 : group 0 covers (\\d\\d\\d)-(\\d\\d\\d-\\d\\d\\d\\d)\n",
    "- Group 1 : group 1 covers (\\d\\d\\d)\n",
    "- Group 2 : group 2 covers (\\d\\d\\d-\\d\\d\\d\\d)"
   ]
  },
  {
   "cell_type": "markdown",
   "id": "d4c5da35",
   "metadata": {},
   "source": [
    "**Example :-**"
   ]
  },
  {
   "cell_type": "code",
   "execution_count": 6,
   "id": "0ca57b09",
   "metadata": {},
   "outputs": [],
   "source": [
    "MobNumRegex = re.compile(r'(\\d\\d\\d)-(\\d\\d\\d-\\d\\d\\d\\d)')\n",
    "mob = MobNumRegex.search('My number is 982-516-2543.')"
   ]
  },
  {
   "cell_type": "code",
   "execution_count": 7,
   "id": "f3ac4792",
   "metadata": {},
   "outputs": [
    {
     "data": {
      "text/plain": [
       "'982-516-2543'"
      ]
     },
     "execution_count": 7,
     "metadata": {},
     "output_type": "execute_result"
    }
   ],
   "source": [
    "mob.group(0)"
   ]
  },
  {
   "cell_type": "code",
   "execution_count": 8,
   "id": "ea87c6e7",
   "metadata": {},
   "outputs": [
    {
     "data": {
      "text/plain": [
       "'982'"
      ]
     },
     "execution_count": 8,
     "metadata": {},
     "output_type": "execute_result"
    }
   ],
   "source": [
    "mob.group(1)"
   ]
  },
  {
   "cell_type": "code",
   "execution_count": 9,
   "id": "bccca439",
   "metadata": {},
   "outputs": [
    {
     "data": {
      "text/plain": [
       "'516-2543'"
      ]
     },
     "execution_count": 9,
     "metadata": {},
     "output_type": "execute_result"
    }
   ],
   "source": [
    "mob.group(2)"
   ]
  },
  {
   "cell_type": "markdown",
   "id": "83dee9ae",
   "metadata": {},
   "source": [
    "**Q.6.** In standard expression syntax, parentheses and intervals have distinct meanings. How can you tell\n",
    "a regex that you want it to fit real parentheses and periods?"
   ]
  },
  {
   "cell_type": "markdown",
   "id": "05c9607e",
   "metadata": {},
   "source": [
    "**Answer :-**"
   ]
  },
  {
   "cell_type": "markdown",
   "id": "ba84d80c",
   "metadata": {},
   "source": [
    "Periods and parentheses can be escaped with a backslash : `\\.`, `\\(`, and `\\)`."
   ]
  },
  {
   "cell_type": "markdown",
   "id": "d8ef5085",
   "metadata": {},
   "source": [
    "**Q.7.** The `findall()` method returns a string list or a list of string tuples. What causes it to return one of\n",
    "the two options?"
   ]
  },
  {
   "cell_type": "markdown",
   "id": "68a50cd3",
   "metadata": {},
   "source": [
    "**Answer :-**"
   ]
  },
  {
   "cell_type": "markdown",
   "id": "7df3b46b",
   "metadata": {},
   "source": [
    "If the regex has no groups, a list of strings is returned. If the regex has groups, a list of tuples of strings is returned."
   ]
  },
  {
   "cell_type": "markdown",
   "id": "36a7ad6c",
   "metadata": {},
   "source": [
    "**Example :-**"
   ]
  },
  {
   "cell_type": "code",
   "execution_count": 10,
   "id": "8b960688",
   "metadata": {},
   "outputs": [
    {
     "name": "stdout",
     "output_type": "stream",
     "text": [
      "['9', '162', '666', '688', '6888']\n"
     ]
    }
   ],
   "source": [
    "s2 = 'We live at 9-162 Mumbai. My phone number is 666-688-6888.'\n",
    "#search using regex\n",
    "x = re.findall('[0-9]+', s2)\n",
    "print(x)"
   ]
  },
  {
   "cell_type": "markdown",
   "id": "23c8a870",
   "metadata": {},
   "source": [
    "**Q.8.** In standard expressions, what does the `|` character mean?"
   ]
  },
  {
   "cell_type": "markdown",
   "id": "4b89e525",
   "metadata": {},
   "source": [
    "**Answer :-**"
   ]
  },
  {
   "cell_type": "markdown",
   "id": "e5c3bef7",
   "metadata": {},
   "source": [
    "The `|` character signifies matching \"either, or\" between two groups.\n",
    "\n",
    "Character`|` this is also called pipe."
   ]
  },
  {
   "cell_type": "markdown",
   "id": "fd210555",
   "metadata": {},
   "source": [
    "**Example :-**"
   ]
  },
  {
   "cell_type": "code",
   "execution_count": 11,
   "id": "e74153c1",
   "metadata": {},
   "outputs": [
    {
     "data": {
      "text/plain": [
       "'Nokia'"
      ]
     },
     "execution_count": 11,
     "metadata": {},
     "output_type": "execute_result"
    }
   ],
   "source": [
    "MobRegex = re.compile (r'Nokia|LG')\n",
    "mob = MobRegex.search('Nokia and LG')\n",
    "mob.group()"
   ]
  },
  {
   "cell_type": "code",
   "execution_count": 12,
   "id": "3e60204a",
   "metadata": {},
   "outputs": [
    {
     "data": {
      "text/plain": [
       "'LG'"
      ]
     },
     "execution_count": 12,
     "metadata": {},
     "output_type": "execute_result"
    }
   ],
   "source": [
    "mob1 = MobRegex.search('LG and Nokia')\n",
    "mob1.group()"
   ]
  },
  {
   "cell_type": "markdown",
   "id": "7e47cc21",
   "metadata": {},
   "source": [
    "From, Above example we can see that regular expression match either 'LG' or 'Nokia'.\n",
    "\n",
    "If 'LG' and 'Nokia' occur in the searched string, the first occurrence of matching text will be \n",
    "returned as the Match object."
   ]
  },
  {
   "cell_type": "markdown",
   "id": "1ac75aaa",
   "metadata": {},
   "source": [
    "**Q.9.** In regular expressions, what does the character stand for?"
   ]
  },
  {
   "cell_type": "markdown",
   "id": "f551c546",
   "metadata": {},
   "source": [
    "**Answer :-**"
   ]
  },
  {
   "cell_type": "markdown",
   "id": "637159a4",
   "metadata": {},
   "source": [
    "The `?` character can either mean “match zero or one of the preceding group”."
   ]
  },
  {
   "cell_type": "markdown",
   "id": "0543dcd0",
   "metadata": {},
   "source": [
    "**Example :-**"
   ]
  },
  {
   "cell_type": "code",
   "execution_count": 13,
   "id": "1c7049a6",
   "metadata": {},
   "outputs": [
    {
     "data": {
      "text/plain": [
       "'Spiderman'"
      ]
     },
     "execution_count": 13,
     "metadata": {},
     "output_type": "execute_result"
    }
   ],
   "source": [
    "SpiderRegex = re.compile (r'Spider(wo)?man')\n",
    "s = SpiderRegex.search('The latest movie of Spiderman')\n",
    "s.group()"
   ]
  },
  {
   "cell_type": "code",
   "execution_count": 14,
   "id": "f9b4c4dc",
   "metadata": {},
   "outputs": [
    {
     "data": {
      "text/plain": [
       "'Spiderwoman'"
      ]
     },
     "execution_count": 14,
     "metadata": {},
     "output_type": "execute_result"
    }
   ],
   "source": [
    "s1 = SpiderRegex.search('The latest movie of Spiderwoman')\n",
    "s1.group()"
   ]
  },
  {
   "cell_type": "markdown",
   "id": "c4422855",
   "metadata": {},
   "source": [
    "**Q.10.** In regular expressions, what is the difference between the <font color = darkviolet>+</font> and <font color = darkviolet>*</font> characters?"
   ]
  },
  {
   "cell_type": "markdown",
   "id": "7692781a",
   "metadata": {},
   "source": [
    "**Answer :-**"
   ]
  },
  {
   "cell_type": "markdown",
   "id": "fa1b68e0",
   "metadata": {},
   "source": [
    "In the regular expression the difference between `+` and `*` is :\n",
    "\n",
    "- `+` means **1 or many** (at least one occurrence for the match to succeed)\n",
    "- `*` means **0 or many** (the match succeeds regardless of the presence of the search string)"
   ]
  },
  {
   "cell_type": "markdown",
   "id": "a24017eb",
   "metadata": {},
   "source": [
    "**Example :-**"
   ]
  },
  {
   "cell_type": "markdown",
   "id": "98871002",
   "metadata": {},
   "source": [
    "Example using <font color = darkviolet>+</font> :"
   ]
  },
  {
   "cell_type": "code",
   "execution_count": 15,
   "id": "b589d8e0",
   "metadata": {},
   "outputs": [
    {
     "data": {
      "text/plain": [
       "['123']"
      ]
     },
     "execution_count": 15,
     "metadata": {},
     "output_type": "execute_result"
    }
   ],
   "source": [
    "re.findall(r'[0-9]+', 'abc123xyz')"
   ]
  },
  {
   "cell_type": "code",
   "execution_count": 16,
   "id": "1968f59e",
   "metadata": {},
   "outputs": [
    {
     "data": {
      "text/plain": [
       "[]"
      ]
     },
     "execution_count": 16,
     "metadata": {},
     "output_type": "execute_result"
    }
   ],
   "source": [
    "re.findall(r'9+', 'abc123xyz')"
   ]
  },
  {
   "cell_type": "markdown",
   "id": "1fca18c8",
   "metadata": {},
   "source": [
    "Example using <font color = darkviolet>*</font> :"
   ]
  },
  {
   "cell_type": "code",
   "execution_count": 17,
   "id": "5bacd81a",
   "metadata": {},
   "outputs": [
    {
     "data": {
      "text/plain": [
       "['abc', '', '', '', 'xyz', '']"
      ]
     },
     "execution_count": 17,
     "metadata": {},
     "output_type": "execute_result"
    }
   ],
   "source": [
    "re.findall(r'[a-z]*', 'abc123xyz')"
   ]
  },
  {
   "cell_type": "code",
   "execution_count": 18,
   "id": "e28bd555",
   "metadata": {},
   "outputs": [
    {
     "data": {
      "text/plain": [
       "['a', '', '', '', '', '', '', '', '', '']"
      ]
     },
     "execution_count": 18,
     "metadata": {},
     "output_type": "execute_result"
    }
   ],
   "source": [
    "re.findall(r'a*', 'abc123xyz')"
   ]
  },
  {
   "cell_type": "markdown",
   "id": "5a7c18bb",
   "metadata": {},
   "source": [
    "**Q.11.** What is the difference between `{4}` and `{4,5}` in regular expression?"
   ]
  },
  {
   "cell_type": "markdown",
   "id": "b75387aa",
   "metadata": {},
   "source": [
    "**Answer :-**"
   ]
  },
  {
   "cell_type": "markdown",
   "id": "fcdfb2e6",
   "metadata": {},
   "source": [
    "The difference between `{4}` and `{4,5}` is :\n",
    "    \n",
    "- The `{4}` matches exactly four instances of the preceding group.\n",
    "\n",
    "- The `{4,5}` matches between four and five instances."
   ]
  },
  {
   "cell_type": "markdown",
   "id": "9f2c91c1",
   "metadata": {},
   "source": [
    "**Q.12.** What do you mean by the `\\d`, `\\w`, and `\\s` shorthand character classes signify in regular\n",
    "expressions?"
   ]
  },
  {
   "cell_type": "markdown",
   "id": "0d5311a1",
   "metadata": {},
   "source": [
    "**Answer :-**"
   ]
  },
  {
   "cell_type": "markdown",
   "id": "207e1461",
   "metadata": {},
   "source": [
    "`\\d` : Stands for single digit, Any numeric digit from 0 to 9.\n",
    "\n",
    "`\\w` : Stands for single word, Any letter, numeric digit, or the underscore character.\n",
    "\n",
    "`\\s` : Stands for single space character, Any space, tab, or newline character."
   ]
  },
  {
   "cell_type": "markdown",
   "id": "99276de2",
   "metadata": {},
   "source": [
    "**Q.13.** What do means by `\\D`, `\\W`, and `\\S` shorthand character classes signify in regular expressions?"
   ]
  },
  {
   "cell_type": "markdown",
   "id": "a8b8cc26",
   "metadata": {},
   "source": [
    "**Answer :-**"
   ]
  },
  {
   "cell_type": "markdown",
   "id": "ac04da87",
   "metadata": {},
   "source": [
    "`\\D` : Any character that is not a numeric digit from 0 to 9.\n",
    "\n",
    "`\\W` : Any character that is not a letter, numeric digit, or the underscore character.\n",
    "\n",
    "`\\S` : Any character that is not a space, tab, or newline."
   ]
  },
  {
   "cell_type": "markdown",
   "id": "d4e596a0",
   "metadata": {},
   "source": [
    "**Q.14.** What is the difference between `.*?` and `.*`?"
   ]
  },
  {
   "cell_type": "markdown",
   "id": "77531d34",
   "metadata": {},
   "source": [
    "**Answer :-**"
   ]
  },
  {
   "cell_type": "markdown",
   "id": "373d8bca",
   "metadata": {},
   "source": [
    "`.*` : The dot-star uses greedy mode: It will always try to match as much text as possible.\n",
    "        \n",
    "`.*?` : To match any and all text in a non-greedy fashion, use the dot, star, and question mark (.*?). "
   ]
  },
  {
   "cell_type": "markdown",
   "id": "d75cd747",
   "metadata": {},
   "source": [
    "**Example :-**"
   ]
  },
  {
   "cell_type": "code",
   "execution_count": 19,
   "id": "4ba69166",
   "metadata": {},
   "outputs": [
    {
     "data": {
      "text/plain": [
       "'<This is my> 7th Assignment.>'"
      ]
     },
     "execution_count": 19,
     "metadata": {},
     "output_type": "execute_result"
    }
   ],
   "source": [
    "#Greedy fashion using (.*)\n",
    "\n",
    "GreedyRegex = re.compile(r'<.*>')\n",
    "g = GreedyRegex.search('<This is my> 7th Assignment.>')\n",
    "g.group()"
   ]
  },
  {
   "cell_type": "code",
   "execution_count": 20,
   "id": "a854a092",
   "metadata": {},
   "outputs": [
    {
     "data": {
      "text/plain": [
       "'<This is my>'"
      ]
     },
     "execution_count": 20,
     "metadata": {},
     "output_type": "execute_result"
    }
   ],
   "source": [
    "#Non Greedy fashion using (.*?)\n",
    "\n",
    "NonGreedyRegex = re.compile(r'<.*?>')\n",
    "g1 = NonGreedyRegex.search('<This is my> 7th Assignment.>')\n",
    "g1.group()"
   ]
  },
  {
   "cell_type": "markdown",
   "id": "fbbabfbc",
   "metadata": {},
   "source": [
    "**Q.15.** What is the syntax for matching both numbers and lowercase letters with a character class?"
   ]
  },
  {
   "cell_type": "markdown",
   "id": "759d9bd5",
   "metadata": {},
   "source": [
    "**Answer :-**"
   ]
  },
  {
   "cell_type": "markdown",
   "id": "d56373bf",
   "metadata": {},
   "source": [
    "The syntax of for matching both numbers and lowercase letters with a character class is either using `[0-9a-z]` or `[a-z0-9]`."
   ]
  },
  {
   "cell_type": "markdown",
   "id": "8812a9b1",
   "metadata": {},
   "source": [
    "**Example :-**"
   ]
  },
  {
   "cell_type": "code",
   "execution_count": 21,
   "id": "078b847a",
   "metadata": {},
   "outputs": [
    {
     "data": {
      "text/plain": [
       "'1'"
      ]
     },
     "execution_count": 21,
     "metadata": {},
     "output_type": "execute_result"
    }
   ],
   "source": [
    "reg = re.compile(r'[0-9a-z]')\n",
    "\n",
    "mo1 = reg.search('1000 of times I am trying to solve my problem')\n",
    "mo1.group()"
   ]
  },
  {
   "cell_type": "code",
   "execution_count": 22,
   "id": "49719855",
   "metadata": {},
   "outputs": [
    {
     "data": {
      "text/plain": [
       "'a'"
      ]
     },
     "execution_count": 22,
     "metadata": {},
     "output_type": "execute_result"
    }
   ],
   "source": [
    "regg = re.compile(r'[a-z0-9]')\n",
    "\n",
    "mo2 = regg.search('I am trying to solve my problem 1000 times')\n",
    "mo2.group()"
   ]
  },
  {
   "cell_type": "markdown",
   "id": "1ad34099",
   "metadata": {},
   "source": [
    "**Q.16.** What is the procedure for making a normal expression in regax case insensitive?"
   ]
  },
  {
   "cell_type": "markdown",
   "id": "39cf0d3e",
   "metadata": {},
   "source": [
    "**Answer :-**"
   ]
  },
  {
   "cell_type": "markdown",
   "id": "ce361193",
   "metadata": {},
   "source": [
    "Passing `re.I` or `re.IGNORECASE` as the second argument to `re.compile()` will make the matching case insensitive."
   ]
  },
  {
   "cell_type": "markdown",
   "id": "f26925ab",
   "metadata": {},
   "source": [
    "**Example :-**"
   ]
  },
  {
   "cell_type": "code",
   "execution_count": 23,
   "id": "531def7d",
   "metadata": {},
   "outputs": [
    {
     "data": {
      "text/plain": [
       "'Mobile'"
      ]
     },
     "execution_count": 23,
     "metadata": {},
     "output_type": "execute_result"
    }
   ],
   "source": [
    "C_Sensitive = re.compile(r'Mobile', re.I)\n",
    "C_Sensitive.search('Mobile is know our day to day life').group()"
   ]
  },
  {
   "cell_type": "markdown",
   "id": "8568ff55",
   "metadata": {},
   "source": [
    "**Q.17.** What does the `.` character normally match? What does it match if `re.DOTALL` is passed as 2nd\n",
    "argument in `re.compile()`?"
   ]
  },
  {
   "cell_type": "markdown",
   "id": "77a173f4",
   "metadata": {},
   "source": [
    "**Answer :-**"
   ]
  },
  {
   "cell_type": "markdown",
   "id": "5977e886",
   "metadata": {},
   "source": [
    "The `.` character normally matches any character except the newline character.\n",
    "\n",
    "If `re.DOTALL` is passed as the second argument to `re.compile()`, then the dot(.) will also match newline characters."
   ]
  },
  {
   "cell_type": "markdown",
   "id": "235c3ac6",
   "metadata": {},
   "source": [
    "**Q.18.** If `numReg = re.compile(r'\\d+')`, what will `numRegex.sub('X', '11 drummers, 10 pipers, five rings, 4 hen')` return?"
   ]
  },
  {
   "cell_type": "markdown",
   "id": "6bddea37",
   "metadata": {},
   "source": [
    "**Answer :-**"
   ]
  },
  {
   "cell_type": "code",
   "execution_count": 24,
   "id": "ac035f8d",
   "metadata": {},
   "outputs": [
    {
     "data": {
      "text/plain": [
       "'X drummers, X pipers, five rings, X hen'"
      ]
     },
     "execution_count": 24,
     "metadata": {},
     "output_type": "execute_result"
    }
   ],
   "source": [
    "numRegex = re.compile(r'\\d+')\n",
    "re = numRegex.sub('X', '11 drummers, 10 pipers, five rings, 4 hen')\n",
    "re"
   ]
  },
  {
   "cell_type": "markdown",
   "id": "90181549",
   "metadata": {},
   "source": [
    "After running given codes it will return output : 'X drummers, X pipers, five rings, X hen'"
   ]
  },
  {
   "cell_type": "markdown",
   "id": "8524bc60",
   "metadata": {},
   "source": [
    "**Q.19.** What does passing `re.VERBOSE` as the 2nd argument to `re.compile()` allow to do?"
   ]
  },
  {
   "cell_type": "markdown",
   "id": "b998a92d",
   "metadata": {},
   "source": [
    "**Answer :-**"
   ]
  },
  {
   "cell_type": "markdown",
   "id": "f0c99fe2",
   "metadata": {},
   "source": [
    "The `re.VERBOSE` argument allows you to add whitespace and comments to the string passed to `re.compile()`."
   ]
  },
  {
   "cell_type": "markdown",
   "id": "65fbfb3c",
   "metadata": {},
   "source": [
    "**Q.20.** How would you write a regex that match a number with comma for every three digits? It must\n",
    "match the given following :\n",
    "```python    \n",
    "     '42'\n",
    "    '1,234'\n",
    "    '6,368,745'\n",
    "```\n",
    "but not the following :\n",
    "```python    \n",
    "     '12,34,567' (which has only two digits between the commas)\n",
    "    '1234' (which lacks commas)\n",
    "```   "
   ]
  },
  {
   "cell_type": "markdown",
   "id": "442db7c2",
   "metadata": {},
   "source": [
    "**Answer :-**"
   ]
  },
  {
   "cell_type": "markdown",
   "id": "6486ab22",
   "metadata": {},
   "source": [
    "`re.compile(r'^\\d{1,3}(,\\d{3})*$')` match a number with comma for every three digits."
   ]
  },
  {
   "cell_type": "code",
   "execution_count": 25,
   "id": "8b905d1e",
   "metadata": {},
   "outputs": [
    {
     "data": {
      "text/plain": [
       "'42'"
      ]
     },
     "execution_count": 25,
     "metadata": {},
     "output_type": "execute_result"
    }
   ],
   "source": [
    "import re\n",
    "\n",
    "reg = re.compile(r'^\\d{1,3}(,\\d{3})*$')\n",
    "mo = reg.search('42')\n",
    "mo.group()"
   ]
  },
  {
   "cell_type": "code",
   "execution_count": 26,
   "id": "5f3dd73a",
   "metadata": {},
   "outputs": [
    {
     "data": {
      "text/plain": [
       "'1,234'"
      ]
     },
     "execution_count": 26,
     "metadata": {},
     "output_type": "execute_result"
    }
   ],
   "source": [
    "reg = re.compile(r'^\\d{1,3}(,\\d{3})*$')\n",
    "mo = reg.search('1,234')\n",
    "mo.group()"
   ]
  },
  {
   "cell_type": "code",
   "execution_count": 27,
   "id": "a141d6f4",
   "metadata": {},
   "outputs": [
    {
     "data": {
      "text/plain": [
       "'6,368,745'"
      ]
     },
     "execution_count": 27,
     "metadata": {},
     "output_type": "execute_result"
    }
   ],
   "source": [
    "reg = re.compile(r'^\\d{1,3}(,\\d{3})*$')\n",
    "mo = reg.search('6,368,745')\n",
    "mo.group()"
   ]
  },
  {
   "cell_type": "code",
   "execution_count": 28,
   "id": "1c6a447b",
   "metadata": {},
   "outputs": [
    {
     "ename": "AttributeError",
     "evalue": "'NoneType' object has no attribute 'group'",
     "output_type": "error",
     "traceback": [
      "\u001b[1;31m---------------------------------------------------------------------------\u001b[0m",
      "\u001b[1;31mAttributeError\u001b[0m                            Traceback (most recent call last)",
      "\u001b[1;32m<ipython-input-28-89d8ee4a36e1>\u001b[0m in \u001b[0;36m<module>\u001b[1;34m\u001b[0m\n\u001b[0;32m      3\u001b[0m \u001b[0mreg\u001b[0m \u001b[1;33m=\u001b[0m \u001b[0mre\u001b[0m\u001b[1;33m.\u001b[0m\u001b[0mcompile\u001b[0m\u001b[1;33m(\u001b[0m\u001b[1;34mr'^\\d{1,3}(,\\d{3})*$'\u001b[0m\u001b[1;33m)\u001b[0m\u001b[1;33m\u001b[0m\u001b[1;33m\u001b[0m\u001b[0m\n\u001b[0;32m      4\u001b[0m \u001b[0mmo\u001b[0m \u001b[1;33m=\u001b[0m \u001b[0mreg\u001b[0m\u001b[1;33m.\u001b[0m\u001b[0msearch\u001b[0m\u001b[1;33m(\u001b[0m\u001b[1;34m'12,34,567'\u001b[0m\u001b[1;33m)\u001b[0m\u001b[1;33m\u001b[0m\u001b[1;33m\u001b[0m\u001b[0m\n\u001b[1;32m----> 5\u001b[1;33m \u001b[0mmo\u001b[0m\u001b[1;33m.\u001b[0m\u001b[0mgroup\u001b[0m\u001b[1;33m(\u001b[0m\u001b[1;33m)\u001b[0m\u001b[1;33m\u001b[0m\u001b[1;33m\u001b[0m\u001b[0m\n\u001b[0m",
      "\u001b[1;31mAttributeError\u001b[0m: 'NoneType' object has no attribute 'group'"
     ]
    }
   ],
   "source": [
    "#This progarm for not the following\n",
    "\n",
    "reg = re.compile(r'^\\d{1,3}(,\\d{3})*$')\n",
    "mo = reg.search('12,34,567')\n",
    "mo.group()"
   ]
  },
  {
   "cell_type": "markdown",
   "id": "be8b2922",
   "metadata": {},
   "source": [
    "**Q.21.** How would you write a regex that matches the full name of someone whose last name is\n",
    "Watanabe? You can assume that the first name that comes before it will always be one word that\n",
    "begins with a capital letter. The regex must match the following :\n",
    "```python\n",
    "     'Haruto Watanabe'\n",
    "    'Alice Watanabe'\n",
    "    'RoboCop Watanabe'\n",
    "```\n",
    "but not the following :\n",
    "```python\n",
    "     'haruto Watanabe' (where the first name is not capitalized)\n",
    "    'Mr. Watanabe' (where the preceding word has a nonletter character)\n",
    "    'Watanabe' (which has no first name)\n",
    "    'Haruto watanabe' (where Watanabe is not capitalized)\n",
    "```    "
   ]
  },
  {
   "cell_type": "markdown",
   "id": "edc7e826",
   "metadata": {},
   "source": [
    "**Answer :-**"
   ]
  },
  {
   "cell_type": "code",
   "execution_count": 29,
   "id": "ba194428",
   "metadata": {},
   "outputs": [
    {
     "data": {
      "text/plain": [
       "'Haruto Watanabe'"
      ]
     },
     "execution_count": 29,
     "metadata": {},
     "output_type": "execute_result"
    }
   ],
   "source": [
    "name = re.compile(r'[A-Z][a-z]*\\sWatanabe')\n",
    "reg = re.compile(r'^\\d{1,3}(,\\d{haruto Watanabe3})*$')\n",
    "mo1 = name.search('Haruto Watanabe')\n",
    "mo1.group()"
   ]
  },
  {
   "cell_type": "code",
   "execution_count": 30,
   "id": "1f947e3b",
   "metadata": {},
   "outputs": [
    {
     "data": {
      "text/plain": [
       "'Alice Watanabe'"
      ]
     },
     "execution_count": 30,
     "metadata": {},
     "output_type": "execute_result"
    }
   ],
   "source": [
    "name = re.compile(r'[A-Z][a-z]*\\sWatanabe')\n",
    "reg = re.compile(r'^\\d{1,3}(,\\d{3})*$')\n",
    "mo2 = name.search('Alice Watanabe')\n",
    "mo2.group()"
   ]
  },
  {
   "cell_type": "code",
   "execution_count": 31,
   "id": "8842d561",
   "metadata": {},
   "outputs": [
    {
     "data": {
      "text/plain": [
       "'Robocop Watanabe'"
      ]
     },
     "execution_count": 31,
     "metadata": {},
     "output_type": "execute_result"
    }
   ],
   "source": [
    "name = re.compile(r'[A-Z][a-z]*\\sWatanabe')\n",
    "reg = re.compile(r'^\\d{1,3}(,\\d{3})*$')\n",
    "mo3 = name.search('Robocop Watanabe')\n",
    "mo3.group()"
   ]
  },
  {
   "cell_type": "code",
   "execution_count": 32,
   "id": "d3756825",
   "metadata": {},
   "outputs": [
    {
     "ename": "AttributeError",
     "evalue": "'NoneType' object has no attribute 'group'",
     "output_type": "error",
     "traceback": [
      "\u001b[1;31m---------------------------------------------------------------------------\u001b[0m",
      "\u001b[1;31mAttributeError\u001b[0m                            Traceback (most recent call last)",
      "\u001b[1;32m<ipython-input-32-c8754cb6f248>\u001b[0m in \u001b[0;36m<module>\u001b[1;34m\u001b[0m\n\u001b[0;32m      4\u001b[0m \u001b[0mreg\u001b[0m \u001b[1;33m=\u001b[0m \u001b[0mre\u001b[0m\u001b[1;33m.\u001b[0m\u001b[0mcompile\u001b[0m\u001b[1;33m(\u001b[0m\u001b[1;34mr'^\\d{1,3}(,\\d{3})*$'\u001b[0m\u001b[1;33m)\u001b[0m\u001b[1;33m\u001b[0m\u001b[1;33m\u001b[0m\u001b[0m\n\u001b[0;32m      5\u001b[0m \u001b[0mmo4\u001b[0m \u001b[1;33m=\u001b[0m \u001b[0mname\u001b[0m\u001b[1;33m.\u001b[0m\u001b[0msearch\u001b[0m\u001b[1;33m(\u001b[0m\u001b[1;34m'haruto Watanabe'\u001b[0m\u001b[1;33m)\u001b[0m\u001b[1;33m\u001b[0m\u001b[1;33m\u001b[0m\u001b[0m\n\u001b[1;32m----> 6\u001b[1;33m \u001b[0mmo4\u001b[0m\u001b[1;33m.\u001b[0m\u001b[0mgroup\u001b[0m\u001b[1;33m(\u001b[0m\u001b[1;33m)\u001b[0m\u001b[1;33m\u001b[0m\u001b[1;33m\u001b[0m\u001b[0m\n\u001b[0m",
      "\u001b[1;31mAttributeError\u001b[0m: 'NoneType' object has no attribute 'group'"
     ]
    }
   ],
   "source": [
    "#This progarm for not the following\n",
    "\n",
    "name = re.compile(r'[A-Z][a-z]*\\sWatanabe')\n",
    "reg = re.compile(r'^\\d{1,3}(,\\d{3})*$')\n",
    "mo4 = name.search('haruto Watanabe')\n",
    "mo4.group()"
   ]
  },
  {
   "cell_type": "markdown",
   "id": "9747e8c7",
   "metadata": {},
   "source": [
    "**Q.22.** How would you write a regex that matches a sentence where the first word is either Alice, Bob,\n",
    "or Carol; the second word is either eats, pets, or throws; the third word is apples, cats, or baseballs;\n",
    "and the sentence ends with a period? This regex should be case-insensitive. It must match the\n",
    "following :\n",
    "```python    \n",
    "     'Alice eats apples.'\n",
    "    'Bob pets cats.'\n",
    "    'Carol throws baseballs.'\n",
    "    'Alice throws Apples.'\n",
    "    'BOB EATS CATS.'\n",
    "```\n",
    "but not the following :\n",
    "```python\n",
    "     'RoboCop eats apples.'\n",
    "    'ALICE THROWS FOOTBALLS.'\n",
    "    'Carol eats 7 cats.'\n",
    "```"
   ]
  },
  {
   "cell_type": "markdown",
   "id": "5946e4e6",
   "metadata": {},
   "source": [
    "**Answer :-**"
   ]
  },
  {
   "cell_type": "code",
   "execution_count": 33,
   "id": "beed708a",
   "metadata": {},
   "outputs": [
    {
     "data": {
      "text/plain": [
       "'Alice eats apples.'"
      ]
     },
     "execution_count": 33,
     "metadata": {},
     "output_type": "execute_result"
    }
   ],
   "source": [
    "name = re.compile(r'(Alice|Bob|Carol)\\s(eats|pets|throws)\\s(apples|cats|baseballs)\\.', re.IGNORECASE)\n",
    "\n",
    "mo1 = name.search('Alice eats apples.')\n",
    "mo1.group()"
   ]
  },
  {
   "cell_type": "code",
   "execution_count": 34,
   "id": "94a780d4",
   "metadata": {},
   "outputs": [
    {
     "data": {
      "text/plain": [
       "'Bob pets cats.'"
      ]
     },
     "execution_count": 34,
     "metadata": {},
     "output_type": "execute_result"
    }
   ],
   "source": [
    "name = re.compile(r'(Alice|Bob|Carol)\\s(eats|pets|throws)\\s(apples|cats|baseballs)\\.', re.IGNORECASE)\n",
    "\n",
    "mo2 = name.search('Bob pets cats.')\n",
    "mo2.group()"
   ]
  },
  {
   "cell_type": "code",
   "execution_count": 35,
   "id": "af353f88",
   "metadata": {},
   "outputs": [
    {
     "data": {
      "text/plain": [
       "'Carol throws baseballs.'"
      ]
     },
     "execution_count": 35,
     "metadata": {},
     "output_type": "execute_result"
    }
   ],
   "source": [
    "name = re.compile(r'(Alice|Bob|Carol)\\s(eats|pets|throws)\\s(apples|cats|baseballs)\\.', re.IGNORECASE)\n",
    "\n",
    "mo3 = name.search('Carol throws baseballs.')\n",
    "mo3.group()"
   ]
  },
  {
   "cell_type": "code",
   "execution_count": 36,
   "id": "b44c4a30",
   "metadata": {},
   "outputs": [
    {
     "data": {
      "text/plain": [
       "'Alice throws Apples.'"
      ]
     },
     "execution_count": 36,
     "metadata": {},
     "output_type": "execute_result"
    }
   ],
   "source": [
    "name = re.compile(r'(Alice|Bob|Carol)\\s(eats|pets|throws)\\s(apples|cats|baseballs)\\.', re.IGNORECASE)\n",
    "\n",
    "mo4 = name.search('Alice throws Apples.')\n",
    "mo4.group()"
   ]
  },
  {
   "cell_type": "code",
   "execution_count": 37,
   "id": "bf21b3c1",
   "metadata": {},
   "outputs": [
    {
     "data": {
      "text/plain": [
       "'BOB EATS CATS.'"
      ]
     },
     "execution_count": 37,
     "metadata": {},
     "output_type": "execute_result"
    }
   ],
   "source": [
    "name = re.compile(r'(Alice|Bob|Carol)\\s(eats|pets|throws)\\s(apples|cats|baseballs)\\.', re.IGNORECASE)\n",
    "\n",
    "mo5 = name.search('BOB EATS CATS.')\n",
    "mo5.group()"
   ]
  },
  {
   "cell_type": "code",
   "execution_count": 38,
   "id": "0d0a856b",
   "metadata": {},
   "outputs": [
    {
     "ename": "AttributeError",
     "evalue": "'NoneType' object has no attribute 'group'",
     "output_type": "error",
     "traceback": [
      "\u001b[1;31m---------------------------------------------------------------------------\u001b[0m",
      "\u001b[1;31mAttributeError\u001b[0m                            Traceback (most recent call last)",
      "\u001b[1;32m<ipython-input-38-4135373e6c7a>\u001b[0m in \u001b[0;36m<module>\u001b[1;34m\u001b[0m\n\u001b[0;32m      4\u001b[0m \u001b[1;33m\u001b[0m\u001b[0m\n\u001b[0;32m      5\u001b[0m \u001b[0mmo1\u001b[0m \u001b[1;33m=\u001b[0m \u001b[0mname\u001b[0m\u001b[1;33m.\u001b[0m\u001b[0msearch\u001b[0m\u001b[1;33m(\u001b[0m\u001b[1;34m'RoboCop eats apples.'\u001b[0m\u001b[1;33m)\u001b[0m\u001b[1;33m\u001b[0m\u001b[1;33m\u001b[0m\u001b[0m\n\u001b[1;32m----> 6\u001b[1;33m \u001b[0mmo1\u001b[0m\u001b[1;33m.\u001b[0m\u001b[0mgroup\u001b[0m\u001b[1;33m(\u001b[0m\u001b[1;33m)\u001b[0m\u001b[1;33m\u001b[0m\u001b[1;33m\u001b[0m\u001b[0m\n\u001b[0m",
      "\u001b[1;31mAttributeError\u001b[0m: 'NoneType' object has no attribute 'group'"
     ]
    }
   ],
   "source": [
    "#This progarm for not the following\n",
    "\n",
    "name = re.compile(r'(Alice|Bob|Carol)\\s(eats|pets|throws)\\s(apples|cats|baseballs)\\.', re.IGNORECASE)\n",
    "\n",
    "mo1 = name.search('RoboCop eats apples.')\n",
    "mo1.group()"
   ]
  }
 ],
 "metadata": {
  "kernelspec": {
   "display_name": "Python 3",
   "language": "python",
   "name": "python3"
  },
  "language_info": {
   "codemirror_mode": {
    "name": "ipython",
    "version": 3
   },
   "file_extension": ".py",
   "mimetype": "text/x-python",
   "name": "python",
   "nbconvert_exporter": "python",
   "pygments_lexer": "ipython3",
   "version": "3.8.8"
  }
 },
 "nbformat": 4,
 "nbformat_minor": 5
}
